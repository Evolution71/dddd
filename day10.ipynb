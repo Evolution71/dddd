{
 "cells": [
  {
   "cell_type": "code",
   "execution_count": 4,
   "id": "9d3f4b04-3c9e-4c4c-a99e-d4f5686607b7",
   "metadata": {},
   "outputs": [
    {
     "name": "stdin",
     "output_type": "stream",
     "text": [
      "Enter the car brand: BMW\n",
      "Enter the car model: 255.5\n",
      "Enter the car colour: Navy Blue\n",
      "Enter the car year: 2025\n",
      "Enter the car speed: 1000\n"
     ]
    }
   ],
   "source": [
    "class car_simulation:\n",
    "    def __init__(self):\n",
    "        self.brand = input('Enter the car brand:')\n",
    "        self.model = float(input('Enter the car model:'))\n",
    "        self.color = input('Enter the car colour:')\n",
    "        self.year = int(input('Enter the car year:'))\n",
    "        self.speed = float(input('Enter the car speed:'))\n",
    "    def start(self):\n",
    "        print(f'{self.brand} {self.model} engine start')\n",
    "    def change_gear(self):\n",
    "        option = input('Choose gear option [1,2,3,4,5,R]').lower()\n",
    "        if option=='1':\n",
    "            print('Gear placed on 1')\n",
    "        elif option=='2':\n",
    "            print('Gear placed on 2')\n",
    "        elif option=='3':\n",
    "            print('Gear placed on 3')\n",
    "        elif option=='4':\n",
    "            print('Gear placed on 4')\n",
    "        elif option=='5':\n",
    "            print('Gear placed on 5')\n",
    "        elif option=='R':\n",
    "            print('Gear placed on R')\n",
    "    def acceleration(self):\n",
    "        option = input('Choose Acceleration or Turbo Option [ON/OFF]').lower()\n",
    "        if option=='off':\n",
    "            print('Turbo discharged')\n",
    "    def stop(self):\n",
    "        print(f'{self.brand} {self.model} engine stop')\n",
    "program = car_simulation()\n",
    "        \n",
    "        \n",
    "        \n",
    "        \n",
    "        \n",
    "        "
   ]
  },
  {
   "cell_type": "code",
   "execution_count": 5,
   "id": "0fd16cb5-ebe3-441b-8617-5ec4e9833891",
   "metadata": {},
   "outputs": [
    {
     "name": "stdin",
     "output_type": "stream",
     "text": [
      "Choose gear option [1,2,3,4,5,R] 3\n"
     ]
    },
    {
     "name": "stdout",
     "output_type": "stream",
     "text": [
      "Gear placed on 3\n"
     ]
    }
   ],
   "source": [
    "program.change_gear()"
   ]
  },
  {
   "cell_type": "code",
   "execution_count": 6,
   "id": "9c9b5868-9662-46b9-b729-b34e02bdf7f0",
   "metadata": {},
   "outputs": [
    {
     "name": "stdin",
     "output_type": "stream",
     "text": [
      "Choose Acceleration or Turbo Option [ON/OFF] on\n"
     ]
    }
   ],
   "source": [
    "program.acceleration()"
   ]
  },
  {
   "cell_type": "code",
   "execution_count": 7,
   "id": "55b85f75-080c-4856-a918-f2ebb86dfcb6",
   "metadata": {},
   "outputs": [
    {
     "name": "stdout",
     "output_type": "stream",
     "text": [
      "BMW 255.5 engine stop\n"
     ]
    }
   ],
   "source": [
    "program.stop()"
   ]
  },
  {
   "cell_type": "code",
   "execution_count": 8,
   "id": "4a749c54-83d9-40ed-bc73-46a513c93693",
   "metadata": {},
   "outputs": [
    {
     "name": "stdin",
     "output_type": "stream",
     "text": [
      "Enter the car brand: BMW EVO\n",
      "Enter the car model: 255.5\n",
      "Enter the car colour: Navy Blue\n",
      "Enter the car year: 2025\n",
      "Enter the car speed: 1000\n"
     ]
    }
   ],
   "source": [
    "class newsimulation(car_simulation):\n",
    "    def openroof(self):\n",
    "        option = input('Choose open roof option [open/close]:').lower()\n",
    "        if option == 'open':\n",
    "            print('Car roof opening')\n",
    "        elif option == 'close':\n",
    "            print('Car roof closing')\n",
    "program = newsimulation()"
   ]
  },
  {
   "cell_type": "code",
   "execution_count": 9,
   "id": "b6781c81-6510-456c-82ed-e27ca2f79e4a",
   "metadata": {},
   "outputs": [
    {
     "name": "stdout",
     "output_type": "stream",
     "text": [
      "BMW EVO 255.5 engine start\n"
     ]
    }
   ],
   "source": [
    "program.start()"
   ]
  },
  {
   "cell_type": "code",
   "execution_count": 10,
   "id": "aa8e5716-533f-4d2e-b547-c43a39802286",
   "metadata": {},
   "outputs": [
    {
     "name": "stdin",
     "output_type": "stream",
     "text": [
      "Choose open roof option [open/close]: open\n"
     ]
    },
    {
     "name": "stdout",
     "output_type": "stream",
     "text": [
      "Car roof opening\n"
     ]
    }
   ],
   "source": [
    "program.openroof()"
   ]
  },
  {
   "cell_type": "code",
   "execution_count": null,
   "id": "b969f34d-a600-46c1-a0bb-17d59c1db1c3",
   "metadata": {},
   "outputs": [],
   "source": []
  }
 ],
 "metadata": {
  "kernelspec": {
   "display_name": "Python 3 (ipykernel)",
   "language": "python",
   "name": "python3"
  },
  "language_info": {
   "codemirror_mode": {
    "name": "ipython",
    "version": 3
   },
   "file_extension": ".py",
   "mimetype": "text/x-python",
   "name": "python",
   "nbconvert_exporter": "python",
   "pygments_lexer": "ipython3",
   "version": "3.11.7"
  }
 },
 "nbformat": 4,
 "nbformat_minor": 5
}
