{
 "cells": [
  {
   "cell_type": "code",
   "execution_count": 36,
   "id": "e6086ca0-d500-4153-9468-fd01c8c069c6",
   "metadata": {},
   "outputs": [
    {
     "name": "stdin",
     "output_type": "stream",
     "text": [
      "Enter item names: bag\n",
      "Enter the shipping price: 2\n",
      "Enter the weight of the item inkg: 2\n"
     ]
    },
    {
     "name": "stdout",
     "output_type": "stream",
     "text": [
      "Regions in Nigeria:\n",
      "1.North Central\n",
      "2.North East\n",
      "3.North West\n",
      "4.South East\n",
      "5.South South\n",
      "6.South West\n"
     ]
    },
    {
     "name": "stdin",
     "output_type": "stream",
     "text": [
      "Enter the region number(1-6): 6\n"
     ]
    },
    {
     "name": "stdout",
     "output_type": "stream",
     "text": [
      "The price and shipment fee for bag is 400 to SOUTH WEST\n"
     ]
    }
   ],
   "source": [
    "item_name = input('Enter item names:')\n",
    "item2 = int(input('Enter the shipping price:'))\n",
    "item3 = int(input('Enter the weight of the item in kg:'))\n",
    "## input Shipping Region\n",
    "print('Regions in Nigeria:')\n",
    "print('1.North Central')\n",
    "print('2.North East')\n",
    "print('3.North West')\n",
    "print('4.South East')\n",
    "print('5.South South')\n",
    "print('6.South West')\n",
    "region_choice = int(input('Enter the region number(1-6):'))\n",
    "## price per KG for each region\n",
    "north_central = 120\n",
    "north_east = 250\n",
    "north_west = 400\n",
    "south_east = 200\n",
    "south_south = 350\n",
    "south_west = 100\n",
    "# Total Price And Shipping Calculated\n",
    "if region_choice==1:\n",
    "    totalshipment = item3 * north_central\n",
    "    totalprice = item2 + totalshipment\n",
    "    print(f'The price and shipment fee for {item_name} is {totalprice} to NORTH CENTRAL')\n",
    "elif region_choice==2:\n",
    "    totalshipment = item3 * north_east\n",
    "    totalprice = item2 * totalshipment\n",
    "    print(f'The price and shipment fee for {item_name} is {totalprice} to NORTH EAST')\n",
    "elif region_choice ==3:\n",
    "    totalshipment = item3 * north_west\n",
    "    totalprice = item2 * totalshipment\n",
    "    print(f'The price and shipment fee for {item_name} is {totalprice} to NORTH WEST')\n",
    "elif region_choice==4:\n",
    "    totalshipment = item3 * south_east\n",
    "    totalprice = item2 * totalshipment\n",
    "    print(f'The price and shipment fee for {item_name} is {totalprice} to SOUTH EAST')\n",
    "elif region_choice==5:\n",
    "    totalshipment = item3 * south_south\n",
    "    totalprice = item2 * totalshipment\n",
    "    print(f'The price and shipment fee for {item_name} is {totalprice} to SOUTH SOUTH')\n",
    "elif region_choice==6:\n",
    "    totalshipment = item3 * south_west\n",
    "    totalprice = item2 * totalshipment\n",
    "    print(f'The price and shipment fee for {item_name} is {totalprice} to SOUTH WEST')\n",
    "    \n",
    "    \n",
    "\n",
    "\n",
    "\n"
   ]
  },
  {
   "cell_type": "code",
   "execution_count": 45,
   "id": "76ef655f-e525-47f2-a6da-3c3688a5736b",
   "metadata": {},
   "outputs": [
    {
     "name": "stdin",
     "output_type": "stream",
     "text": [
      "Enter your monthly salary after taxes and deduction: 50000\n"
     ]
    },
    {
     "name": "stdout",
     "output_type": "stream",
     "text": [
      "Your total expenses is 57500.0 and balance is -7500.0 your budget is not realistic\n"
     ]
    }
   ],
   "source": [
    "salary = float(input('Enter your monthly salary after taxes and deduction:'))\n",
    "## EXPENSES\n",
    "housing=(30/100)*salary\n",
    "food=(30/100)*salary\n",
    "transportation=(10/100)*salary\n",
    "insurance=(5/100)*salary\n",
    "savings=(15/100)*salary\n",
    "miscellaneous=(25/100)*salary\n",
    "total_expenses = housing + food + transportation + insurance +savings + miscellaneous\n",
    "balance_after_expenses = salary - total_expenses\n",
    "if salary > total_expenses:\n",
    "    print(f'The total expenses is {total_expenses} and balance is {balance_after_expenses} your budget is realistic')\n",
    "elif salary < total_expenses:\n",
    "    print(f'Your total expenses is {total_expenses} and balance is {balance_after_expenses} your budget is not realistic')\n",
    "elif salary == total_expenses:\n",
    "    print(f'Your total expenses is {total_expenses} amd balance is {balance_after_expenses} your budget is balanced')\n"
   ]
  },
  {
   "cell_type": "code",
   "execution_count": 49,
   "id": "519eb9a9-61ca-4436-89f6-3f8f674f4804",
   "metadata": {},
   "outputs": [
    {
     "name": "stdin",
     "output_type": "stream",
     "text": [
      "weight: 1000\n",
      "(L)bs or (K)g: K\n"
     ]
    },
    {
     "name": "stdout",
     "output_type": "stream",
     "text": [
      "You are 2222.0 pounds\n"
     ]
    }
   ],
   "source": [
    "weight = int(input('weight:'))\n",
    "unit = input('(L)bs or (K)g:')\n",
    "if unit.upper()=='L':\n",
    "    converted=weight*0.45\n",
    "    print(f'You are {converted} kilos')\n",
    "else:\n",
    "    converted=weight//0.45\n",
    "    print(f'You are {converted} pounds')"
   ]
  },
  {
   "cell_type": "code",
   "execution_count": null,
   "id": "3f9465b5-0ceb-4e1a-9b04-471dbf0b8606",
   "metadata": {},
   "outputs": [],
   "source": []
  }
 ],
 "metadata": {
  "kernelspec": {
   "display_name": "Python 3 (ipykernel)",
   "language": "python",
   "name": "python3"
  },
  "language_info": {
   "codemirror_mode": {
    "name": "ipython",
    "version": 3
   },
   "file_extension": ".py",
   "mimetype": "text/x-python",
   "name": "python",
   "nbconvert_exporter": "python",
   "pygments_lexer": "ipython3",
   "version": "3.11.7"
  }
 },
 "nbformat": 4,
 "nbformat_minor": 5
}
