{
 "cells": [
  {
   "cell_type": "code",
   "execution_count": 22,
   "id": "2aae84b0-6015-498f-8a1b-bd05c3cde898",
   "metadata": {},
   "outputs": [
    {
     "name": "stdin",
     "output_type": "stream",
     "text": [
      "Enter the first age: 45\n",
      "Enter the second age: 67\n",
      "Enter the third age: 8\n"
     ]
    },
    {
     "name": "stdout",
     "output_type": "stream",
     "text": [
      "The oldest is 67\n",
      "The youngest is 8\n"
     ]
    }
   ],
   "source": [
    "def finding_oldest_youngest():\n",
    "    age1=int(input('Enter the first age:'))\n",
    "    age2=int(input('Enter the second age:'))\n",
    "    age3=int(input('Enter the third age:'))\n",
    "    oldest=age1\n",
    "    youngest=age1\n",
    "    if age2 > oldest:\n",
    "        oldest=age2\n",
    "    if age2 < youngest:\n",
    "        youngest=age2\n",
    "    if age3 > oldest:\n",
    "        oldest=age3\n",
    "    if age3 < youngest:\n",
    "        youngest=age3\n",
    "    print(f'The oldest is {oldest}\\nThe youngest is {youngest}')\n",
    "finding_oldest_youngest()"
   ]
  },
  {
   "cell_type": "code",
   "execution_count": 23,
   "id": "29e3a1a3-6106-4a67-ae00-c075e9380fb1",
   "metadata": {},
   "outputs": [
    {
     "name": "stdout",
     "output_type": "stream",
     "text": [
      "The Average outcome is 108.4\n"
     ]
    }
   ],
   "source": [
    "def average(*numbers):## variable lenght functions on non_keyword\n",
    "    '''return the average of the given numbers.'''\n",
    "    outcome=sum(numbers)/len(numbers)\n",
    "    print(f'The Average outcome is {round(outcome,1)}')\n",
    "average(14,15,23,54,67,89,54,55,66,78,677)"
   ]
  },
  {
   "cell_type": "code",
   "execution_count": 21,
   "id": "47d837a1-c768-4361-96dd-4e1d90e4570c",
   "metadata": {},
   "outputs": [
    {
     "name": "stdout",
     "output_type": "stream",
     "text": [
      "The Average outcome is 67.4\n"
     ]
    }
   ],
   "source": [
    "score=[54,45,67,89,98,76,54,56] ##unpacking\n",
    "average(*score)"
   ]
  },
  {
   "cell_type": "code",
   "execution_count": 25,
   "id": "9da6182e-a352-4bc5-ab62-c97ea3ea0283",
   "metadata": {},
   "outputs": [
    {
     "name": "stdout",
     "output_type": "stream",
     "text": [
      "name :: Ade\n",
      "age :: 14\n",
      "Height :: 98\n"
     ]
    }
   ],
   "source": [
    "def details(**records):\n",
    "    for key,value in records.items():\n",
    "        print(key,'::',value)\n",
    "details(name='Ade',age=14,Height=98)"
   ]
  },
  {
   "cell_type": "code",
   "execution_count": 26,
   "id": "6513915a-810d-490b-b3e5-5be6eee7da21",
   "metadata": {},
   "outputs": [
    {
     "data": {
      "text/plain": [
       "14"
      ]
     },
     "execution_count": 26,
     "metadata": {},
     "output_type": "execute_result"
    }
   ],
   "source": [
    "(lambda x,y:x+y)(5,9)"
   ]
  },
  {
   "cell_type": "code",
   "execution_count": 36,
   "id": "19219cef-c720-42bd-88d9-32b417911b1f",
   "metadata": {},
   "outputs": [
    {
     "name": "stdin",
     "output_type": "stream",
     "text": [
      "Enter your password ertyyhhjj9999\n"
     ]
    },
    {
     "data": {
      "text/plain": [
       "'password is correct'"
      ]
     },
     "execution_count": 36,
     "metadata": {},
     "output_type": "execute_result"
    }
   ],
   "source": [
    "(lambda password: 'password is correct' if len(password) >=8 else 'password is incorrect')(input('Enter your password'))"
   ]
  },
  {
   "cell_type": "code",
   "execution_count": 30,
   "id": "3be8fc0f-665e-4a7c-94e1-028f4d61f456",
   "metadata": {},
   "outputs": [
    {
     "name": "stdout",
     "output_type": "stream",
     "text": [
      "['BOLA', 'ADE', 'BETTY', 'JAMES', 'BOB', 'JOB']\n"
     ]
    }
   ],
   "source": [
    "#map\n",
    "names=['Bola','Ade','Betty','James','Bob','Job']\n",
    "update=list(map(lambda x: x.upper(),names))\n",
    "print(update)"
   ]
  },
  {
   "cell_type": "code",
   "execution_count": 32,
   "id": "b16f92fb-a661-48f6-8923-1be847c7be28",
   "metadata": {},
   "outputs": [
    {
     "name": "stdout",
     "output_type": "stream",
     "text": [
      "['Bola', 'Betty', 'Bob']\n"
     ]
    }
   ],
   "source": [
    "#filter\n",
    "update=list(filter(lambda x: x.startswith('B'),names))\n",
    "print(update)"
   ]
  },
  {
   "cell_type": "code",
   "execution_count": null,
   "id": "14888dfe-ca70-4cc1-a69d-266d2d6b9e90",
   "metadata": {},
   "outputs": [],
   "source": [
    "## CODE FOR ASSIGNMENT\n",
    "numbers=[]\n",
    "import random\n",
    "counter=1\n",
    "while counter <=50:\n",
    "    num=random.randint(15,90)\n",
    "    numbers.append(num)\n",
    "    counter +=1\n",
    "print(numbers)"
   ]
  },
  {
   "cell_type": "code",
   "execution_count": null,
   "id": "c7d00dfc-293d-4c6c-9e4e-3e2833aec685",
   "metadata": {},
   "outputs": [],
   "source": [
    "## from generated numbers do the following\n",
    "#map\n",
    "find the sqrt,cos,sin,tan\n",
    "# filter\n",
    "# find the odd numbers and even numbers"
   ]
  },
  {
   "cell_type": "code",
   "execution_count": 51,
   "id": "5ec045c7-deba-42f8-9264-3128e465fc38",
   "metadata": {},
   "outputs": [
    {
     "name": "stdout",
     "output_type": "stream",
     "text": [
      "[53, 66, 26, 20, 20, 52, 71, 66, 47, 76, 56, 15, 57, 47, 80, 86, 34, 50, 66, 71, 87, 23, 38, 25, 63, 48, 79, 43, 80, 87, 56, 40, 49, 42, 34, 76, 71, 40, 54, 61, 75, 70, 36, 64, 67, 67, 60, 88, 33, 29]\n",
      "2744\n"
     ]
    }
   ],
   "source": [
    "numbers1=list(map(int,numbers))\n",
    "print(f'{numbers1}')\n",
    "numbers2=sum(numbers1)\n",
    "print(numbers2)"
   ]
  },
  {
   "cell_type": "code",
   "execution_count": 52,
   "id": "bf20a479-5998-4fee-b616-5458069ef640",
   "metadata": {},
   "outputs": [
    {
     "name": "stdout",
     "output_type": "stream",
     "text": [
      "['__doc__', '__loader__', '__name__', '__package__', '__spec__', 'acos', 'acosh', 'asin', 'asinh', 'atan', 'atan2', 'atanh', 'cbrt', 'ceil', 'comb', 'copysign', 'cos', 'cosh', 'degrees', 'dist', 'e', 'erf', 'erfc', 'exp', 'exp2', 'expm1', 'fabs', 'factorial', 'floor', 'fmod', 'frexp', 'fsum', 'gamma', 'gcd', 'hypot', 'inf', 'isclose', 'isfinite', 'isinf', 'isnan', 'isqrt', 'lcm', 'ldexp', 'lgamma', 'log', 'log10', 'log1p', 'log2', 'modf', 'nan', 'nextafter', 'perm', 'pi', 'pow', 'prod', 'radians', 'remainder', 'sin', 'sinh', 'sqrt', 'tan', 'tanh', 'tau', 'trunc', 'ulp']\n"
     ]
    }
   ],
   "source": [
    "import math\n",
    "print(dir(math))"
   ]
  },
  {
   "cell_type": "code",
   "execution_count": 79,
   "id": "ffbcee14-55da-4c00-aa65-72dfaa0ad872",
   "metadata": {},
   "outputs": [
    {
     "name": "stdout",
     "output_type": "stream",
     "text": [
      "[7.280109889280518, 8.12403840463596, 5.0990195135927845, 4.47213595499958, 4.47213595499958, 7.211102550927978, 8.426149773176359, 8.12403840463596, 6.855654600401044, 8.717797887081348, 7.483314773547883, 3.872983346207417, 7.54983443527075, 6.855654600401044, 8.94427190999916, 9.273618495495704, 5.830951894845301, 7.0710678118654755, 8.12403840463596, 8.426149773176359, 9.327379053088816, 4.795831523312719, 6.164414002968976, 5.0, 7.937253933193772, 6.928203230275509, 8.888194417315589, 6.557438524302, 8.94427190999916, 9.327379053088816, 7.483314773547883, 6.324555320336759, 7.0, 6.48074069840786, 5.830951894845301, 8.717797887081348, 8.426149773176359, 6.324555320336759, 7.3484692283495345, 7.810249675906654, 8.660254037844387, 8.366600265340756, 6.0, 8.0, 8.18535277187245, 8.18535277187245, 7.745966692414834, 9.38083151964686, 5.744562646538029, 5.385164807134504]\n"
     ]
    }
   ],
   "source": [
    "update=list(map(lambda x: math.sqrt(x),numbers))\n",
    "print(update)            "
   ]
  },
  {
   "cell_type": "code",
   "execution_count": 83,
   "id": "de23cd2e-5054-4c22-b3b3-5a324f0099e1",
   "metadata": {},
   "outputs": [
    {
     "name": "stdout",
     "output_type": "stream",
     "text": [
      "[-0.9182827862121189, -0.99964745596635, 0.6469193223286404, 0.40808206181339196, 0.40808206181339196, -0.16299078079570548, -0.3090227281660707, -0.99964745596635, -0.9923354691509287, 0.8243313311075577, 0.853220107722584, -0.7596879128588213, 0.8998668269691937, -0.9923354691509287, -0.11038724383904756, -0.38369844494974187, -0.8485702747846052, 0.9649660284921133, -0.99964745596635, -0.3090227281660707, 0.569750334265312, -0.5328330203333975, 0.9550736440472949, 0.9912028118634736, 0.9858965815825497, -0.6401443394691997, -0.8959709467909631, 0.5551133015206257, -0.11038724383904756, 0.569750334265312, 0.853220107722584, -0.6669380616522619, 0.3005925437436371, -0.39998531498835127, -0.8485702747846052, 0.8243313311075577, -0.3090227281660707, -0.6669380616522619, -0.8293098328631502, -0.25810163593826746, 0.9217512697247493, 0.6333192030862999, -0.12796368962740468, 0.39185723042955, -0.5177697997895051, -0.5177697997895051, -0.9524129804151563, 0.9993732836951247, -0.013276747223059479, -0.7480575296890004]\n"
     ]
    }
   ],
   "source": [
    "update1 = list(map(lambda x: math.cos(x),numbers))\n",
    "print(update1)"
   ]
  },
  {
   "cell_type": "code",
   "execution_count": 85,
   "id": "c9a9c8e2-7647-45d3-80da-934659b77940",
   "metadata": {},
   "outputs": [
    {
     "name": "stdout",
     "output_type": "stream",
     "text": [
      "[0.39592515018183416, -0.026551154023966794, 0.7625584504796027, 0.9129452507276277, 0.9129452507276277, 0.9866275920404853, 0.9510546532543747, -0.026551154023966794, 0.123573122745224, 0.5661076368981803, -0.5215510020869119, 0.6502878401571168, 0.43616475524782494, 0.123573122745224, -0.9938886539233752, -0.9234584470040598, 0.5290826861200238, -0.26237485370392877, -0.026551154023966794, 0.9510546532543747, -0.8218178366308225, -0.8462204041751706, 0.2963685787093853, -0.13235175009777303, 0.16735570030280691, -0.7682546613236668, -0.4441126687075084, -0.8317747426285983, -0.9938886539233752, -0.8218178366308225, -0.5215510020869119, 0.7451131604793488, -0.9537526527594719, -0.9165215479156338, 0.5290826861200238, 0.5661076368981803, 0.9510546532543747, 0.7451131604793488, -0.5587890488516163, -0.9661177700083929, -0.38778163540943045, 0.7738906815578891, -0.9917788534431158, 0.9200260381967907, -0.8555199789753223, -0.8555199789753223, -0.3048106211022167, 0.03539830273366068, 0.9999118601072672, -0.6636338842129675]\n"
     ]
    }
   ],
   "source": [
    "update2 = list(map(lambda x: math.sin(x),numbers))\n",
    "print(update2)"
   ]
  },
  {
   "cell_type": "code",
   "execution_count": 87,
   "id": "7cb026af-8d2e-4196-a43c-aa47f19451fa",
   "metadata": {},
   "outputs": [
    {
     "name": "stdout",
     "output_type": "stream",
     "text": [
      "[-0.4311581967195641, 0.02656051777603939, 1.1787535542062797, 2.237160944224742, 2.237160944224742, -6.053272382792838, -3.07762040319336, 0.02656051777603939, -0.12452756813273719, 0.6867476893515227, -0.6112736881917098, -0.8559934009085188, 0.48469922679209587, -0.12452756813273719, 9.00365494560708, 2.4067297096422102, -0.6234989627162255, -0.27190061199763077, 0.02656051777603939, -3.07762040319336, -1.4424174716642326, 1.5881530833912738, 0.310309660994801, -0.13352640702153587, 0.16974975208268753, 1.2001272431162864, 0.49567753318135577, -1.4983873388551707, 9.00365494560708, -1.4424174716642326, -0.6112736881917098, -1.117214930923896, -3.172908552159191, 2.2913879924374863, -0.6234989627162255, 0.6867476893515227, -3.07762040319336, -1.117214930923896, 0.6738001006480598, 3.7431679442724195, -0.42070095062112434, 1.2219599181369434, 7.750470905699148, 2.3478603091954366, 1.6523172640102353, 1.6523172640102353, 0.320040389379563, 0.03542050133937693, -75.31301480008509, 0.8871428437982151]\n"
     ]
    }
   ],
   "source": [
    "update3 = list(map(lambda x: math.tan(x),numbers))\n",
    "print(update3)"
   ]
  },
  {
   "cell_type": "code",
   "execution_count": 71,
   "id": "62ba499f-c5d4-42ce-b2a2-a20eb078efaf",
   "metadata": {},
   "outputs": [
    {
     "name": "stdout",
     "output_type": "stream",
     "text": [
      "[66, 26, 20, 20, 52, 66, 76, 56, 80, 86, 34, 50, 66, 38, 48, 80, 56, 40, 42, 34, 76, 40, 54, 70, 36, 64, 60, 88]\n"
     ]
    }
   ],
   "source": [
    "even=list(filter(lambda i : i%2==0, numbers))\n",
    "print(even)"
   ]
  },
  {
   "cell_type": "code",
   "execution_count": 72,
   "id": "847453d1-60d8-4caf-a8e8-d38cc1ca4a87",
   "metadata": {},
   "outputs": [
    {
     "name": "stdout",
     "output_type": "stream",
     "text": [
      "[53, 71, 47, 15, 57, 47, 71, 87, 23, 25, 63, 79, 43, 87, 49, 71, 61, 75, 67, 67, 33, 29]\n"
     ]
    }
   ],
   "source": [
    "odd=list(filter(lambda i : i%2==1, numbers))\n",
    "print(odd)"
   ]
  },
  {
   "cell_type": "code",
   "execution_count": null,
   "id": "4fc70e1e-2c5b-468e-9a8a-74228f590cdb",
   "metadata": {},
   "outputs": [],
   "source": []
  }
 ],
 "metadata": {
  "kernelspec": {
   "display_name": "Python 3 (ipykernel)",
   "language": "python",
   "name": "python3"
  },
  "language_info": {
   "codemirror_mode": {
    "name": "ipython",
    "version": 3
   },
   "file_extension": ".py",
   "mimetype": "text/x-python",
   "name": "python",
   "nbconvert_exporter": "python",
   "pygments_lexer": "ipython3",
   "version": "3.11.7"
  }
 },
 "nbformat": 4,
 "nbformat_minor": 5
}
