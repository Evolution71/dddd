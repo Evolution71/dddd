{
 "cells": [
  {
   "cell_type": "code",
   "execution_count": 11,
   "id": "69b97f1b-24b3-4b31-86c3-466fca4b4986",
   "metadata": {},
   "outputs": [
    {
     "data": {
      "text/plain": [
       "'ojo'"
      ]
     },
     "execution_count": 11,
     "metadata": {},
     "output_type": "execute_result"
    }
   ],
   "source": [
    "class person:\n",
    "    name = 'ojo'\n",
    "    age = 21\n",
    "ob = person()\n",
    "ob.name"
   ]
  },
  {
   "cell_type": "code",
   "execution_count": 14,
   "id": "86e59646-606c-47fc-8d1b-b9791caedb83",
   "metadata": {},
   "outputs": [
    {
     "name": "stdout",
     "output_type": "stream",
     "text": [
      "name is Ezuma\n",
      "age is 45\n"
     ]
    }
   ],
   "source": [
    "class person:\n",
    "    name='Ezuma'\n",
    "    age=45\n",
    "    def details(self):\n",
    "        print('name is',self.name)\n",
    "        print(\"age is\",self.age)\n",
    "ob=person()\n",
    "ob.details()\n",
    "\n"
   ]
  },
  {
   "cell_type": "code",
   "execution_count": 34,
   "id": "0aa49356-f76e-4777-97de-385026696a83",
   "metadata": {},
   "outputs": [],
   "source": [
    "class bankingportal:\n",
    "    def __init__(self):\n",
    "        self.balance = 0\n",
    "    def depositors_slip(self):\n",
    "        amount=float(input('Enter Deposit amount:'))\n",
    "        self.balance=self.balance + amount\n",
    "    def transfer(self):\n",
    "        amount=float(input('Enter the amount:$'))\n",
    "        if amount > self.balance and amount == 0:\n",
    "            print('Sorry insufficient Funds or Zero amount...')\n",
    "        else:\n",
    "            bankaccount = input('Enter destination account number:')\n",
    "            bankname = input('Enter Destination bank name:')\n",
    "            bankholder = input('Enter account holder:')\n",
    "            self.balance = self.balance - amount\n",
    "            print('Transaction Successful')\n",
    "    def buy_airtime_data(self):\n",
    "        amount = float(input('Enter Airtime or Data Amount:'))\n",
    "        if amount > self.balance and amount == 0:\n",
    "            print('Sorry ionsufficient Funds or Zero amount...')\n",
    "        else:\n",
    "            phonenumber = input('Enter destination phone number:')\n",
    "            serviceprovider = input('Enter network provider name:')\n",
    "            self.balance = self.balance - amount\n",
    "            print('Transaction Successful')\n",
    "    def checkbalance(self):\n",
    "        print(f'Avaliable Balance is {self.balance}')\n",
    "app=bankingportal()\n",
    "        "
   ]
  },
  {
   "cell_type": "code",
   "execution_count": 35,
   "id": "851fb031-a9ad-44ef-bab1-f0ab65ce889b",
   "metadata": {},
   "outputs": [
    {
     "name": "stdout",
     "output_type": "stream",
     "text": [
      "Avaliable Balance is 0\n"
     ]
    }
   ],
   "source": [
    "app.checkbalance()"
   ]
  },
  {
   "cell_type": "code",
   "execution_count": 36,
   "id": "d03def9f-7587-41f1-9af0-5b19cda27fe4",
   "metadata": {},
   "outputs": [
    {
     "name": "stdin",
     "output_type": "stream",
     "text": [
      "Enter the amount:$ 9\n",
      "Enter destination account number: 99\n",
      "Enter Destination bank name: OOO\n",
      "Enter account holder: LLL\n"
     ]
    },
    {
     "name": "stdout",
     "output_type": "stream",
     "text": [
      "Transaction Successful\n"
     ]
    }
   ],
   "source": [
    "app.transfer()"
   ]
  },
  {
   "cell_type": "code",
   "execution_count": 37,
   "id": "fca17966-0253-4b43-9996-649d576b5738",
   "metadata": {},
   "outputs": [
    {
     "name": "stdin",
     "output_type": "stream",
     "text": [
      "Enter Airtime or Data Amount: 88\n",
      "Enter destination phone number: II\n",
      "Enter network provider name: LL\n"
     ]
    },
    {
     "name": "stdout",
     "output_type": "stream",
     "text": [
      "Transaction Successful\n"
     ]
    }
   ],
   "source": [
    "app.buy_airtime_data()"
   ]
  },
  {
   "cell_type": "code",
   "execution_count": 38,
   "id": "ef13ecf9-316d-44c2-951b-3c0654ba0d3a",
   "metadata": {},
   "outputs": [
    {
     "name": "stdout",
     "output_type": "stream",
     "text": [
      "Avaliable Balance is -97.0\n"
     ]
    }
   ],
   "source": [
    "app.checkbalance()"
   ]
  },
  {
   "cell_type": "code",
   "execution_count": 39,
   "id": "6dbe0a18-ada6-4df9-9be2-94b247a803b5",
   "metadata": {},
   "outputs": [
    {
     "name": "stdin",
     "output_type": "stream",
     "text": [
      "Enter the amount:$ 300000\n",
      "Enter destination account number: 0087878443\n",
      "Enter Destination bank name: palmpay\n",
      "Enter account holder: Ezuma Festus\n"
     ]
    },
    {
     "name": "stdout",
     "output_type": "stream",
     "text": [
      "Transaction Successful\n"
     ]
    }
   ],
   "source": [
    "app.transfer()"
   ]
  },
  {
   "cell_type": "code",
   "execution_count": 40,
   "id": "1b1d8e48-a364-4201-9a97-c2327d5ba778",
   "metadata": {},
   "outputs": [
    {
     "name": "stdout",
     "output_type": "stream",
     "text": [
      "Avaliable Balance is -300097.0\n"
     ]
    }
   ],
   "source": [
    "app.checkbalance()"
   ]
  },
  {
   "cell_type": "code",
   "execution_count": 41,
   "id": "69472122-5a64-46ba-9fb9-860e2345209b",
   "metadata": {},
   "outputs": [
    {
     "name": "stdin",
     "output_type": "stream",
     "text": [
      "Enter Deposit amount: 500000\n"
     ]
    }
   ],
   "source": [
    "app.depositors_slip()"
   ]
  },
  {
   "cell_type": "code",
   "execution_count": 42,
   "id": "9baad2ba-5b02-41f2-a71b-0bb2a5dea820",
   "metadata": {},
   "outputs": [
    {
     "name": "stdout",
     "output_type": "stream",
     "text": [
      "Avaliable Balance is 199903.0\n"
     ]
    }
   ],
   "source": [
    "app.checkbalance()"
   ]
  },
  {
   "cell_type": "code",
   "execution_count": null,
   "id": "777a0144-2e42-4ef2-a5e8-5f9769d08d67",
   "metadata": {},
   "outputs": [],
   "source": []
  }
 ],
 "metadata": {
  "kernelspec": {
   "display_name": "Python 3 (ipykernel)",
   "language": "python",
   "name": "python3"
  },
  "language_info": {
   "codemirror_mode": {
    "name": "ipython",
    "version": 3
   },
   "file_extension": ".py",
   "mimetype": "text/x-python",
   "name": "python",
   "nbconvert_exporter": "python",
   "pygments_lexer": "ipython3",
   "version": "3.11.7"
  }
 },
 "nbformat": 4,
 "nbformat_minor": 5
}
