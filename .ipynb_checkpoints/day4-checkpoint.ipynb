{
 "cells": [
  {
   "cell_type": "code",
   "execution_count": 1,
   "id": "2970af92-b75f-45f1-8481-2199223cb43a",
   "metadata": {},
   "outputs": [
    {
     "name": "stdout",
     "output_type": "stream",
     "text": [
      "['__doc__', '__loader__', '__name__', '__package__', '__spec__', 'acos', 'acosh', 'asin', 'asinh', 'atan', 'atan2', 'atanh', 'cbrt', 'ceil', 'comb', 'copysign', 'cos', 'cosh', 'degrees', 'dist', 'e', 'erf', 'erfc', 'exp', 'exp2', 'expm1', 'fabs', 'factorial', 'floor', 'fmod', 'frexp', 'fsum', 'gamma', 'gcd', 'hypot', 'inf', 'isclose', 'isfinite', 'isinf', 'isnan', 'isqrt', 'lcm', 'ldexp', 'lgamma', 'log', 'log10', 'log1p', 'log2', 'modf', 'nan', 'nextafter', 'perm', 'pi', 'pow', 'prod', 'radians', 'remainder', 'sin', 'sinh', 'sqrt', 'tan', 'tanh', 'tau', 'trunc', 'ulp']\n"
     ]
    }
   ],
   "source": [
    "import math\n",
    "print(dir(math))"
   ]
  },
  {
   "cell_type": "code",
   "execution_count": 5,
   "id": "f1414f2e-3791-43d7-a639-eeb20cb5f65e",
   "metadata": {},
   "outputs": [
    {
     "name": "stdout",
     "output_type": "stream",
     "text": [
      "This module provides access to the mathematical functions\n",
      "defined by the C standard.\n"
     ]
    }
   ],
   "source": [
    "print(math.__doc__)"
   ]
  },
  {
   "cell_type": "code",
   "execution_count": 7,
   "id": "2c5c4068-a058-44e2-9b6a-7fec687b1027",
   "metadata": {},
   "outputs": [
    {
     "name": "stdout",
     "output_type": "stream",
     "text": [
      "16\n",
      "15\n",
      "3.9140771581561853\n"
     ]
    }
   ],
   "source": [
    "number = 15.32\n",
    "print(math.ceil(number))\n",
    "print(math.floor(number))\n",
    "print(math.sqrt(number))"
   ]
  },
  {
   "cell_type": "code",
   "execution_count": 8,
   "id": "4483cfd8-629b-47f8-8a06-24d8336e6877",
   "metadata": {},
   "outputs": [
    {
     "name": "stdout",
     "output_type": "stream",
     "text": [
      "['Counter', 'Decimal', 'Fraction', 'LinearRegression', 'NormalDist', 'StatisticsError', '_SQRT2', '__all__', '__annotations__', '__builtins__', '__cached__', '__doc__', '__file__', '__loader__', '__name__', '__package__', '__spec__', '_coerce', '_convert', '_decimal_sqrt_of_frac', '_exact_ratio', '_fail_neg', '_float_sqrt_of_frac', '_integer_sqrt_of_frac_rto', '_isfinite', '_mean_stdev', '_normal_dist_inv_cdf', '_sqrt_bit_width', '_ss', '_sum', 'bisect_left', 'bisect_right', 'correlation', 'covariance', 'defaultdict', 'erf', 'exp', 'fabs', 'fmean', 'fsum', 'geometric_mean', 'groupby', 'harmonic_mean', 'hypot', 'linear_regression', 'log', 'math', 'mean', 'median', 'median_grouped', 'median_high', 'median_low', 'mode', 'mul', 'multimode', 'namedtuple', 'numbers', 'pstdev', 'pvariance', 'quantiles', 'random', 'reduce', 'repeat', 'sqrt', 'stdev', 'sys', 'tau', 'variance']\n"
     ]
    }
   ],
   "source": [
    "import statistics as stat\n",
    "print(dir(stat))"
   ]
  },
  {
   "cell_type": "code",
   "execution_count": 9,
   "id": "dd513d70-d530-4c22-bdbf-ea9945966efc",
   "metadata": {},
   "outputs": [
    {
     "name": "stdout",
     "output_type": "stream",
     "text": [
      "91.57142857142857\n",
      "85\n"
     ]
    }
   ],
   "source": [
    "score = [95,98,85,90,92,96,85]\n",
    "print(stat.mean(score))\n",
    "print(stat.mode(score))"
   ]
  },
  {
   "cell_type": "code",
   "execution_count": 10,
   "id": "1152e65a-e4c3-4f22-ba7f-2e8bb662c4e2",
   "metadata": {},
   "outputs": [
    {
     "name": "stdout",
     "output_type": "stream",
     "text": [
      "['BPF', 'LOG4', 'NV_MAGICCONST', 'RECIP_BPF', 'Random', 'SG_MAGICCONST', 'SystemRandom', 'TWOPI', '_ONE', '_Sequence', '_Set', '__all__', '__builtins__', '__cached__', '__doc__', '__file__', '__loader__', '__name__', '__package__', '__spec__', '_accumulate', '_acos', '_bisect', '_ceil', '_cos', '_e', '_exp', '_floor', '_index', '_inst', '_isfinite', '_log', '_os', '_pi', '_random', '_repeat', '_sha512', '_sin', '_sqrt', '_test', '_test_generator', '_urandom', '_warn', 'betavariate', 'choice', 'choices', 'expovariate', 'gammavariate', 'gauss', 'getrandbits', 'getstate', 'lognormvariate', 'normalvariate', 'paretovariate', 'randbytes', 'randint', 'random', 'randrange', 'sample', 'seed', 'setstate', 'shuffle', 'triangular', 'uniform', 'vonmisesvariate', 'weibullvariate']\n"
     ]
    }
   ],
   "source": [
    "import random as rn\n",
    "print(dir(rn))"
   ]
  },
  {
   "cell_type": "code",
   "execution_count": 11,
   "id": "dc67b34d-2810-4362-b617-1983f18dc16a",
   "metadata": {},
   "outputs": [
    {
     "name": "stdout",
     "output_type": "stream",
     "text": [
      "92\n"
     ]
    }
   ],
   "source": [
    "print(rn.choice(score))"
   ]
  },
  {
   "cell_type": "code",
   "execution_count": 12,
   "id": "351b5ee9-a468-417b-9c0f-d2363e2edc99",
   "metadata": {},
   "outputs": [
    {
     "name": "stdout",
     "output_type": "stream",
     "text": [
      "[95, 85, 90, 85, 96, 98, 92]\n"
     ]
    }
   ],
   "source": [
    "rn.shuffle(score)\n",
    "print(score)"
   ]
  },
  {
   "cell_type": "code",
   "execution_count": 13,
   "id": "b26da334-e466-496b-a0ba-eab63ae341d0",
   "metadata": {},
   "outputs": [],
   "source": [
    "## Conditional Statement"
   ]
  },
  {
   "cell_type": "code",
   "execution_count": 14,
   "id": "886b0642-eb0b-4dbd-9ed2-2f2cba21bc2d",
   "metadata": {},
   "outputs": [],
   "source": [
    "# Write a python program that takes an int input from a user and print positive if the number is greater than zero"
   ]
  },
  {
   "cell_type": "code",
   "execution_count": 16,
   "id": "0b24d0ef-304f-4627-97ca-d636e5ef5cfb",
   "metadata": {},
   "outputs": [
    {
     "name": "stdin",
     "output_type": "stream",
     "text": [
      "Enter a number  10\n"
     ]
    },
    {
     "name": "stdout",
     "output_type": "stream",
     "text": [
      "positive\n"
     ]
    }
   ],
   "source": [
    "num = int(input('Enter a number '))\n",
    "if num > 0:\n",
    "    print('positive')"
   ]
  },
  {
   "cell_type": "code",
   "execution_count": 17,
   "id": "aaf8f75d-ed21-45d2-9da7-d63de7ab919d",
   "metadata": {},
   "outputs": [],
   "source": [
    "## CREATE A PYTHON PROGRAM THAT CHECKS IF A GIVEN STRING IS EMPTY,IF THE STRING IS NOT EMPTY PRINT STRING NOT EMPTY"
   ]
  },
  {
   "cell_type": "code",
   "execution_count": 27,
   "id": "01f95794-78f6-4c3b-98eb-e07b419cbf10",
   "metadata": {},
   "outputs": [
    {
     "name": "stdin",
     "output_type": "stream",
     "text": [
      "Enter a string:  a\n"
     ]
    },
    {
     "name": "stdout",
     "output_type": "stream",
     "text": [
      "String not empty\n"
     ]
    }
   ],
   "source": [
    "string = input('Enter a string: ')\n",
    "if len(string) != 0:\n",
    "    print('String not empty')"
   ]
  },
  {
   "cell_type": "code",
   "execution_count": 28,
   "id": "9fb46430-6ed3-47b8-b44d-1e1078de9c35",
   "metadata": {},
   "outputs": [
    {
     "name": "stdin",
     "output_type": "stream",
     "text": [
      "Enter a string:  e\n"
     ]
    },
    {
     "name": "stdout",
     "output_type": "stream",
     "text": [
      "String not empty\n"
     ]
    }
   ],
   "source": [
    "string = input('Enter a string: ')\n",
    "if string:\n",
    "    print('String not empty')"
   ]
  },
  {
   "cell_type": "code",
   "execution_count": 29,
   "id": "a19600c1-95ec-460b-89d6-b8daa90f1a3f",
   "metadata": {},
   "outputs": [],
   "source": [
    "## Create a program that determines if you need umbrella based on whether it is raining .if it is raining print \"Take umbrella.'Otherwise print'No umbrella needed'."
   ]
  },
  {
   "cell_type": "code",
   "execution_count": 30,
   "id": "fd207851-6473-481e-b3ec-57f2267941bd",
   "metadata": {},
   "outputs": [
    {
     "name": "stdin",
     "output_type": "stream",
     "text": [
      "Is it raining(yes/no): yes\n"
     ]
    },
    {
     "name": "stdout",
     "output_type": "stream",
     "text": [
      "Take an Unbrella\n"
     ]
    }
   ],
   "source": [
    "raining = input('Is it raining(yes/no):').lower()\n",
    "if raining == 'yes':\n",
    "    print('Take an Unbrella')\n",
    "else:\n",
    "    print('No umbrella needed')"
   ]
  },
  {
   "cell_type": "code",
   "execution_count": 33,
   "id": "be960bf4-dbb8-4c42-902d-4012cd799536",
   "metadata": {},
   "outputs": [
    {
     "name": "stdin",
     "output_type": "stream",
     "text": [
      "Enter the degree of Temperature: 20\n"
     ]
    },
    {
     "name": "stdout",
     "output_type": "stream",
     "text": [
      "Jacket not needed\n"
     ]
    }
   ],
   "source": [
    "check = int(input('Enter the degree of Temperature:'))\n",
    "if check < 20:\n",
    "    print('Jacket needed')\n",
    "else:\n",
    "    print('Jacket not needed')"
   ]
  },
  {
   "cell_type": "code",
   "execution_count": 35,
   "id": "dd02afec-08d9-48de-829b-3433ff6d8acf",
   "metadata": {},
   "outputs": [
    {
     "name": "stdin",
     "output_type": "stream",
     "text": [
      "Enter the number of fuel level: 37\n"
     ]
    },
    {
     "name": "stdout",
     "output_type": "stream",
     "text": [
      "Fuel level is sufficient\n"
     ]
    }
   ],
   "source": [
    "fuel = int(input('Enter the number of fuel level:'))\n",
    "if fuel < 25:\n",
    "    print('Fuel your car')\n",
    "else:\n",
    "    print('Fuel level is sufficient')"
   ]
  },
  {
   "cell_type": "code",
   "execution_count": 36,
   "id": "c8378ae3-5660-47f8-9c73-dd45610fa432",
   "metadata": {},
   "outputs": [
    {
     "name": "stdin",
     "output_type": "stream",
     "text": [
      "Enter the level of moist in the: 39\n"
     ]
    },
    {
     "name": "stdout",
     "output_type": "stream",
     "text": [
      "Water the plant\n"
     ]
    }
   ],
   "source": [
    "moisture = int(input('Enter the level of moist in the:'))\n",
    "if moisture < 40:\n",
    "    print('Water the plant')\n",
    "else:\n",
    "    print('plant are fine')"
   ]
  },
  {
   "cell_type": "code",
   "execution_count": 38,
   "id": "32a801f9-5e9e-40e0-a84d-286d8485b83c",
   "metadata": {},
   "outputs": [
    {
     "name": "stdin",
     "output_type": "stream",
     "text": [
      "Has the shipment been dispatched? (yes/no): yes\n",
      "Is it within the estimated delivery date?: (yes/no) no\n"
     ]
    },
    {
     "name": "stdout",
     "output_type": "stream",
     "text": [
      "shipment might be delayed.\n"
     ]
    }
   ],
   "source": [
    "dispatched = input('Has the shipment been dispatched? (yes/no):').lower()\n",
    "if dispatched == 'yes':\n",
    "    within_estimated_date = input('Is it within the estimated delivery date?: (yes/no)').lower()\n",
    "    if within_estimated_date == 'yes':\n",
    "        print('shipment will be delivered on time.')\n",
    "    else:\n",
    "        print('shipment might be delayed.')\n",
    "else:\n",
    "    print('shipment has not been dispatched.')\n",
    "\n",
    "    print"
   ]
  },
  {
   "cell_type": "code",
   "execution_count": 49,
   "id": "966bb97d-4f1e-4b18-9a3e-6e1f56790531",
   "metadata": {},
   "outputs": [
    {
     "name": "stdin",
     "output_type": "stream",
     "text": [
      "Is the payment method valid? (yes/no): yes\n",
      "Is there sufficient funds in the account?: (yes/no) yes\n"
     ]
    },
    {
     "name": "stdout",
     "output_type": "stream",
     "text": [
      "payment processed successfully\n"
     ]
    }
   ],
   "source": [
    "payment = input('Is the payment method valid? (yes/no):').lower()\n",
    "if payment == 'yes':\n",
    "    sufficient_funds = input('Is there sufficient funds in the account?: (yes/no)').lower()\n",
    "    if sufficient_funds == 'yes':\n",
    "        print('payment processed successfully')\n",
    "    else:\n",
    "        print('payment not proccessed successfully')"
   ]
  },
  {
   "cell_type": "code",
   "execution_count": 48,
   "id": "f079209b-b3e2-4c5c-b049-08c873157d73",
   "metadata": {},
   "outputs": [
    {
     "name": "stdin",
     "output_type": "stream",
     "text": [
      "Enter user role(admin,moderator,editor,contributor,viewer,or guest) admin\n"
     ]
    },
    {
     "name": "stdout",
     "output_type": "stream",
     "text": [
      "Access Level: Admin - Full access\n"
     ]
    }
   ],
   "source": [
    "userrole = input('Enter user role(admin,moderator,editor,contributor,viewer,or guest)').lower()\n",
    "if userrole == 'admin':\n",
    "    print('Access Level: Admin - Full access')\n",
    "elif userrole == 'moderator':\n",
    "    print('Access Level:Moderator-Moderator access')\n",
    "elif userrole == 'editor':\n",
    "    print('Access Level:Editor-Edit access')\n",
    "elif userrole == 'contributor':\n",
    "    print('Access Level: Contributor - contribute access')\n",
    "elif userrole == 'viewer':\n",
    "    print('Access Level:Viewer - view access')\n",
    "elif userrole == 'guest':\n",
    "    print('Access Level: Guest - limited access')\n",
    "else:\n",
    "    print('invalid option.')"
   ]
  },
  {
   "cell_type": "code",
   "execution_count": null,
   "id": "e34abbc5-69e7-4885-81d3-77dce2cfc3bc",
   "metadata": {},
   "outputs": [],
   "source": []
  }
 ],
 "metadata": {
  "kernelspec": {
   "display_name": "Python 3 (ipykernel)",
   "language": "python",
   "name": "python3"
  },
  "language_info": {
   "codemirror_mode": {
    "name": "ipython",
    "version": 3
   },
   "file_extension": ".py",
   "mimetype": "text/x-python",
   "name": "python",
   "nbconvert_exporter": "python",
   "pygments_lexer": "ipython3",
   "version": "3.11.7"
  }
 },
 "nbformat": 4,
 "nbformat_minor": 5
}
