{
 "cells": [
  {
   "cell_type": "code",
   "execution_count": 31,
   "id": "7c704f4e-82ca-4814-a9f0-70d846c5f3a1",
   "metadata": {},
   "outputs": [
    {
     "name": "stdin",
     "output_type": "stream",
     "text": [
      "Enter the desired direction you wish to elevate to[up/down/stationary] up\n"
     ]
    }
   ],
   "source": [
    "class Elevator:\n",
    "    def __init__(self):\n",
    "        min_floor = 0\n",
    "        max_floor = 10\n",
    "        self.current_floor = min_floor\n",
    "        self.max_floor = max_floor\n",
    "        self.min_floor = min_floor\n",
    "        self.direction = input('Enter the desired direction you wish to elevate to[up/down/stationary]')\n",
    "    def move_up(self):\n",
    "        if self.current_floor < self.max_floor:\n",
    "            self.current_floor +=1\n",
    "            self.direction ='up'\n",
    "            print(f'Elevator is moving {self.direction} current floor {self.current_floor}')\n",
    "        else:\n",
    "            print('Elevator can not move up,maximum floor reached')\n",
    "    def move_down(self):\n",
    "        if self.current_floor > self.min_floor:\n",
    "            self.current_floor -=1\n",
    "            self.direction ='down'\n",
    "            print(f'Elevator is moving {self.direction} current floor {self.current_floor}')\n",
    "        else:\n",
    "            print('Elevator cannot move down,minfloor reached') \n",
    "    def goto_floor(self):\n",
    "        floor = int(input('Choose floor level [1,2,3,4,5,6,7,8,9,10]'))\n",
    "        if floor >= self.min_floor and floor <= self.max_floor:\n",
    "            if floor >= self.current_floor:\n",
    "                self.direction = 'up'\n",
    "                print(f'Elevator is moving up at {self.direction} to floor {floor} and initial floor is :{self.current_floor}')\n",
    "            elif floor < self.current_floor:\n",
    "                self.direction =='down'\n",
    "                print(f'Elevator is moving up at {self.direction} to floor {floor} and initial floor is:{self.current_floor}')\n",
    "            else:\n",
    "                self.direction = 'stationary'\n",
    "                print(f'Elevator is currently at the same floor {floor} current_floor so it is {self.direction}')\n",
    "                self.current_floor = floor\n",
    "                print('Invalid floor.......')\n",
    "    def open_and_close_door(self):\n",
    "        floor = int(input('Choose floor level [1,2,3,4,5,6,7,8,9,10]'))\n",
    "        open_close = input('Choose door status[open/close]').lower()\n",
    "        if open_close == 'open':\n",
    "            print(f'The elevator door is opening at {floor} and previous floor is {self.current_floor}')\n",
    "        else:\n",
    "            print(f'Elevator door is closing at {floor} and privious floor is {self.current_floor}')\n",
    "program = Elevator()\n",
    "                \n",
    "\n",
    "                                                                                         \n",
    "        \n",
    "        \n",
    "            \n",
    "            \n",
    "            \n",
    "               \n",
    "        \n",
    "        "
   ]
  },
  {
   "cell_type": "code",
   "execution_count": 27,
   "id": "fb3fdf5a-e34d-40a5-885c-6c95517b24d5",
   "metadata": {},
   "outputs": [
    {
     "name": "stdout",
     "output_type": "stream",
     "text": [
      "Elevator is moving up current floor 4\n"
     ]
    }
   ],
   "source": [
    "program.move_up()"
   ]
  },
  {
   "cell_type": "code",
   "execution_count": 28,
   "id": "3e4a1d91-e87f-4300-820c-ab7a094a4b7b",
   "metadata": {},
   "outputs": [
    {
     "name": "stdout",
     "output_type": "stream",
     "text": [
      "Elevator is moving down current floor 3\n"
     ]
    }
   ],
   "source": [
    "program.move_down()"
   ]
  },
  {
   "cell_type": "code",
   "execution_count": 29,
   "id": "c88eb303-bfad-41ec-b937-d8a265e6aaa0",
   "metadata": {},
   "outputs": [
    {
     "name": "stdin",
     "output_type": "stream",
     "text": [
      "Choose floor level [1,2,3,4,5,6,7,8,9,10] 7\n"
     ]
    },
    {
     "name": "stdout",
     "output_type": "stream",
     "text": [
      "Elevator is moving up at up to floor 7 and initial floor is :3\n"
     ]
    }
   ],
   "source": [
    "program.goto_floor()"
   ]
  },
  {
   "cell_type": "code",
   "execution_count": 32,
   "id": "cbadecce-caab-466e-88aa-93dd2b8b5d18",
   "metadata": {},
   "outputs": [
    {
     "name": "stdin",
     "output_type": "stream",
     "text": [
      "Choose floor level [1,2,3,4,5,6,7,8,9,10] 5\n",
      "Choose door status[open/close] open\n"
     ]
    },
    {
     "name": "stdout",
     "output_type": "stream",
     "text": [
      "The elevator door is opening at 5 and previous floor is 0\n"
     ]
    }
   ],
   "source": [
    "program.open_and_close_door()"
   ]
  },
  {
   "cell_type": "code",
   "execution_count": null,
   "id": "a2242b68-4564-42ed-b297-9c2a412cbe33",
   "metadata": {},
   "outputs": [],
   "source": []
  }
 ],
 "metadata": {
  "kernelspec": {
   "display_name": "Python 3 (ipykernel)",
   "language": "python",
   "name": "python3"
  },
  "language_info": {
   "codemirror_mode": {
    "name": "ipython",
    "version": 3
   },
   "file_extension": ".py",
   "mimetype": "text/x-python",
   "name": "python",
   "nbconvert_exporter": "python",
   "pygments_lexer": "ipython3",
   "version": "3.11.7"
  }
 },
 "nbformat": 4,
 "nbformat_minor": 5
}
