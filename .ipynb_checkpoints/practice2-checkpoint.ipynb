{
 "cells": [
  {
   "cell_type": "code",
   "execution_count": 1,
   "id": "c3779ce1-6ab3-4f6d-b2e6-8a9f4e45c8f7",
   "metadata": {},
   "outputs": [
    {
     "name": "stdout",
     "output_type": "stream",
     "text": [
      "14\n"
     ]
    }
   ],
   "source": [
    "records = (12,23,11,12,12,12,45,56,40,34,56,8,88,8)\n",
    "print(len(records))"
   ]
  },
  {
   "cell_type": "code",
   "execution_count": 5,
   "id": "8b80e375-aea8-4e2b-8dd5-df4d053316bf",
   "metadata": {},
   "outputs": [
    {
     "name": "stdout",
     "output_type": "stream",
     "text": [
      "<class 'tuple'>\n"
     ]
    }
   ],
   "source": [
    "print(type(records))"
   ]
  },
  {
   "cell_type": "code",
   "execution_count": 9,
   "id": "ed71f180-9a83-448c-82b1-21eed98cdddf",
   "metadata": {},
   "outputs": [
    {
     "name": "stdout",
     "output_type": "stream",
     "text": [
      "56\n"
     ]
    }
   ],
   "source": [
    "print(records[7])"
   ]
  },
  {
   "cell_type": "code",
   "execution_count": 11,
   "id": "c39f59f9-ef0f-452c-b947-50ba0221f059",
   "metadata": {},
   "outputs": [
    {
     "name": "stdout",
     "output_type": "stream",
     "text": [
      "(12, 12, 45, 56)\n"
     ]
    }
   ],
   "source": [
    "print(records[4:8])"
   ]
  },
  {
   "cell_type": "code",
   "execution_count": 16,
   "id": "6375e6cd-66df-4d3c-a0ae-eddde6f088b1",
   "metadata": {},
   "outputs": [
    {
     "name": "stdout",
     "output_type": "stream",
     "text": [
      "2\n"
     ]
    }
   ],
   "source": [
    "print(records.count(8))"
   ]
  },
  {
   "cell_type": "code",
   "execution_count": 20,
   "id": "acde7d7e-af18-4265-a7fa-bbb1fd1f6df4",
   "metadata": {},
   "outputs": [
    {
     "name": "stdout",
     "output_type": "stream",
     "text": [
      "11\n"
     ]
    }
   ],
   "source": [
    "print(records.index(8))"
   ]
  },
  {
   "cell_type": "markdown",
   "id": "f2b253dd-cf03-4a2b-be16-f11314cdcd1b",
   "metadata": {},
   "source": [
    "## list"
   ]
  },
  {
   "cell_type": "code",
   "execution_count": 21,
   "id": "d0aa06da-3578-4b5d-8195-08558817fb94",
   "metadata": {},
   "outputs": [
    {
     "name": "stdout",
     "output_type": "stream",
     "text": [
      "['Apple', 'Orange', 'Ezuma', 'Eku', 'Festus', 'Nigeria', 'Maritime', 'University']\n"
     ]
    }
   ],
   "source": [
    "item = ['Apple','Orange','Ezuma','Eku','Festus','Nigeria','Maritime','University']\n",
    "print(item)"
   ]
  },
  {
   "cell_type": "code",
   "execution_count": 24,
   "id": "823de510-a124-49a6-94a0-bd23440e4d13",
   "metadata": {},
   "outputs": [
    {
     "name": "stdout",
     "output_type": "stream",
     "text": [
      "['Apple', 'Orange', 'Ezuma', 'Eku', 'a student of', 'a student of', 'Festus', 'Nigeria', 'Maritime', 'University']\n"
     ]
    }
   ],
   "source": [
    "item.insert(5,'a student of')\n",
    "print(item)"
   ]
  },
  {
   "cell_type": "code",
   "execution_count": 27,
   "id": "85e1b69b-adf5-40b1-aae7-15a8b15fdb88",
   "metadata": {},
   "outputs": [
    {
     "name": "stdout",
     "output_type": "stream",
     "text": [
      "['Apple', 'Orange', 'Ezuma', 'Eku', 'a student of', 'Festus', 'Nigeria', 'Maritime', 'University']\n"
     ]
    }
   ],
   "source": [
    "item.remove('a student of')\n",
    "print(item)"
   ]
  },
  {
   "cell_type": "code",
   "execution_count": 29,
   "id": "29c7493f-92bf-42a6-92f2-9f0c7c5d0e9a",
   "metadata": {},
   "outputs": [
    {
     "name": "stdout",
     "output_type": "stream",
     "text": [
      "['Apple', 'Orange', 'Ezuma', 'Eku', 'a student of', 'Festus', 'Nigeria', 'Maritime', 'University', 'Chicken', 'Flavour']\n"
     ]
    }
   ],
   "source": [
    "f = ['Chicken','Flavour']\n",
    "item.extend(f)\n",
    "print(item)"
   ]
  },
  {
   "cell_type": "code",
   "execution_count": 30,
   "id": "2214d9ab-72b5-4955-bf29-7b58a0f44ac8",
   "metadata": {},
   "outputs": [
    {
     "name": "stdout",
     "output_type": "stream",
     "text": [
      "['Apple', 'Orange', 'Ezuma', 'a student of', 'Festus', 'Nigeria', 'Maritime', 'University', 'Chicken', 'Flavour']\n"
     ]
    }
   ],
   "source": [
    "item.pop(3)\n",
    "print(item)"
   ]
  },
  {
   "cell_type": "code",
   "execution_count": 31,
   "id": "35196dd4-c287-449e-8007-5cd3ddde6b05",
   "metadata": {},
   "outputs": [
    {
     "name": "stdout",
     "output_type": "stream",
     "text": [
      "['Apple', 'Orange', 'a student of', 'Festus', 'Nigeria', 'Maritime', 'University', 'Chicken', 'Flavour']\n"
     ]
    }
   ],
   "source": [
    "item.remove('Ezuma')\n",
    "print(item)"
   ]
  },
  {
   "cell_type": "code",
   "execution_count": 32,
   "id": "12150e64-ef7c-4a13-9c32-d8a0a577ebe8",
   "metadata": {},
   "outputs": [
    {
     "name": "stdout",
     "output_type": "stream",
     "text": [
      "['Apple', 'Chicken', 'Festus', 'Flavour', 'Maritime', 'Nigeria', 'Orange', 'University', 'a student of']\n"
     ]
    }
   ],
   "source": [
    "item.sort()\n",
    "print(item)"
   ]
  },
  {
   "cell_type": "code",
   "execution_count": 33,
   "id": "cbe281e1-63a2-40a6-acf2-19bdfede3621",
   "metadata": {},
   "outputs": [
    {
     "name": "stdout",
     "output_type": "stream",
     "text": [
      "['a student of', 'University', 'Orange', 'Nigeria', 'Maritime', 'Flavour', 'Festus', 'Chicken', 'Apple']\n"
     ]
    }
   ],
   "source": [
    "item.reverse()\n",
    "print(item)"
   ]
  },
  {
   "cell_type": "code",
   "execution_count": 34,
   "id": "f60d2716-eb63-4cf0-a4bf-be97614d2c69",
   "metadata": {},
   "outputs": [
    {
     "name": "stdout",
     "output_type": "stream",
     "text": [
      "['a student of', 'University', 'Orange', 'Nigeria', 'Maritime', 'Flavour', 'Festus', 'Chicken', 'Apple']\n"
     ]
    }
   ],
   "source": [
    "item1 = item.copy()\n",
    "print(item1)"
   ]
  },
  {
   "cell_type": "code",
   "execution_count": 35,
   "id": "5c308932-ddf1-4292-960e-6f28075c4585",
   "metadata": {},
   "outputs": [
    {
     "name": "stdout",
     "output_type": "stream",
     "text": [
      "['a student of', 'University', 'Orange', 'Nigeria', 'Maritime', 'Flavour', 'Festus', 'Chicken', 'Apple', 'Average']\n"
     ]
    }
   ],
   "source": [
    "item1.append('Average')\n",
    "print(item1)"
   ]
  },
  {
   "cell_type": "code",
   "execution_count": 38,
   "id": "be76ee60-0249-4693-b38b-b8fddbe1f43b",
   "metadata": {},
   "outputs": [
    {
     "name": "stdout",
     "output_type": "stream",
     "text": [
      "['University', 'Orange', 'Nigeria', 'Maritime', 'Flavour', 'Festus', 'Chicken', 'Apple']\n"
     ]
    }
   ],
   "source": [
    "item.remove('a student of')\n",
    "print(item)"
   ]
  },
  {
   "cell_type": "code",
   "execution_count": 44,
   "id": "8d89f486-f2ac-45e6-a70c-f79ec208d0cf",
   "metadata": {},
   "outputs": [
    {
     "name": "stdout",
     "output_type": "stream",
     "text": [
      "dict_keys(['Name', 'Age', 'Height'])\n"
     ]
    }
   ],
   "source": [
    "item = {\n",
    "    'Name':'Ezuma Festus',\n",
    "    'Age':27,\n",
    "    'Height':'6inch'\n",
    "}\n",
    "print(item.keys())\n",
    "    \n",
    "    "
   ]
  },
  {
   "cell_type": "code",
   "execution_count": 45,
   "id": "67a133f7-0b24-4c77-b1fb-7550d6d045ef",
   "metadata": {},
   "outputs": [
    {
     "name": "stdout",
     "output_type": "stream",
     "text": [
      "dict_values(['Ezuma Festus', 27, '6inch'])\n"
     ]
    }
   ],
   "source": [
    "print(item.values())"
   ]
  },
  {
   "cell_type": "code",
   "execution_count": 48,
   "id": "b6ef367d-683e-417f-a433-6b942a6c630a",
   "metadata": {},
   "outputs": [
    {
     "name": "stdout",
     "output_type": "stream",
     "text": [
      "{'Name': 'Eku', 'Age': 27, 'Height': '6inch'}\n"
     ]
    }
   ],
   "source": [
    "item.update({'Name':'Eku'})\n",
    "print(item)"
   ]
  },
  {
   "cell_type": "code",
   "execution_count": 50,
   "id": "638a655d-a689-4779-80b5-ee0629bbb04a",
   "metadata": {},
   "outputs": [
    {
     "name": "stdout",
     "output_type": "stream",
     "text": [
      "{'Age': 27, 'Height': '6inch'}\n"
     ]
    }
   ],
   "source": [
    "item.pop('Name')\n",
    "print(item)"
   ]
  },
  {
   "cell_type": "code",
   "execution_count": 51,
   "id": "00a9244f-79dc-4b85-9856-e7fbf387cc3c",
   "metadata": {},
   "outputs": [
    {
     "name": "stdout",
     "output_type": "stream",
     "text": [
      "{'Age': 27}\n"
     ]
    }
   ],
   "source": [
    "item.popitem()\n",
    "print(item)"
   ]
  },
  {
   "cell_type": "code",
   "execution_count": 52,
   "id": "27e777f8-3aad-4f34-b283-75691870282c",
   "metadata": {},
   "outputs": [
    {
     "name": "stdout",
     "output_type": "stream",
     "text": [
      "{}\n"
     ]
    }
   ],
   "source": [
    "item.popitem()\n",
    "print(item)"
   ]
  },
  {
   "cell_type": "code",
   "execution_count": 53,
   "id": "f8ba7001-3da9-4da6-8ea1-46c82821d9f5",
   "metadata": {},
   "outputs": [
    {
     "name": "stdout",
     "output_type": "stream",
     "text": [
      "{}\n"
     ]
    }
   ],
   "source": [
    "print(item)"
   ]
  },
  {
   "cell_type": "code",
   "execution_count": null,
   "id": "a58daf29-3715-4f29-9058-dbbec646a4a8",
   "metadata": {},
   "outputs": [],
   "source": []
  }
 ],
 "metadata": {
  "kernelspec": {
   "display_name": "Python 3 (ipykernel)",
   "language": "python",
   "name": "python3"
  },
  "language_info": {
   "codemirror_mode": {
    "name": "ipython",
    "version": 3
   },
   "file_extension": ".py",
   "mimetype": "text/x-python",
   "name": "python",
   "nbconvert_exporter": "python",
   "pygments_lexer": "ipython3",
   "version": "3.11.7"
  }
 },
 "nbformat": 4,
 "nbformat_minor": 5
}
