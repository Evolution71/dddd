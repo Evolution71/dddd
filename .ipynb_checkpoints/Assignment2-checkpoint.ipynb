{
 "cells": [
  {
   "cell_type": "code",
   "execution_count": 7,
   "id": "dee198c2-0908-4eb7-9bf0-e55cc88b6cf6",
   "metadata": {},
   "outputs": [
    {
     "name": "stdin",
     "output_type": "stream",
     "text": [
      "Enter the item1 price:$ 12\n",
      "Enter the item2 price:$ 3\n",
      "Enter the item3 price:$ 5\n"
     ]
    },
    {
     "name": "stdout",
     "output_type": "stream",
     "text": [
      "Enjoy your delicious pizza! at the price of $12\n",
      "Here is your hot coffee! at the price of $3\n",
      "Enjoy your Dessert Icecream at the price of $12\n",
      "Enjoy your Drink Shanpayne at the price of $12\n",
      "Enjoy your Food Rice at the price of $12\n",
      "The total bills of the item purchased is $44\n"
     ]
    }
   ],
   "source": [
    "names_and_package = {\n",
    "    'Piza':'Food',\n",
    "    'Coffee':'Drink',\n",
    "    'Icecream':'Dessert',\n",
    "    'Shanpayne':'Drink',\n",
    "    'Rice':'Food'\n",
    "}\n",
    "item1_price = int(input('Enter the item1 price:$'))\n",
    "item2_price = int(input('Enter the item2 price:$'))\n",
    "item3_price = int(input('Enter the item3 price:$'))\n",
    "## ITEM PRICES\n",
    "piza = 12\n",
    "coffee = 3\n",
    "icecream = 5\n",
    "Total_bills=(piza+coffee+icecream+piza+piza)\n",
    "for name,package in names_and_package.items():\n",
    "    if package=='Food' and name=='Piza':\n",
    "        print(f'Enjoy your delicious pizza! at the price of ${item1_price}')\n",
    "    elif package=='Drink' and name=='Coffee':\n",
    "        print(f'Here is your hot coffee! at the price of ${item2_price}')\n",
    "    elif package=='Icecream' and name=='Dessert':\n",
    "        print(f'Have your sweet {package} {name}! at the price of ${item3_price}')\n",
    "    else:\n",
    "        print(f'Enjoy your {package} {name} at the price of ${item1_price}')\n",
    "print(f'The total bills of the item purchased is ${Total_bills}')\n",
    "    "
   ]
  },
  {
   "cell_type": "markdown",
   "id": "95e63511-6044-4879-82f8-5fdf476c8231",
   "metadata": {},
   "source": [
    "## SOLUTION II"
   ]
  },
  {
   "cell_type": "code",
   "execution_count": 4,
   "id": "39d5023d-075c-416e-9c59-fd0edad44566",
   "metadata": {},
   "outputs": [
    {
     "name": "stdin",
     "output_type": "stream",
     "text": [
      "was a goal scored? (y/n): y\n"
     ]
    },
    {
     "name": "stdout",
     "output_type": "stream",
     "text": [
      "Goals scored! total goals is 1\n"
     ]
    },
    {
     "name": "stdin",
     "output_type": "stream",
     "text": [
      "was a goal scored? (y/n): y\n"
     ]
    },
    {
     "name": "stdout",
     "output_type": "stream",
     "text": [
      "Goals scored! total goals is 2\n"
     ]
    },
    {
     "name": "stdin",
     "output_type": "stream",
     "text": [
      "was a goal scored? (y/n): y\n"
     ]
    },
    {
     "name": "stdout",
     "output_type": "stream",
     "text": [
      "Goals scored! total goals is 3\n"
     ]
    },
    {
     "name": "stdin",
     "output_type": "stream",
     "text": [
      "was a goal scored? (y/n): y\n"
     ]
    },
    {
     "name": "stdout",
     "output_type": "stream",
     "text": [
      "Goals scored! total goals is 4\n"
     ]
    },
    {
     "name": "stdin",
     "output_type": "stream",
     "text": [
      "was a goal scored? (y/n): y\n"
     ]
    },
    {
     "name": "stdout",
     "output_type": "stream",
     "text": [
      "Goals scored! total goals is 5\n"
     ]
    }
   ],
   "source": [
    "goals_scored = 0\n",
    "while goals_scored<=5:\n",
    "    goal_input=input('was a goal scored? (y/n):')\n",
    "    if goal_input=='y':\n",
    "        goals_scored+=1\n",
    "        print(f'Goals scored! total goals is {goals_scored}')\n",
    "    elif goal_input=='n':\n",
    "        print('No goal scored by the teams')\n",
    "    else:\n",
    "        print('game over')\n",
    "\n"
   ]
  },
  {
   "cell_type": "code",
   "execution_count": null,
   "id": "b45b5e5a-2554-4491-b276-c4a6da1f0e52",
   "metadata": {},
   "outputs": [],
   "source": []
  }
 ],
 "metadata": {
  "kernelspec": {
   "display_name": "Python 3 (ipykernel)",
   "language": "python",
   "name": "python3"
  },
  "language_info": {
   "codemirror_mode": {
    "name": "ipython",
    "version": 3
   },
   "file_extension": ".py",
   "mimetype": "text/x-python",
   "name": "python",
   "nbconvert_exporter": "python",
   "pygments_lexer": "ipython3",
   "version": "3.11.7"
  }
 },
 "nbformat": 4,
 "nbformat_minor": 5
}
