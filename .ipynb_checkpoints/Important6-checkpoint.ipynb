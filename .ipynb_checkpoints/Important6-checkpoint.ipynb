{
 "cells": [
  {
   "cell_type": "code",
   "execution_count": 6,
   "id": "6c690c74-a766-4310-a612-17d413ce7f0e",
   "metadata": {},
   "outputs": [
    {
     "name": "stdout",
     "output_type": "stream",
     "text": [
      "AAA\n",
      "bbb\n",
      "rrr\n",
      "aaa\n",
      "hhh\n",
      "aaa\n",
      "mmm\n"
     ]
    }
   ],
   "source": [
    "word = 'Abraham'\n",
    "for char in word:\n",
    "    print(char * 3)"
   ]
  },
  {
   "cell_type": "code",
   "execution_count": 10,
   "id": "e8899c7f-b9b9-4e84-8bf1-084aa2ce0642",
   "metadata": {},
   "outputs": [
    {
     "name": "stdout",
     "output_type": "stream",
     "text": [
      "AA::bb::rr::aa::hh::aa::mm::"
     ]
    }
   ],
   "source": [
    "word='Abraham'\n",
    "for char in word:\n",
    "      print(char * 2,end='::')"
   ]
  },
  {
   "cell_type": "code",
   "execution_count": 25,
   "id": "9a0c6ed9-2a34-4b17-ad58-953ea5c29359",
   "metadata": {},
   "outputs": [
    {
     "name": "stdout",
     "output_type": "stream",
     "text": [
      "They have won in so many consecutive times\n",
      "They have the highest masquerade spirit\n",
      "They are the best in mat weaving\n",
      "The Nmu and Parade are inter-woven\n",
      "The Kurutie and Fuck are inter-woven\n"
     ]
    }
   ],
   "source": [
    "jams_and_am = {\n",
    "    'Achara':'Club',\n",
    "    'Eziama':'Masquerade',\n",
    "    'Emenyanwu':'Ute',\n",
    "    'Nmu':'Parade',\n",
    "    'Kurutie':'Fuck'\n",
    "}\n",
    "for jam,am in jams_and_am.items():\n",
    "    if am=='Club' and jam=='Achara':\n",
    "        print('They have won in so many consecutive times')\n",
    "    elif am=='Masquerade' and jam=='Eziama':\n",
    "        print('They have the highest masquerade spirit')\n",
    "    elif am=='Ute' and jam=='Emenyanwu':\n",
    "        print('They are the best in mat weaving')\n",
    "    else:\n",
    "        print(f'The {jam} and {am} are inter-woven')"
   ]
  },
  {
   "cell_type": "code",
   "execution_count": 1,
   "id": "8f452dc9-3fe8-47d6-90d1-886f64c9201d",
   "metadata": {},
   "outputs": [
    {
     "name": "stdout",
     "output_type": "stream",
     "text": [
      "Help on built-in function print in module builtins:\n",
      "\n",
      "print(*args, sep=' ', end='\\n', file=None, flush=False)\n",
      "    Prints the values to a stream, or to sys.stdout by default.\n",
      "    \n",
      "    sep\n",
      "      string inserted between values, default a space.\n",
      "    end\n",
      "      string appended after the last value, default a newline.\n",
      "    file\n",
      "      a file-like object (stream); defaults to the current sys.stdout.\n",
      "    flush\n",
      "      whether to forcibly flush the stream.\n",
      "\n"
     ]
    }
   ],
   "source": [
    "help(print)"
   ]
  },
  {
   "cell_type": "code",
   "execution_count": 3,
   "id": "6270df81-15c0-48d1-bc57-6a88df7d70da",
   "metadata": {},
   "outputs": [
    {
     "name": "stdout",
     "output_type": "stream",
     "text": [
      "[0, 1, 2, 3, 4, 5, 6, 7, 8, 9]\n"
     ]
    }
   ],
   "source": [
    "rng=range(10)\n",
    "print(list(rng))"
   ]
  },
  {
   "cell_type": "code",
   "execution_count": 9,
   "id": "2ba59abf-d671-402b-a7a3-1b3b6109c038",
   "metadata": {},
   "outputs": [
    {
     "name": "stdout",
     "output_type": "stream",
     "text": [
      "Hello world \n",
      " I am Ezuma\n"
     ]
    }
   ],
   "source": [
    "age=23\n",
    "name='Ezuma'\n",
    "print('Hello world',end=\" \\n \")\n",
    "print(\"I am\",name)"
   ]
  },
  {
   "cell_type": "code",
   "execution_count": 35,
   "id": "ba9cc4cb-7f75-4b57-a640-b4a0def2cb78",
   "metadata": {},
   "outputs": [
    {
     "name": "stdout",
     "output_type": "stream",
     "text": [
      "[-2, 0, 2, 4, 6, 8]\n"
     ]
    }
   ],
   "source": [
    "rng=range(-2,10,2)\n",
    "print(list(rng))"
   ]
  },
  {
   "cell_type": "code",
   "execution_count": 42,
   "id": "2927790f-cb51-47ce-b31d-17b69b28997e",
   "metadata": {},
   "outputs": [
    {
     "name": "stdout",
     "output_type": "stream",
     "text": [
      "[0, 1, 2, 3, 4, 5, 6, 7, 8, 9, 10, 11, 12, 13, 14, 15, 16, 17, 18, 19, 20, 21, 22, 23, 24, 25, 26, 27, 28, 29, 30, 31, 32, 33, 34, 35, 36, 37, 38, 39, 40, 41, 42, 43, 44, 45, 46, 47, 48, 49, 50, 51, 52, 53, 54, 55, 56, 57, 58, 59, 60, 61, 62, 63, 64, 65, 66, 67, 68, 69, 70, 71, 72, 73, 74, 75, 76, 77, 78, 79, 80, 81, 82, 83, 84, 85, 86, 87, 88, 89, 90, 91, 92, 93, 94, 95, 96, 97, 98, 99]\n"
     ]
    }
   ],
   "source": [
    "rng=range(100)\n",
    "print(list(rng))"
   ]
  },
  {
   "cell_type": "code",
   "execution_count": 66,
   "id": "709364be-b336-4b8a-97d3-43e7a99f51c0",
   "metadata": {},
   "outputs": [
    {
     "name": "stdout",
     "output_type": "stream",
     "text": [
      "48\n",
      "1\n",
      "4\n",
      "for loop starts\n",
      "9\n",
      "16\n",
      "25\n",
      "36\n",
      "49\n",
      "64\n",
      "81\n",
      "100\n",
      "Done\n"
     ]
    }
   ],
   "source": [
    "import sys\n",
    "x=[1,2,3,4,5,6,7,8,9,10]\n",
    "y=map(lambda i: i**2,x)\n",
    "print(sys.getsizeof(y))\n",
    "print(next(y))\n",
    "print(next(y))\n",
    "print('for loop starts')\n",
    "for i in y:\n",
    "    print(i)\n",
    "while True:\n",
    "    try:\n",
    "        value=next(y)\n",
    "        print(value)\n",
    "    except StopIteration:\n",
    "        print('Done')\n",
    "        break"
   ]
  },
  {
   "cell_type": "code",
   "execution_count": 55,
   "id": "93339219-b98b-4295-95ba-c2235fa1ad63",
   "metadata": {},
   "outputs": [
    {
     "name": "stdout",
     "output_type": "stream",
     "text": [
      "55\n"
     ]
    }
   ],
   "source": [
    "print(sum(x))"
   ]
  },
  {
   "cell_type": "code",
   "execution_count": 56,
   "id": "80aa09c3-e649-4c1e-9e1e-64aca0b7d10f",
   "metadata": {},
   "outputs": [
    {
     "name": "stdout",
     "output_type": "stream",
     "text": [
      "[1, 2, 3, 4, 5, 6, 7, 8, 9, 10, 11]\n"
     ]
    }
   ],
   "source": [
    "x.append(11)\n",
    "print(x)"
   ]
  },
  {
   "cell_type": "code",
   "execution_count": 57,
   "id": "c85a782a-672d-4d34-8728-29ac1ec52115",
   "metadata": {},
   "outputs": [
    {
     "name": "stdout",
     "output_type": "stream",
     "text": [
      "[1, 2, 3, 4, 5, 6, 7, 8, 9, 10, 11]\n"
     ]
    }
   ],
   "source": [
    "x.index(7)\n",
    "print(x)"
   ]
  },
  {
   "cell_type": "code",
   "execution_count": 70,
   "id": "76fa4df9-dec8-4a0a-8eef-e29ea7805079",
   "metadata": {},
   "outputs": [
    {
     "name": "stdout",
     "output_type": "stream",
     "text": [
      "0\n",
      "1\n",
      "2\n",
      "3\n",
      "4\n",
      "5\n",
      "6\n",
      "7\n",
      "8\n",
      "9\n",
      "10\n",
      "11\n",
      "12\n",
      "13\n",
      "14\n",
      "15\n",
      "16\n",
      "17\n",
      "18\n",
      "19\n",
      "20\n",
      "21\n",
      "22\n",
      "23\n",
      "24\n",
      "25\n",
      "26\n",
      "27\n",
      "28\n",
      "29\n",
      "30\n",
      "31\n",
      "32\n",
      "33\n",
      "34\n",
      "35\n",
      "36\n",
      "37\n",
      "38\n",
      "39\n",
      "40\n",
      "41\n",
      "42\n",
      "43\n",
      "44\n",
      "45\n",
      "46\n",
      "47\n",
      "48\n",
      "49\n"
     ]
    }
   ],
   "source": [
    "import sys\n",
    "def gen(n):\n",
    "    for i in range(n):\n",
    "        yield i\n",
    "for i in gen(50):\n",
    "    print(i)\n",
    "\n"
   ]
  },
  {
   "cell_type": "code",
   "execution_count": 72,
   "id": "fe7bc865-9471-4ff7-9b78-744ce07008e3",
   "metadata": {},
   "outputs": [
    {
     "name": "stdout",
     "output_type": "stream",
     "text": [
      "10\n"
     ]
    }
   ],
   "source": [
    "add_1=lambda x,y: x+y\n",
    "result=add_1(1,9)\n",
    "print(result)"
   ]
  },
  {
   "cell_type": "code",
   "execution_count": 76,
   "id": "36361e35-b420-4488-a076-4d5b69c8c2e3",
   "metadata": {},
   "outputs": [
    {
     "name": "stdout",
     "output_type": "stream",
     "text": [
      "[(2, 'a', 'world'), (1, 'b', 'hello'), (3, 'c', 'ok')]\n"
     ]
    }
   ],
   "source": [
    "values=[(1,'b','hello'),(2,'a','world'),(3,'c','ok')]\n",
    "sorted_values=sorted(values,key=lambda x: x[1] + x[2])\n",
    "print(list(sorted_values))"
   ]
  },
  {
   "cell_type": "code",
   "execution_count": 84,
   "id": "9ec3dd53-966c-4d09-8c34-ed65276e26a4",
   "metadata": {},
   "outputs": [
    {
     "name": "stdin",
     "output_type": "stream",
     "text": [
      "Enter the weight: 190\n",
      "(K)g or (L)bs: l\n"
     ]
    },
    {
     "name": "stdout",
     "output_type": "stream",
     "text": [
      "weight in Kg: 85.5\n"
     ]
    }
   ],
   "source": [
    "weight=int(input('Enter the weight:'))\n",
    "unit=input('(K)g or (L)bs:')\n",
    "if unit.upper()=='K':\n",
    "    converted=weight/0.45\n",
    "    print('weight in Lbs: '+str(converted))\n",
    "else:\n",
    "    converted=weight*0.45\n",
    "    print('weight in Kg: '+ str(converted))"
   ]
  },
  {
   "cell_type": "code",
   "execution_count": 85,
   "id": "22a42fc4-adb0-44ab-aa7c-ea507215c4d4",
   "metadata": {},
   "outputs": [
    {
     "name": "stdout",
     "output_type": "stream",
     "text": [
      "3\n",
      "-1\n",
      "2\n",
      "0.5\n"
     ]
    }
   ],
   "source": [
    "def add(x,y):\n",
    "    z=x+y\n",
    "    return z\n",
    "def subtract(x,y):\n",
    "    z=x-y\n",
    "    return z\n",
    "def multiply(x,y):\n",
    "    z=x*y\n",
    "    return z\n",
    "def divide(x,y):\n",
    "    z=x/y\n",
    "    return z\n",
    "print(add(1,2))\n",
    "print(subtract(1,2))\n",
    "print(multiply(1,2))\n",
    "print(divide(1,2))\n",
    "    \n"
   ]
  },
  {
   "cell_type": "code",
   "execution_count": 91,
   "id": "17807385-dd29-48ea-abd5-6c406e26036e",
   "metadata": {},
   "outputs": [
    {
     "name": "stdout",
     "output_type": "stream",
     "text": [
      "Ezuma Festus\n"
     ]
    }
   ],
   "source": [
    "def create_name(first,last):\n",
    "    first=first.capitalize()\n",
    "    last=last.capitalize()\n",
    "    return first+\" \" + last\n",
    "full_name=create_name('ezuma','festus')\n",
    "print(full_name)\n"
   ]
  },
  {
   "cell_type": "code",
   "execution_count": 20,
   "id": "63890cea-e035-4a07-893c-aa2e857f1c9f",
   "metadata": {},
   "outputs": [
    {
     "name": "stdin",
     "output_type": "stream",
     "text": [
      "Enter the number: 8\n"
     ]
    },
    {
     "name": "stdout",
     "output_type": "stream",
     "text": [
      "number is 8\n",
      "square is 64\n"
     ]
    }
   ],
   "source": [
    "class number:\n",
    "     number = int(input('Enter the number:'))\n",
    "     square = number**2\n",
    "     def root(self):\n",
    "        print('number is',self.number)\n",
    "        print(\"square is\",self.square)\n",
    "ob=number()\n",
    "ob.root()\n"
   ]
  },
  {
   "cell_type": "code",
   "execution_count": null,
   "id": "ec11594b-0011-43e5-ad54-73cf765d99da",
   "metadata": {},
   "outputs": [],
   "source": []
  }
 ],
 "metadata": {
  "kernelspec": {
   "display_name": "Python 3 (ipykernel)",
   "language": "python",
   "name": "python3"
  },
  "language_info": {
   "codemirror_mode": {
    "name": "ipython",
    "version": 3
   },
   "file_extension": ".py",
   "mimetype": "text/x-python",
   "name": "python",
   "nbconvert_exporter": "python",
   "pygments_lexer": "ipython3",
   "version": "3.11.7"
  }
 },
 "nbformat": 4,
 "nbformat_minor": 5
}
