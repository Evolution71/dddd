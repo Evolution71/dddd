{
 "cells": [
  {
   "cell_type": "code",
   "execution_count": 2,
   "id": "1845436a-87f8-46e0-8a45-852c80bdbbed",
   "metadata": {},
   "outputs": [
    {
     "name": "stdout",
     "output_type": "stream",
     "text": [
      "Welcome to python class\n"
     ]
    }
   ],
   "source": [
    "## FUNCTIONS\n",
    "def greet():a simple fun with parameter\n",
    "    print('Welcome to python class')\n",
    "greet()\n"
   ]
  },
  {
   "cell_type": "code",
   "execution_count": 3,
   "id": "c014d66c-ef45-49fa-a906-5089c816ee28",
   "metadata": {},
   "outputs": [
    {
     "name": "stdout",
     "output_type": "stream",
     "text": [
      "Welcome to python class\n"
     ]
    }
   ],
   "source": [
    "greet()"
   ]
  },
  {
   "cell_type": "code",
   "execution_count": 6,
   "id": "40050266-12db-42a8-b805-6aa567a91dbb",
   "metadata": {},
   "outputs": [
    {
     "name": "stdout",
     "output_type": "stream",
     "text": [
      "Welcome to python class Job\n"
     ]
    }
   ],
   "source": [
    "def greet2(name):a simple function with a parameter called name\n",
    "    print(f'Welcome to python class {name}')\n",
    "greet2('Job')"
   ]
  },
  {
   "cell_type": "code",
   "execution_count": 10,
   "id": "3c453c3c-6d51-47c6-982b-e89167bc7806",
   "metadata": {},
   "outputs": [
    {
     "name": "stdout",
     "output_type": "stream",
     "text": [
      "NAME:James\n",
      "AGE:25\n",
      "OVERALLSCORE:150\n",
      "Sorrry you did not meet the requirements\n"
     ]
    }
   ],
   "source": [
    "def exams_requirement(name,age,overall_score):a function with multiple parameter\n",
    "    print(f'NAME:{name}\\nAGE:{age}\\nOVERALLSCORE:{overall_score}')\n",
    "    if age>=14 and overall_score>=250:\n",
    "        print(f'Congratulations {name} ,you are eligible for the upcoming exams')\n",
    "    else:\n",
    "        print('Sorrry you did not meet the requirements')\n",
    "exams_requirement('James',25,150)\n",
    "    "
   ]
  },
  {
   "cell_type": "code",
   "execution_count": 13,
   "id": "2e893ae7-4096-41e6-8810-416cd6a1df18",
   "metadata": {},
   "outputs": [
    {
     "name": "stdout",
     "output_type": "stream",
     "text": [
      "NAME:James\n",
      "AGE:25\n",
      "OVERALLSCORE:240\n",
      "Sorrry you did not meet the requirements\n"
     ]
    }
   ],
   "source": [
    "def exams_requirement(name,age,overall_score=250):## a function with default parameter\n",
    "    print(f'NAME:{name}\\nAGE:{age}\\nOVERALLSCORE:{overall_score}')\n",
    "    if age>=14 and overall_score>=250:\n",
    "        print(f'Congratulations {name} ,you are eligible for the upcoming exams')\n",
    "    else:\n",
    "        print('Sorrry you did not meet the requirements')\n",
    "exams_requirement('James',25,240)\n"
   ]
  },
  {
   "cell_type": "code",
   "execution_count": 32,
   "id": "819d16a6-d1d8-4f99-92e7-27663cbab41b",
   "metadata": {},
   "outputs": [
    {
     "name": "stdout",
     "output_type": "stream",
     "text": [
      "ADE's point is 7\n",
      "james point is 11\n",
      "James wins the round\n",
      "\n",
      "ADE's point is 10\n",
      "james point is 4\n",
      "Ade wins the round\n",
      "\n",
      "ADE's point is 10\n",
      "james point is 10\n",
      "DRAW GAME\n",
      "ADE's point is 13\n",
      "james point is 4\n",
      "Ade wins the round\n",
      "\n",
      "ADE's point is 8\n",
      "james point is 9\n",
      "James wins the round\n",
      "\n",
      "ADE's point is 7\n",
      "james point is 7\n",
      "DRAW GAME\n",
      "ADE's point is 7\n",
      "james point is 8\n",
      "James wins the round\n",
      "\n",
      "ADE's point is 7\n",
      "james point is 8\n",
      "James wins the round\n",
      "\n",
      "ADE's point is 8\n",
      "james point is 10\n",
      "James wins the round\n",
      "\n",
      "ADE's point is 6\n",
      "james point is 6\n",
      "DRAW GAME\n",
      "James is the overall winner by 25 point\n"
     ]
    }
   ],
   "source": [
    "def rolling_dice():\n",
    "    import random\n",
    "    ade_score=0\n",
    "    james_score=0\n",
    "    for i in range(1,11):\n",
    "        ade_dice=random.randint(1,7) + random.randint(1,7)\n",
    "        james_dice=random.randint(1,7) + random.randint(1,7)\n",
    "        if ade_dice>james_dice:\n",
    "            print(f'ADE\\'s point is {ade_dice}')\n",
    "            print(f'james point is {james_dice}')\n",
    "            print('Ade wins the round\\n')\n",
    "            ade_score+=5\n",
    "        elif james_dice > ade_dice:\n",
    "            print(f'ADE\\'s point is {ade_dice}')\n",
    "            print(f'james point is {james_dice}')\n",
    "            print('James wins the round\\n')\n",
    "            james_score+=5\n",
    "        elif james_dice==ade_dice:\n",
    "            print(f'ADE\\'s point is {ade_dice}')\n",
    "            print(f'james point is {james_dice}')\n",
    "            print('DRAW GAME')\n",
    "    if ade_score>james_score:\n",
    "            print(f'Ade is the overall winner by {ade_score} point')\n",
    "    elif james_score > ade_score:\n",
    "            print(f'James is the overall winner by {james_score} point')\n",
    "    else:\n",
    "            print('NO WINNER.IT IS A DRAW')\n",
    "rolling_dice()\n",
    "            \n",
    "            \n"
   ]
  },
  {
   "cell_type": "code",
   "execution_count": 23,
   "id": "9e6b826f-3f07-4659-b35d-e4e228b1d95d",
   "metadata": {},
   "outputs": [
    {
     "name": "stdin",
     "output_type": "stream",
     "text": [
      "Enter a number: 5\n",
      "Enter a number: 45\n",
      "Enter a number: 45\n",
      "Enter a number: 45\n",
      "Enter a number: 4\n",
      "Enter a number: 5\n",
      "Enter a number: 5\n",
      "Enter a number: 6\n",
      "Enter a number: 5\n"
     ]
    },
    {
     "name": "stdout",
     "output_type": "stream",
     "text": [
      "The list is full.......\n"
     ]
    }
   ],
   "source": [
    "def collect_number():\n",
    "    numbers=[]\n",
    "    while len(numbers)<=8:\n",
    "        num=int(input('Enter a number:'))\n",
    "        numbers.append(num)\n",
    "    print('The list is full.......')\n",
    "collect_number()\n"
   ]
  },
  {
   "cell_type": "code",
   "execution_count": 25,
   "id": "366f5cf6-1278-48a6-8e65-b4e43e6f59e4",
   "metadata": {},
   "outputs": [
    {
     "name": "stdin",
     "output_type": "stream",
     "text": [
      "Enter the numbers: 4\n",
      "Enter the numbers: 5\n",
      "Enter the numbers: 3\n",
      "Enter the numbers: 5\n",
      "Enter the numbers: 4\n",
      "Enter the numbers: 3\n"
     ]
    },
    {
     "name": "stdout",
     "output_type": "stream",
     "text": [
      "The list is full\n"
     ]
    }
   ],
   "source": [
    "def find():\n",
    "    x=[]\n",
    "    while len(x) <=5:\n",
    "        y=int(input('Enter the numbers:'))\n",
    "        x.append(y)\n",
    "    print('The list is full')\n",
    "find()    "
   ]
  },
  {
   "cell_type": "code",
   "execution_count": null,
   "id": "9943a3e8-2798-4b47-94af-93a38fbcf9cd",
   "metadata": {},
   "outputs": [],
   "source": []
  }
 ],
 "metadata": {
  "kernelspec": {
   "display_name": "Python 3 (ipykernel)",
   "language": "python",
   "name": "python3"
  },
  "language_info": {
   "codemirror_mode": {
    "name": "ipython",
    "version": 3
   },
   "file_extension": ".py",
   "mimetype": "text/x-python",
   "name": "python",
   "nbconvert_exporter": "python",
   "pygments_lexer": "ipython3",
   "version": "3.11.7"
  }
 },
 "nbformat": 4,
 "nbformat_minor": 5
}
