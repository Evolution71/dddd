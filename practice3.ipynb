{
 "cells": [
  {
   "cell_type": "code",
   "execution_count": 2,
   "id": "6e0f2e67-0ce9-484e-9885-25b3cf2106f8",
   "metadata": {},
   "outputs": [
    {
     "name": "stdout",
     "output_type": "stream",
     "text": [
      "I sold 125 liters of disel at the price of 150000 \n"
     ]
    }
   ],
   "source": [
    "liters = 150000\n",
    "price = 125\n",
    "report = 'I sold {} liters of disel at the price of {} '\n",
    "print(report.format(price,liters))"
   ]
  },
  {
   "cell_type": "code",
   "execution_count": 3,
   "id": "82dcda39-1979-4851-935d-f1a8b891a71e",
   "metadata": {},
   "outputs": [
    {
     "name": "stdout",
     "output_type": "stream",
     "text": [
      " I sold 125 liters of diesel at 150000 naira\n"
     ]
    }
   ],
   "source": [
    "print(f' I sold {price} liters of diesel at {liters} naira')"
   ]
  },
  {
   "cell_type": "code",
   "execution_count": 11,
   "id": "66705e02-9221-410a-a551-5c3666fbc0db",
   "metadata": {},
   "outputs": [
    {
     "name": "stdout",
     "output_type": "stream",
     "text": [
      "['I', 'sold', '125', 'liters', 'of', 'disel', 'at', 'the', 'price', 'of', '150000']\n"
     ]
    }
   ],
   "source": [
    "print(report.format(price,liters).split())"
   ]
  },
  {
   "cell_type": "code",
   "execution_count": 12,
   "id": "3fc56996-c1d2-453f-81f8-25d65fed5a02",
   "metadata": {},
   "outputs": [
    {
     "name": "stdout",
     "output_type": "stream",
     "text": [
      "I sold 125 liters of disel at the price of 150000 \n"
     ]
    }
   ],
   "source": [
    "print(report.format(price,liters).capitalize())"
   ]
  },
  {
   "cell_type": "code",
   "execution_count": 16,
   "id": "d16936cc-5902-4786-b4f7-8a71746c3a0e",
   "metadata": {},
   "outputs": [
    {
     "name": "stdout",
     "output_type": "stream",
     "text": [
      "I Sold 125 Liters Of Disel At The Price Of 150000 \n"
     ]
    }
   ],
   "source": [
    "print(report.format(price,liters).title())"
   ]
  },
  {
   "cell_type": "code",
   "execution_count": 17,
   "id": "ed262b46-6987-493b-994d-6bb8103bdd65",
   "metadata": {},
   "outputs": [
    {
     "name": "stdout",
     "output_type": "stream",
     "text": [
      "I sold one liter of fuel at a price of 40006666 and made profit of 309\n"
     ]
    }
   ],
   "source": [
    "eku = 'I sold one liter of fuel at a price of 40006666 and made profit of 309'\n",
    "print(eku)"
   ]
  },
  {
   "cell_type": "code",
   "execution_count": 18,
   "id": "a69fe4ba-f6e9-47bc-aa86-0fa06a2f62c3",
   "metadata": {},
   "outputs": [
    {
     "name": "stdout",
     "output_type": "stream",
     "text": [
      "<class 'tuple'>\n"
     ]
    }
   ],
   "source": [
    "name = (23,33,45,33,56,33,44,56,43,23,2,3,4,4,44,44)\n",
    "print(type(name))"
   ]
  },
  {
   "cell_type": "code",
   "execution_count": 23,
   "id": "58e3cc62-1009-4fe2-a022-40fb3a532492",
   "metadata": {},
   "outputs": [
    {
     "name": "stdout",
     "output_type": "stream",
     "text": [
      "56\n"
     ]
    }
   ],
   "source": [
    "print(name[7])"
   ]
  },
  {
   "cell_type": "code",
   "execution_count": 25,
   "id": "24ceaac8-3618-4cd8-bd2d-ea2d3d5e0c92",
   "metadata": {},
   "outputs": [
    {
     "name": "stdout",
     "output_type": "stream",
     "text": [
      "2\n"
     ]
    }
   ],
   "source": [
    "print(name.count(4))"
   ]
  },
  {
   "cell_type": "code",
   "execution_count": 34,
   "id": "4cdb0374-1ffb-4da2-896f-043c789ebc2d",
   "metadata": {},
   "outputs": [
    {
     "name": "stdout",
     "output_type": "stream",
     "text": [
      "(56, 33, 44, 56)\n"
     ]
    }
   ],
   "source": [
    "print(name[4:8])"
   ]
  },
  {
   "cell_type": "code",
   "execution_count": 39,
   "id": "1b0a8694-2f32-4676-9425-7791bf8a0a17",
   "metadata": {},
   "outputs": [
    {
     "name": "stdout",
     "output_type": "stream",
     "text": [
      "0\n"
     ]
    }
   ],
   "source": [
    "print(name.count(99))"
   ]
  },
  {
   "cell_type": "code",
   "execution_count": 43,
   "id": "6789014b-d2fe-4ca4-8be4-5ab05d2449b7",
   "metadata": {},
   "outputs": [
    {
     "name": "stdout",
     "output_type": "stream",
     "text": [
      "4\n"
     ]
    }
   ],
   "source": [
    "print(name.index(56))"
   ]
  },
  {
   "cell_type": "code",
   "execution_count": 44,
   "id": "85feca01-8e43-4aea-baa2-080982d03f71",
   "metadata": {},
   "outputs": [
    {
     "name": "stdout",
     "output_type": "stream",
     "text": [
      "True\n"
     ]
    }
   ],
   "source": [
    "print(56 in name)"
   ]
  },
  {
   "cell_type": "code",
   "execution_count": 45,
   "id": "478e4e1a-c369-44a9-867e-7fcf54d22a2f",
   "metadata": {},
   "outputs": [
    {
     "name": "stdout",
     "output_type": "stream",
     "text": [
      "False\n"
     ]
    }
   ],
   "source": [
    "print(99 in name)"
   ]
  },
  {
   "cell_type": "code",
   "execution_count": 47,
   "id": "4ad5becb-4768-456f-9c9c-afe0f65534a9",
   "metadata": {},
   "outputs": [
    {
     "name": "stdout",
     "output_type": "stream",
     "text": [
      "['32', '34', '55', '67', '67', '78', '90', '89']\n"
     ]
    }
   ],
   "source": [
    "name = ['32','34','55','67','67','78','90','89']\n",
    "print(name)"
   ]
  },
  {
   "cell_type": "code",
   "execution_count": 51,
   "id": "bbdea7a0-e27f-4d38-b3b7-1daf07edab62",
   "metadata": {},
   "outputs": [
    {
     "name": "stdout",
     "output_type": "stream",
     "text": [
      "None\n"
     ]
    }
   ],
   "source": [
    "name.append('89')"
   ]
  },
  {
   "cell_type": "code",
   "execution_count": 52,
   "id": "524f67a0-343e-4427-a6b4-adb803be3255",
   "metadata": {},
   "outputs": [
    {
     "name": "stdout",
     "output_type": "stream",
     "text": [
      "['32', '34', '55', '67', '67', '78', '90', '89', '70', '89']\n"
     ]
    }
   ],
   "source": [
    "print(name)"
   ]
  },
  {
   "cell_type": "code",
   "execution_count": 65,
   "id": "e570617a-90b6-446b-8891-1885529665f5",
   "metadata": {},
   "outputs": [
    {
     "ename": "TypeError",
     "evalue": "'<' not supported between instances of 'list' and 'str'",
     "output_type": "error",
     "traceback": [
      "\u001b[1;31m---------------------------------------------------------------------------\u001b[0m",
      "\u001b[1;31mTypeError\u001b[0m                                 Traceback (most recent call last)",
      "Cell \u001b[1;32mIn[65], line 1\u001b[0m\n\u001b[1;32m----> 1\u001b[0m name\u001b[38;5;241m.\u001b[39msort()\n\u001b[0;32m      2\u001b[0m \u001b[38;5;28mprint\u001b[39m(\u001b[38;5;124m'\u001b[39m\u001b[38;5;124mname\u001b[39m\u001b[38;5;124m'\u001b[39m)\n",
      "\u001b[1;31mTypeError\u001b[0m: '<' not supported between instances of 'list' and 'str'"
     ]
    }
   ],
   "source": [
    "name.sort()\n",
    "print(name)"
   ]
  },
  {
   "cell_type": "code",
   "execution_count": 54,
   "id": "c546276f-d979-486e-aafa-b913846644e8",
   "metadata": {},
   "outputs": [
    {
     "name": "stdout",
     "output_type": "stream",
     "text": [
      "['32', '34', '55', '67', '67', 'Eku World Wide', '70', '78', '89', '89', '90']\n"
     ]
    }
   ],
   "source": [
    "name.insert(5 ,'Eku World Wide')\n",
    "print(name)"
   ]
  },
  {
   "cell_type": "code",
   "execution_count": 57,
   "id": "1d826850-6db0-4360-8777-d44278724aef",
   "metadata": {},
   "outputs": [
    {
     "name": "stdout",
     "output_type": "stream",
     "text": [
      "['32', '34', '55', '67', '67', 'Eku World Wide', '70', '78', '89', '89', '90', ('tree', 'pop'), ['tree', 'pop'], 'tree', 'pop']\n"
     ]
    }
   ],
   "source": [
    "p = ['tree','pop']\n",
    "name.extend(p)\n",
    "print(name)"
   ]
  },
  {
   "cell_type": "code",
   "execution_count": 59,
   "id": "e283ffac-b5c6-4c54-89c3-1ccf7abfefbc",
   "metadata": {},
   "outputs": [
    {
     "name": "stdout",
     "output_type": "stream",
     "text": [
      "['32', '34', '55', '67', '67', '70', '78', '89', '89', '90', ('tree', 'pop'), ['tree', 'pop'], 'tree', 'pop']\n"
     ]
    }
   ],
   "source": [
    "name.pop(5)\n",
    "print(name)"
   ]
  },
  {
   "cell_type": "code",
   "execution_count": 66,
   "id": "5614e7fb-8ad5-41b9-b46d-dc83efdbda93",
   "metadata": {},
   "outputs": [
    {
     "name": "stdout",
     "output_type": "stream",
     "text": [
      "14\n",
      "['pop', 'tree', ['tree', 'pop'], ('tree', 'pop'), '90', '89', '89', '78', '70', '67', '67', '55', '34', '32']\n"
     ]
    }
   ],
   "source": [
    "print(len(name))\n",
    "print(name)"
   ]
  },
  {
   "cell_type": "code",
   "execution_count": 61,
   "id": "0ee26879-6088-4339-b713-90b49eda450e",
   "metadata": {},
   "outputs": [],
   "source": [
    "name.reverse()"
   ]
  },
  {
   "cell_type": "code",
   "execution_count": 62,
   "id": "e10f926c-ca34-4c50-b62d-91254b60d356",
   "metadata": {},
   "outputs": [
    {
     "name": "stdout",
     "output_type": "stream",
     "text": [
      "['pop', 'tree', ['tree', 'pop'], ('tree', 'pop'), '90', '89', '89', '78', '70', '67', '67', '55', '34', '32']\n"
     ]
    }
   ],
   "source": [
    "print(name)"
   ]
  },
  {
   "cell_type": "code",
   "execution_count": null,
   "id": "eac14a14-e323-4de4-bf9f-f789046c9fbf",
   "metadata": {},
   "outputs": [],
   "source": []
  }
 ],
 "metadata": {
  "kernelspec": {
   "display_name": "Python 3 (ipykernel)",
   "language": "python",
   "name": "python3"
  },
  "language_info": {
   "codemirror_mode": {
    "name": "ipython",
    "version": 3
   },
   "file_extension": ".py",
   "mimetype": "text/x-python",
   "name": "python",
   "nbconvert_exporter": "python",
   "pygments_lexer": "ipython3",
   "version": "3.11.7"
  }
 },
 "nbformat": 4,
 "nbformat_minor": 5
}
