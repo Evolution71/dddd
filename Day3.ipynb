{
 "cells": [
  {
   "cell_type": "markdown",
   "id": "18f3edf6-f77d-4ad0-ba5f-719d12399820",
   "metadata": {},
   "source": [
    "### ITERABLE OBJECT\n",
    "## turple\n",
    "## list\n",
    "## dictionary\n",
    "## range"
   ]
  },
  {
   "cell_type": "code",
   "execution_count": 1,
   "id": "c10b08e4-a5d8-4714-a6bd-2efee6848813",
   "metadata": {},
   "outputs": [],
   "source": [
    "## TUPLE IS UNCHANGEABLE\n",
    "## TURPLE MUST BE ORDERED\n",
    "## TURBPLE IS DENOTED WITH()\n",
    "## TO ACCESS VALUES FROM TURPLE WE USE THE INDEX LOCATION\n",
    "## TURPLE ACCOMMODATES ALL BASIC DATATYPES"
   ]
  },
  {
   "cell_type": "code",
   "execution_count": 3,
   "id": "2006df6a-1904-41fe-b42e-37356754f4f0",
   "metadata": {},
   "outputs": [
    {
     "name": "stdout",
     "output_type": "stream",
     "text": [
      "<class 'tuple'>\n"
     ]
    }
   ],
   "source": [
    "numbers = (14,18,20,25,36,24,27,14,29,33,37,38,14,12,10,11,)\n",
    "print(type(numbers))"
   ]
  },
  {
   "cell_type": "code",
   "execution_count": 4,
   "id": "0b2ce6e3-453d-4e81-b6a4-8f3fd3faa740",
   "metadata": {},
   "outputs": [
    {
     "name": "stdout",
     "output_type": "stream",
     "text": [
      "16\n"
     ]
    }
   ],
   "source": [
    "print(len(numbers))"
   ]
  },
  {
   "cell_type": "code",
   "execution_count": 7,
   "id": "49b73f70-6bad-4910-8b20-05c5e294d77d",
   "metadata": {},
   "outputs": [
    {
     "name": "stdout",
     "output_type": "stream",
     "text": [
      "14\n"
     ]
    }
   ],
   "source": [
    "print(numbers[7])#select a value via the index location count from the starting value(0)\n",
    "\n"
   ]
  },
  {
   "cell_type": "code",
   "execution_count": 9,
   "id": "5b7633fa-1c84-4be4-8228-783a827c7698",
   "metadata": {},
   "outputs": [
    {
     "name": "stdout",
     "output_type": "stream",
     "text": [
      "14\n"
     ]
    }
   ],
   "source": [
    "print(numbers[-9]) #selecting a value "
   ]
  },
  {
   "cell_type": "code",
   "execution_count": 10,
   "id": "1bfb82d9-4102-4d52-bf52-8c986f3481bf",
   "metadata": {},
   "outputs": [
    {
     "name": "stdout",
     "output_type": "stream",
     "text": [
      "(27, 14, 29, 33, 37)\n"
     ]
    }
   ],
   "source": [
    "print(numbers[6:11]) #selecting a range value from turple"
   ]
  },
  {
   "cell_type": "code",
   "execution_count": 11,
   "id": "a76e35b1-e75d-4cf3-97fa-7ee8c7548118",
   "metadata": {},
   "outputs": [
    {
     "name": "stdout",
     "output_type": "stream",
     "text": [
      "3\n"
     ]
    }
   ],
   "source": [
    "print(numbers.count(14))"
   ]
  },
  {
   "cell_type": "code",
   "execution_count": 12,
   "id": "549148d0-569c-463b-8fec-7141000b7db0",
   "metadata": {},
   "outputs": [
    {
     "name": "stdout",
     "output_type": "stream",
     "text": [
      "5\n"
     ]
    }
   ],
   "source": [
    "print(numbers.index(24))"
   ]
  },
  {
   "cell_type": "code",
   "execution_count": 13,
   "id": "76b0bc1a-bb18-47a8-aa91-baddc2c5d8fb",
   "metadata": {},
   "outputs": [
    {
     "name": "stdout",
     "output_type": "stream",
     "text": [
      "False\n"
     ]
    }
   ],
   "source": [
    "print(26 in numbers)"
   ]
  },
  {
   "cell_type": "markdown",
   "id": "ad316e96-d0c0-4e8b-aa1f-c58be18c0823",
   "metadata": {},
   "source": [
    "## LIST"
   ]
  },
  {
   "cell_type": "code",
   "execution_count": 14,
   "id": "418d0d8b-650b-4fef-9153-c678c80e5d48",
   "metadata": {},
   "outputs": [],
   "source": [
    "## list is changeable\n",
    "## list can be ordered or unordered\n",
    "## list is denoted with[]\n",
    "## to access values from a list we use the index location\n",
    "## accommodates all basic datatypes"
   ]
  },
  {
   "cell_type": "code",
   "execution_count": 15,
   "id": "068e8cc0-b47c-4dca-833b-56ee5f9ccbdb",
   "metadata": {},
   "outputs": [],
   "source": [
    "# append: this will add th new values at the end of the list "
   ]
  },
  {
   "cell_type": "code",
   "execution_count": 17,
   "id": "e33cda8e-bd3d-41ad-b702-bc848b96d1a0",
   "metadata": {},
   "outputs": [
    {
     "name": "stdout",
     "output_type": "stream",
     "text": [
      "['Apple', 'Red book', 'Pen', 'Cherry', 'Lemon', 'pear']\n"
     ]
    }
   ],
   "source": [
    "items = ['Apple','Red book','Pen','Cherry','Lemon']\n",
    "items.append('pear')\n",
    "print(items)"
   ]
  },
  {
   "cell_type": "code",
   "execution_count": 18,
   "id": "65f9334a-17aa-4162-9c5d-ea91fa85ffa9",
   "metadata": {},
   "outputs": [],
   "source": [
    "## insert: this will add the new value at bthe specified location in the existing list"
   ]
  },
  {
   "cell_type": "code",
   "execution_count": 19,
   "id": "2fb41e0f-0ff5-4b01-913f-04e0a7dfb4ca",
   "metadata": {},
   "outputs": [
    {
     "name": "stdout",
     "output_type": "stream",
     "text": [
      "['Apple', 'Red book', 'Pen', 'Strawberry', 'Cherry', 'Lemon', 'pear']\n"
     ]
    }
   ],
   "source": [
    "items.insert(3,'Strawberry')\n",
    "print(items)"
   ]
  },
  {
   "cell_type": "code",
   "execution_count": 20,
   "id": "2958dcc7-65b6-4eb4-851f-f27674276f30",
   "metadata": {},
   "outputs": [
    {
     "name": "stdout",
     "output_type": "stream",
     "text": [
      "['Apple', 'Red book', 'Pen', 'Strawberry', 'Cherry', 'Lemon', 'pear', 'pen', 'coconut']\n"
     ]
    }
   ],
   "source": [
    "#extent:this will move items from one list or tuple to another \n",
    "f = ['pen','coconut']\n",
    "items.extend(f)\n",
    "print(items)"
   ]
  },
  {
   "cell_type": "code",
   "execution_count": 21,
   "id": "0f64ee5e-4e74-4b1c-8507-8837615b7f80",
   "metadata": {},
   "outputs": [
    {
     "name": "stdout",
     "output_type": "stream",
     "text": [
      "['Apple', 'Red book', 'Pen', 'Strawberry', 'Cherry', 'pear', 'pen', 'coconut']\n"
     ]
    }
   ],
   "source": [
    "# pop: this will remove a value from a list on the specified location\n",
    "items.pop(5)\n",
    "print(items)"
   ]
  },
  {
   "cell_type": "code",
   "execution_count": 22,
   "id": "8c3b8c8d-6813-49b0-acb4-3052b1aa2151",
   "metadata": {},
   "outputs": [],
   "source": [
    "# remove: this will remove specified value from a list"
   ]
  },
  {
   "cell_type": "code",
   "execution_count": 25,
   "id": "203420f6-9472-4f83-8def-36e9e6b295c5",
   "metadata": {},
   "outputs": [
    {
     "name": "stdout",
     "output_type": "stream",
     "text": [
      "['Apple', 'Red book', 'Pen', 'Strawberry', 'Cherry', 'pen', 'coconut']\n"
     ]
    }
   ],
   "source": [
    "items.remove('pear')\n",
    "print(items)"
   ]
  },
  {
   "cell_type": "code",
   "execution_count": 26,
   "id": "04c4fe61-169a-4137-a2df-833e0c9b0da4",
   "metadata": {},
   "outputs": [
    {
     "name": "stdout",
     "output_type": "stream",
     "text": [
      "['Apple', 'Cherry', 'Pen', 'Red book', 'Strawberry', 'coconut', 'pen']\n"
     ]
    }
   ],
   "source": [
    "items.sort()\n",
    "print(items)"
   ]
  },
  {
   "cell_type": "code",
   "execution_count": 27,
   "id": "1b9d6248-1a46-4054-afa3-a4461ceced2f",
   "metadata": {},
   "outputs": [
    {
     "name": "stdout",
     "output_type": "stream",
     "text": [
      "['pen', 'coconut', 'Strawberry', 'Red book', 'Pen', 'Cherry', 'Apple']\n"
     ]
    }
   ],
   "source": [
    "items.reverse()\n",
    "print(items)"
   ]
  },
  {
   "cell_type": "code",
   "execution_count": 28,
   "id": "de8a66cb-6b66-427b-9382-0b453cd6f71c",
   "metadata": {},
   "outputs": [
    {
     "name": "stdout",
     "output_type": "stream",
     "text": [
      "['pen', 'coconut', 'Strawberry', 'Red book', 'Pen', 'Cherry', 'Apple']\n"
     ]
    }
   ],
   "source": [
    "items2 = items.copy()\n",
    "print(items2)"
   ]
  },
  {
   "cell_type": "code",
   "execution_count": 3,
   "id": "42eac56a-8177-4e2f-950b-aee27029024b",
   "metadata": {},
   "outputs": [
    {
     "ename": "NameError",
     "evalue": "name 'items2' is not defined",
     "output_type": "error",
     "traceback": [
      "\u001b[1;31m---------------------------------------------------------------------------\u001b[0m",
      "\u001b[1;31mNameError\u001b[0m                                 Traceback (most recent call last)",
      "Cell \u001b[1;32mIn[3], line 1\u001b[0m\n\u001b[1;32m----> 1\u001b[0m items2\u001b[38;5;241m.\u001b[39mclear()\n\u001b[0;32m      2\u001b[0m \u001b[38;5;28mprint\u001b[39m(items2)\n",
      "\u001b[1;31mNameError\u001b[0m: name 'items2' is not defined"
     ]
    }
   ],
   "source": [
    "items2.clear()\n",
    "print(items2)"
   ]
  },
  {
   "cell_type": "code",
   "execution_count": 31,
   "id": "a367f4c8-cf94-4dab-93b3-bc62d9f533de",
   "metadata": {},
   "outputs": [],
   "source": [
    "# Exercise"
   ]
  },
  {
   "cell_type": "code",
   "execution_count": 39,
   "id": "3c6ed6d5-989d-4f8b-bae0-9b1efc1776f3",
   "metadata": {},
   "outputs": [
    {
     "name": "stdout",
     "output_type": "stream",
     "text": [
      "['10', '20', '30', '40', '50', '60']\n"
     ]
    }
   ],
   "source": [
    "item1 = ['10','20','30','40','50']\n",
    "item1.append('60')\n",
    "print(item1)"
   ]
  },
  {
   "cell_type": "code",
   "execution_count": 40,
   "id": "36432e8a-972c-4963-913e-fb5cab3d4076",
   "metadata": {},
   "outputs": [
    {
     "name": "stdout",
     "output_type": "stream",
     "text": [
      "['10', '20', '40', '50', '60']\n"
     ]
    }
   ],
   "source": [
    "item1.remove('30')\n",
    "print(item1)"
   ]
  },
  {
   "cell_type": "code",
   "execution_count": 42,
   "id": "2454de86-7423-43d8-bc20-c6197b9112ac",
   "metadata": {},
   "outputs": [
    {
     "name": "stdout",
     "output_type": "stream",
     "text": [
      "['10', '20', '40', '50', '60', 'Apple', 'Banana', 'Cherry', 'Apple', 'Banana', 'Cherry']\n"
     ]
    }
   ],
   "source": [
    "my_list = ['Apple','Banana','Cherry']\n",
    "item1.extend(my_list)\n",
    "print(item1)"
   ]
  },
  {
   "cell_type": "code",
   "execution_count": 43,
   "id": "1a14d6cd-74d8-44cf-a7b2-7b2951134fc1",
   "metadata": {},
   "outputs": [
    {
     "name": "stdout",
     "output_type": "stream",
     "text": [
      "['1', '2', '3', '4', '5']\n"
     ]
    }
   ],
   "source": [
    "item2 = ['4','1','3','5','2']\n",
    "item2.sort()\n",
    "print(item2)"
   ]
  },
  {
   "cell_type": "code",
   "execution_count": 48,
   "id": "883f4517-0765-4097-9947-6d3e98fd33a5",
   "metadata": {},
   "outputs": [
    {
     "name": "stdout",
     "output_type": "stream",
     "text": [
      "4\n"
     ]
    }
   ],
   "source": [
    "my_list = ('a','b','c','d')\n",
    "print(len(my_list))"
   ]
  },
  {
   "cell_type": "code",
   "execution_count": 51,
   "id": "14c88e1c-02cf-41ab-b8bf-e30d683a78f6",
   "metadata": {},
   "outputs": [
    {
     "name": "stdout",
     "output_type": "stream",
     "text": [
      "25\n"
     ]
    }
   ],
   "source": [
    "records = {\n",
    "    'Name': 'Ade',\n",
    "    'Age' :25,\n",
    "    'Gender':'Male'\n",
    "\n",
    "}\n",
    "print(records['Age'])"
   ]
  },
  {
   "cell_type": "code",
   "execution_count": 52,
   "id": "a3a740d4-648a-4789-8eb1-b985277388f6",
   "metadata": {},
   "outputs": [
    {
     "name": "stdout",
     "output_type": "stream",
     "text": [
      "dict_keys(['Name', 'Age', 'Gender'])\n"
     ]
    }
   ],
   "source": [
    "print(records.keys())"
   ]
  },
  {
   "cell_type": "code",
   "execution_count": 53,
   "id": "8cf4abdd-def7-47c0-8b7a-cf0d0e3133bb",
   "metadata": {},
   "outputs": [
    {
     "name": "stdout",
     "output_type": "stream",
     "text": [
      "dict_values(['Ade', 25, 'Male'])\n"
     ]
    }
   ],
   "source": [
    "print(records.values())"
   ]
  },
  {
   "cell_type": "code",
   "execution_count": 55,
   "id": "9269d877-0b40-47cd-8df3-c9b2a2754992",
   "metadata": {},
   "outputs": [
    {
     "name": "stdout",
     "output_type": "stream",
     "text": [
      "{'Name': 'Ade', 'Age': 25, 'Gender': 'Male', 'Height': 1.95}\n"
     ]
    }
   ],
   "source": [
    "records['Height'] = 1.95\n",
    "print(records)"
   ]
  },
  {
   "cell_type": "code",
   "execution_count": 56,
   "id": "99b32a3d-adef-4305-92b9-19de1315001f",
   "metadata": {},
   "outputs": [
    {
     "name": "stdout",
     "output_type": "stream",
     "text": [
      "{'Name': 'Ade', 'Age': 30, 'Gender': 'Male', 'Height': 1.95}\n"
     ]
    }
   ],
   "source": [
    "records.update({'Age':30})\n",
    "print(records)"
   ]
  },
  {
   "cell_type": "code",
   "execution_count": 57,
   "id": "b9c88626-ee2d-4b44-944f-cb4367150c6b",
   "metadata": {},
   "outputs": [
    {
     "name": "stdout",
     "output_type": "stream",
     "text": [
      "False\n"
     ]
    }
   ],
   "source": [
    "print(50 in item1)"
   ]
  },
  {
   "cell_type": "code",
   "execution_count": 58,
   "id": "9d06c4c8-2a73-4fa1-afb8-af828e8d5dcf",
   "metadata": {},
   "outputs": [
    {
     "name": "stdout",
     "output_type": "stream",
     "text": [
      "{'Name': 'Ade', 'Age': 30, 'Height': 1.95}\n"
     ]
    }
   ],
   "source": [
    "records.pop('Gender')\n",
    "print(records)"
   ]
  },
  {
   "cell_type": "code",
   "execution_count": 59,
   "id": "6e0d3dd8-7364-42ac-bff2-0cf8f6388f16",
   "metadata": {},
   "outputs": [
    {
     "name": "stdout",
     "output_type": "stream",
     "text": [
      "{'Name': 'Ade', 'Age': 30}\n"
     ]
    }
   ],
   "source": [
    "records.popitem()\n",
    "print(records)"
   ]
  },
  {
   "cell_type": "code",
   "execution_count": 61,
   "id": "01034a01-c0b7-4023-92fc-2c8f9dd99b4c",
   "metadata": {},
   "outputs": [],
   "source": [
    "##Exercise"
   ]
  },
  {
   "cell_type": "code",
   "execution_count": 62,
   "id": "3b06f1ac-85e9-4097-bb8e-23e93e7f06a3",
   "metadata": {},
   "outputs": [
    {
     "name": "stdout",
     "output_type": "stream",
     "text": [
      "{'Name': 'Alice', 'Age': 27, 'City': 'NewYork'}\n"
     ]
    }
   ],
   "source": [
    "givendata = {\n",
    "    'Name':'Alice',\n",
    "    'Age':27,\n",
    "    'City':'NewYork',\n",
    "}\n",
    "print(givendata)"
   ]
  },
  {
   "cell_type": "code",
   "execution_count": 63,
   "id": "f6828eb8-41ef-4978-bce1-b595e03cbda4",
   "metadata": {},
   "outputs": [
    {
     "name": "stdout",
     "output_type": "stream",
     "text": [
      "dict_values(['Alice', 27, 'NewYork'])\n"
     ]
    }
   ],
   "source": [
    "print(givendata.values())"
   ]
  },
  {
   "cell_type": "code",
   "execution_count": 64,
   "id": "5affcd65-68bb-4759-9297-bd3a2740807c",
   "metadata": {},
   "outputs": [
    {
     "name": "stdout",
     "output_type": "stream",
     "text": [
      "{'Name': 'Alice', 'Age': 27, 'City': 'NewYork', 'Country': 'USA'}\n"
     ]
    }
   ],
   "source": [
    "givendata['Country'] = 'USA'\n",
    "print(givendata)"
   ]
  },
  {
   "cell_type": "code",
   "execution_count": 65,
   "id": "b9521398-41d5-44da-9404-5c25e89efd38",
   "metadata": {},
   "outputs": [],
   "source": [
    "givendata.update({'City':'Los Angeles'})"
   ]
  },
  {
   "cell_type": "code",
   "execution_count": 66,
   "id": "3bd50a7d-b3b1-4d1c-87c3-73c4aa20f639",
   "metadata": {},
   "outputs": [
    {
     "name": "stdout",
     "output_type": "stream",
     "text": [
      "{'Name': 'Alice', 'Age': 27, 'City': 'Los Angeles', 'Country': 'USA'}\n"
     ]
    }
   ],
   "source": [
    "print(givendata)"
   ]
  },
  {
   "cell_type": "code",
   "execution_count": 70,
   "id": "d62e1cad-d65e-4178-982f-65936de78cd7",
   "metadata": {},
   "outputs": [
    {
     "name": "stdout",
     "output_type": "stream",
     "text": [
      "True\n"
     ]
    }
   ],
   "source": [
    "print('Name' in givendata)"
   ]
  },
  {
   "cell_type": "code",
   "execution_count": 71,
   "id": "afadd4ec-777e-4263-92c9-e5908d3525d3",
   "metadata": {},
   "outputs": [
    {
     "name": "stdout",
     "output_type": "stream",
     "text": [
      "dict_keys(['Name', 'Age', 'City', 'Country'])\n"
     ]
    }
   ],
   "source": [
    "print(givendata.keys())"
   ]
  },
  {
   "cell_type": "code",
   "execution_count": 72,
   "id": "4cd836b3-165b-44b2-af5c-17a20267abf5",
   "metadata": {},
   "outputs": [
    {
     "name": "stdout",
     "output_type": "stream",
     "text": [
      "dict_values(['Alice', 27, 'Los Angeles', 'USA'])\n"
     ]
    }
   ],
   "source": [
    "print(givendata.values())"
   ]
  },
  {
   "cell_type": "code",
   "execution_count": null,
   "id": "d13281ee-cb17-40c8-830d-afc130f3124c",
   "metadata": {},
   "outputs": [],
   "source": []
  }
 ],
 "metadata": {
  "kernelspec": {
   "display_name": "Python 3 (ipykernel)",
   "language": "python",
   "name": "python3"
  },
  "language_info": {
   "codemirror_mode": {
    "name": "ipython",
    "version": 3
   },
   "file_extension": ".py",
   "mimetype": "text/x-python",
   "name": "python",
   "nbconvert_exporter": "python",
   "pygments_lexer": "ipython3",
   "version": "3.11.7"
  }
 },
 "nbformat": 4,
 "nbformat_minor": 5
}
