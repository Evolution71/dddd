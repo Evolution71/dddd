{
 "cells": [
  {
   "cell_type": "markdown",
   "id": "1f8ac01f-f2ca-4217-992a-96608d795f0f",
   "metadata": {},
   "source": [
    "## ERROR HANDLING\n",
    "## FILE HANDLING"
   ]
  },
  {
   "cell_type": "code",
   "execution_count": 2,
   "id": "9603f409-ce40-488b-8c67-3a3cf0804383",
   "metadata": {},
   "outputs": [
    {
     "name": "stdin",
     "output_type": "stream",
     "text": [
      "Enter the first number: 45\n",
      "Enter the second number\" p\n"
     ]
    },
    {
     "ename": "ValueError",
     "evalue": "invalid literal for int() with base 10: 'p'",
     "output_type": "error",
     "traceback": [
      "\u001b[1;31m---------------------------------------------------------------------------\u001b[0m",
      "\u001b[1;31mValueError\u001b[0m                                Traceback (most recent call last)",
      "Cell \u001b[1;32mIn[2], line 2\u001b[0m\n\u001b[0;32m      1\u001b[0m num1 \u001b[38;5;241m=\u001b[39m \u001b[38;5;28mint\u001b[39m(\u001b[38;5;28minput\u001b[39m(\u001b[38;5;124m'\u001b[39m\u001b[38;5;124mEnter the first number:\u001b[39m\u001b[38;5;124m'\u001b[39m))\n\u001b[1;32m----> 2\u001b[0m num2 \u001b[38;5;241m=\u001b[39m \u001b[38;5;28mint\u001b[39m(\u001b[38;5;28minput\u001b[39m(\u001b[38;5;124m'\u001b[39m\u001b[38;5;124mEnter the second number\u001b[39m\u001b[38;5;124m\"\u001b[39m\u001b[38;5;124m'\u001b[39m))\n\u001b[0;32m      3\u001b[0m \u001b[38;5;28mprint\u001b[39m(num1 \u001b[38;5;241m+\u001b[39m num2)\n",
      "\u001b[1;31mValueError\u001b[0m: invalid literal for int() with base 10: 'p'"
     ]
    }
   ],
   "source": [
    "num1 = int(input('Enter the first number:'))\n",
    "num2 = int(input('Enter the second number\"'))\n",
    "print(num1 + num2)"
   ]
  },
  {
   "cell_type": "code",
   "execution_count": 4,
   "id": "f4a08fed-b089-402c-9b29-44e7fa1a7245",
   "metadata": {},
   "outputs": [
    {
     "name": "stdin",
     "output_type": "stream",
     "text": [
      "Enter the first number: 45\n",
      "Enter the second number\" p\n"
     ]
    },
    {
     "name": "stdout",
     "output_type": "stream",
     "text": [
      "You have one or more error\n"
     ]
    }
   ],
   "source": [
    "try:\n",
    "    num1 = int(input('Enter the first number:'))\n",
    "    num2 = int(input('Enter the second number\"'))\n",
    "    print(num1 + num2)\n",
    "except:\n",
    "    print('You have one or more error')\n"
   ]
  },
  {
   "cell_type": "code",
   "execution_count": 4,
   "id": "f85ce18f-d49a-471b-8048-2f83de7356d1",
   "metadata": {},
   "outputs": [
    {
     "name": "stdin",
     "output_type": "stream",
     "text": [
      "Enter the first number: 2\n",
      "Enter the second number: 2\n",
      "Enter [+,-,*,/] *\n"
     ]
    },
    {
     "name": "stdout",
     "output_type": "stream",
     "text": [
      "2 * 2 = 4\n"
     ]
    }
   ],
   "source": [
    "try:\n",
    "    num = int(input('Enter the first number:'))\n",
    "    numb2 = int(input('Enter the second number:'))\n",
    "    ari = input('Enter [+,-,*,/]')\n",
    "    if ari == '+':\n",
    "       print(f'{num} + {numb2} = {num + numb2}')\n",
    "    elif ari == '-':\n",
    "       print(f'{num} - {numb2} = {num - numb2}')\n",
    "    elif ari == '*':\n",
    "       print(f'{num} * {numb2} = {num * numb2}')\n",
    "    elif ari == '/':\n",
    "       print(f'{num} / {numb2} = {num / numb2}')\n",
    "except ValueError:\n",
    "    print('You entered a wrong value int or whole numbers is expected')\n",
    "except ZeroDivisionError:\n",
    "    print('Sorry you cannot divide a number by zero')\n",
    "except:\n",
    "    print('You have one or more errors')\n",
    "    \n"
   ]
  },
  {
   "cell_type": "code",
   "execution_count": 5,
   "id": "6ff2c928-a65b-446e-9fff-de902123098f",
   "metadata": {},
   "outputs": [
    {
     "name": "stdin",
     "output_type": "stream",
     "text": [
      "Enter the first number: 4\n",
      "Enter the second number: 4\n",
      "Enter [+,-,*,/] /\n"
     ]
    },
    {
     "name": "stdout",
     "output_type": "stream",
     "text": [
      "4 / 4 = 1.0\n",
      "256\n"
     ]
    }
   ],
   "source": [
    "try:\n",
    "    num = int(input('Enter the first number:'))\n",
    "    numb2 = int(input('Enter the second number:'))\n",
    "    ari = input('Enter [+,-,*,/]')\n",
    "    if ari == '+':\n",
    "       print(f'{num} + {numb2} = {num + numb2}')\n",
    "    elif ari == '-':\n",
    "       print(f'{num} - {numb2} = {num - numb2}')\n",
    "    elif ari == '*':\n",
    "       print(f'{num} * {numb2} = {num * numb2}')\n",
    "    elif ari == '/':\n",
    "       print(f'{num} / {numb2} = {num / numb2}')\n",
    "except ValueError:\n",
    "    print('You entered a wrong value int or whole numbers is expected')\n",
    "except ZeroDivisionError:\n",
    "    print('Sorry you cannot divide a number by zero')\n",
    "except:\n",
    "    print('You have one or more errors')\n",
    "else:\n",
    "    print(num ** 4)"
   ]
  },
  {
   "cell_type": "code",
   "execution_count": 6,
   "id": "a76eb9e2-f6ea-4259-af00-cefadf92014c",
   "metadata": {},
   "outputs": [
    {
     "name": "stdin",
     "output_type": "stream",
     "text": [
      "Enter the first number: 4\n",
      "Enter the second number: 4\n",
      "Enter [+,-,*,/] *\n"
     ]
    },
    {
     "name": "stdout",
     "output_type": "stream",
     "text": [
      "4 * 4 = 16\n",
      "256\n",
      "End of the program\n"
     ]
    }
   ],
   "source": [
    "try:\n",
    "    num = int(input('Enter the first number:'))\n",
    "    numb2 = int(input('Enter the second number:'))\n",
    "    ari = input('Enter [+,-,*,/]')\n",
    "    if ari == '+':\n",
    "       print(f'{num} + {numb2} = {num + numb2}')\n",
    "    elif ari == '-':\n",
    "       print(f'{num} - {numb2} = {num - numb2}')\n",
    "    elif ari == '*':\n",
    "       print(f'{num} * {numb2} = {num * numb2}')\n",
    "    elif ari == '/':\n",
    "       print(f'{num} / {numb2} = {num / numb2}')\n",
    "except ValueError:\n",
    "    print('You entered a wrong value int or whole numbers is expected')\n",
    "except ZeroDivisionError:\n",
    "    print('Sorry you cannot divide a number by zero')\n",
    "except:\n",
    "    print('You have one or more errors')\n",
    "else:\n",
    "    print(num ** 4)\n",
    "finally:\n",
    "    print('End of the program')\n"
   ]
  },
  {
   "cell_type": "markdown",
   "id": "d7d6335b-d9ec-480d-a9a8-84c8353c9e86",
   "metadata": {},
   "source": [
    "### file handling \n",
    "## w,r,a,and r+"
   ]
  },
  {
   "cell_type": "code",
   "execution_count": 2,
   "id": "33763e9d-32cb-4e0a-97f9-755c3f91a4bb",
   "metadata": {},
   "outputs": [],
   "source": [
    "file = open('demo.doc','w')\n",
    "file.write('''Python is fun\n",
    "python is great\n",
    "python is easy\n",
    "''')\n",
    "file.close()"
   ]
  },
  {
   "cell_type": "code",
   "execution_count": 4,
   "id": "fa3886e4-3e9e-42c4-b35a-91a29abffbf3",
   "metadata": {},
   "outputs": [
    {
     "name": "stdout",
     "output_type": "stream",
     "text": [
      "Python is fun\n",
      "python is great\n",
      "python is easy\n",
      "\n"
     ]
    }
   ],
   "source": [
    "file = open('demo.doc','r')\n",
    "print(file.read())\n",
    "file.close()"
   ]
  },
  {
   "cell_type": "code",
   "execution_count": 5,
   "id": "f2bc796a-6f21-4289-b5f2-404c9336fe49",
   "metadata": {},
   "outputs": [
    {
     "name": "stdout",
     "output_type": "stream",
     "text": [
      "#input element\n",
      "#variables\n",
      "number1=45\n",
      "#variable naming convention\n",
      "#you cannot start with a digit\n",
      "#you cannot have a space when declaring a variable \n",
      "#yiou cannot include any special character except the underscore(_)\n",
      "#variable naming in python is case sensitive [age,Age,AGe,AGE]\n",
      "#python prefer uppercase naming style\n",
      "#DATA TYPES\n",
      "#int or integer[1,100,102,136]\n",
      "#float[12.5,1.0,2.0]\n",
      "#string '' or \"\"['james','Ade is a boy','54']\n",
      "#bulean [True or False]\n",
      "# Excercise\n",
      "#you declare four variables and assign to each variable any of the four basic data types\n",
      "age=12\n",
      "currency=3.4\n",
      "work='Data Scientist'\n",
      "proficient=True\n",
      "print(work)\n",
      "#STRING ESCAPE CHARACTER(\\)\n",
      "word = 'We\\'re brother from other side of the town'\n",
      "print(word)\n",
      "#STRING NEWLINE(\\n)\n",
      "word2 = 'python is fun\\npython is easy\\npython is great'\n",
      "print(word2)\n",
      "#MULTILINE STRING\n",
      "word3 = '''\n",
      "python is fun\n",
      "python is easy\n",
      "python is great\n",
      "'''\n",
      "print(word3)\n",
      "#STRING CONCATENATION\n",
      "print('hello' + ' world' + ' Welcome to python class')\n",
      "print('Ade is ',age, 'years old')\n",
      "\n"
     ]
    }
   ],
   "source": [
    "file = open('day1.py', 'r')\n",
    "print(file.read())\n",
    "file.close()"
   ]
  },
  {
   "cell_type": "code",
   "execution_count": 6,
   "id": "cc2c78bd-5654-4efd-9ceb-fde092906301",
   "metadata": {},
   "outputs": [],
   "source": [
    "file = open('demo.doc' , 'a')\n",
    "file.write('''\\nPython is used for Data Science and analysis\n",
    "python is used for Web Development\n",
    "python is used for Mobile app development''')\n",
    "file.close()"
   ]
  },
  {
   "cell_type": "code",
   "execution_count": 7,
   "id": "941923ad-dfa5-4085-98c6-94026e88c7c0",
   "metadata": {},
   "outputs": [
    {
     "name": "stdout",
     "output_type": "stream",
     "text": [
      "Python is fun\n",
      "python is great\n",
      "python is easy\n",
      "\n",
      "Python is used for Data Science and analysis\n",
      "python is used for Web Development\n",
      "python is used for Mobile app development\n"
     ]
    }
   ],
   "source": [
    "file = open('demo.doc','r+')\n",
    "print(file.read())\n",
    "file.write('\\nPython is super cool')\n",
    "file.close()"
   ]
  },
  {
   "cell_type": "code",
   "execution_count": 9,
   "id": "d3ac75d7-ff45-4b73-888f-a6dd51e2e345",
   "metadata": {},
   "outputs": [],
   "source": [
    "file = open('demo1.doc','w')\n",
    "file.write('''John just arrive at 12pm\n",
    "emeka just arrive at : 12pm\n",
    "james just arrived at :12pm\n",
    "nancy just arrived at :12pm\n",
    "''')\n",
    "file.close()"
   ]
  },
  {
   "cell_type": "code",
   "execution_count": null,
   "id": "1656565c-8308-4822-98bb-000cc46ca1d4",
   "metadata": {},
   "outputs": [],
   "source": []
  }
 ],
 "metadata": {
  "kernelspec": {
   "display_name": "Python 3 (ipykernel)",
   "language": "python",
   "name": "python3"
  },
  "language_info": {
   "codemirror_mode": {
    "name": "ipython",
    "version": 3
   },
   "file_extension": ".py",
   "mimetype": "text/x-python",
   "name": "python",
   "nbconvert_exporter": "python",
   "pygments_lexer": "ipython3",
   "version": "3.11.7"
  }
 },
 "nbformat": 4,
 "nbformat_minor": 5
}
