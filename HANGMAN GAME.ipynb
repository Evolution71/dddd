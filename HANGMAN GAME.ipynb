{
 "cells": [
  {
   "cell_type": "code",
   "execution_count": 1,
   "metadata": {},
   "outputs": [
    {
     "name": "stdout",
     "output_type": "stream",
     "text": [
      "-y-h--\n"
     ]
    }
   ],
   "source": [
    "## HANGMAN GAME WITH WORD CATEGORIES:ENHANCE THE HANGMAN GAME TO INCLUDE DIFFERENT WORD CATEGORIES.\n",
    "import random as rn\n",
    "\n",
    "def choose_word():\n",
    "    words=[\"coding\",\"python\",\"portfolio\",\"course\"\\\n",
    "           \"programming\",\"code\",\"data\",\"visual\",\"studio\"]\n",
    "    return rn.choice(words)\n",
    "\n",
    "def word_status(word,guessed_letters):\n",
    "    display = \"\"\n",
    "    for letter in word:\n",
    "        if letter in guessed_letters:\n",
    "            display += letter\n",
    "        else:\n",
    "            display += \"-\"\n",
    "    return display\n",
    "print(word_status(\"python\", [\"y\",\"h\"]))\n",
    "\n",
    "def word_guessing_game():\n",
    "    secret_word=choose_word()\n",
    "    "
   ]
  },
  {
   "cell_type": "code",
   "execution_count": null,
   "metadata": {},
   "outputs": [],
   "source": []
  }
 ],
 "metadata": {
  "kernelspec": {
   "display_name": "Python 3",
   "language": "python",
   "name": "python3"
  },
  "language_info": {
   "codemirror_mode": {
    "name": "ipython",
    "version": 3
   },
   "file_extension": ".py",
   "mimetype": "text/x-python",
   "name": "python",
   "nbconvert_exporter": "python",
   "pygments_lexer": "ipython3",
   "version": "3.12.4"
  }
 },
 "nbformat": 4,
 "nbformat_minor": 2
}
