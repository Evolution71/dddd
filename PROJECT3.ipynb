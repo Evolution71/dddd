{
 "cells": [
  {
   "cell_type": "code",
   "execution_count": 10,
   "metadata": {},
   "outputs": [
    {
     "name": "stdout",
     "output_type": "stream",
     "text": [
      "Hi,code Time to play Hangman!\n",
      "- - - - - - - - - Cogratulations you guessed it right,Your guess is code\n",
      "You won\n"
     ]
    }
   ],
   "source": [
    "\n",
    "name = input(\"Enter your name:\")\n",
    "print(\"Hi,\"+name+\" Time to play Hangman!\")\n",
    "words = [\"coding\",\"python\",\"portfolio\",\"course\",\"programming\",\"code\",\"data\",\"visual\",\"studio\"]\n",
    "guesses = \"\"\n",
    "##number of turns player need to enter\n",
    "turns = 3\n",
    "while turns>0:\n",
    "    failed=0\n",
    "\n",
    "    for word in words:\n",
    "        if word in guesses:\n",
    "            print(word,end=\" \")\n",
    "        else:\n",
    "            print(\"-\",end=\" \")\n",
    "            failed += 1\n",
    "    if failed==0:\n",
    "        print(\"-->You won\")\n",
    "        break\n",
    "    guess = input(\"Guess a word of your choice: \")\n",
    "    guesses += guess\n",
    "\n",
    "    if guess not in words:\n",
    "        turns-=1\n",
    "        print(\"wrong\")\n",
    "        print(\"You have\" ,+ turns,\"more\")\n",
    "    else:\n",
    "        print(f'Cogratulations you guessed it right,Your guess is {guess}')\n",
    "        print('You won')\n",
    "        break\n",
    "    if turns==0:\n",
    "        print(\"You Lose!\")\n",
    "        "
   ]
  },
  {
   "cell_type": "code",
   "execution_count": null,
   "metadata": {},
   "outputs": [],
   "source": []
  }
 ],
 "metadata": {
  "kernelspec": {
   "display_name": "Python 3",
   "language": "python",
   "name": "python3"
  },
  "language_info": {
   "codemirror_mode": {
    "name": "ipython",
    "version": 3
   },
   "file_extension": ".py",
   "mimetype": "text/x-python",
   "name": "python",
   "nbconvert_exporter": "python",
   "pygments_lexer": "ipython3",
   "version": "3.12.4"
  }
 },
 "nbformat": 4,
 "nbformat_minor": 2
}
