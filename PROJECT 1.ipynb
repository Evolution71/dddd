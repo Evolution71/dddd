{
 "cells": [
  {
   "cell_type": "code",
   "execution_count": 7,
   "metadata": {},
   "outputs": [
    {
     "name": "stdout",
     "output_type": "stream",
     "text": [
      "A 40 match season results: ['Loss', 'Loss', 'Loss', 'Win', 'Win', 'Win', 'Loss', 'Win', 'Win', 'Loss', 'Win', 'Win', 'Win', 'Win', 'Loss', 'Win', 'Win', 'Loss', 'Loss', 'Win', 'Loss', 'Loss', 'Win', 'Loss', 'Win', 'Loss', 'Loss', 'Win', 'Loss', 'Win', 'Loss', 'Win', 'Loss', 'Win', 'Loss', 'Loss', 'Loss', 'Win', 'Loss', 'Loss']\n",
      "Win_Loss Record: 19-21\n"
     ]
    }
   ],
   "source": [
    "## IN A SPORT LEAGUE. HOW CAN YOU USE A FUNCTION TO CALCULATE A TEAM'S WIN-LOSS RECORD FOR A PARTICULAR SEAS0N BASED ON THEIR GAME RESULTS.\n",
    "## For a 40 games season\n",
    "import random as rn\n",
    "def season(number_games=40):\n",
    "    game_results = [rn.choice(['Win','Loss'])for i in range(number_games)]\n",
    "    return game_results\n",
    "def calc_win_loss(game_results):\n",
    "    wins = game_results.count('Win')\n",
    "    losses = game_results.count('Loss')\n",
    "    return(wins,losses)\n",
    "season_results = season(number_games=40)\n",
    "win_loss_record = calc_win_loss(season_results)\n",
    "print(f'A 40 match season results: {season_results}')\n",
    "print(f'Win_Loss Record: {win_loss_record[0]}-{win_loss_record[1]}')\n",
    "    \n",
    "\n",
    "\n",
    "    \n",
    "\n",
    "\n",
    "\n",
    "\n",
    "\n",
    "\n"
   ]
  },
  {
   "cell_type": "code",
   "execution_count": null,
   "metadata": {},
   "outputs": [],
   "source": []
  }
 ],
 "metadata": {
  "kernelspec": {
   "display_name": "Python 3",
   "language": "python",
   "name": "python3"
  },
  "language_info": {
   "codemirror_mode": {
    "name": "ipython",
    "version": 3
   },
   "file_extension": ".py",
   "mimetype": "text/x-python",
   "name": "python",
   "nbconvert_exporter": "python",
   "pygments_lexer": "ipython3",
   "version": "3.12.4"
  }
 },
 "nbformat": 4,
 "nbformat_minor": 2
}
