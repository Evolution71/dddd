{
 "cells": [
  {
   "cell_type": "code",
   "execution_count": 1,
   "id": "3f326db6-5669-45ab-ad0c-67768c24df7d",
   "metadata": {},
   "outputs": [
    {
     "name": "stdout",
     "output_type": "stream",
     "text": [
      "['MAXYEAR', 'MINYEAR', 'UTC', '__all__', '__builtins__', '__cached__', '__doc__', '__file__', '__loader__', '__name__', '__package__', '__spec__', 'date', 'datetime', 'datetime_CAPI', 'sys', 'time', 'timedelta', 'timezone', 'tzinfo']\n"
     ]
    }
   ],
   "source": [
    "import datetime\n",
    "print(dir(datetime))"
   ]
  },
  {
   "cell_type": "code",
   "execution_count": 2,
   "id": "011129a1-d972-41e9-9820-4faff8192474",
   "metadata": {},
   "outputs": [
    {
     "name": "stdout",
     "output_type": "stream",
     "text": [
      "<class 'datetime.date'>\n"
     ]
    }
   ],
   "source": [
    "date1 = datetime.date(2023,2,22)\n",
    "print(type(date1))"
   ]
  },
  {
   "cell_type": "code",
   "execution_count": 3,
   "id": "edf7bf6f-2e1d-4fc7-9b42-9a547ea1458a",
   "metadata": {},
   "outputs": [
    {
     "name": "stdout",
     "output_type": "stream",
     "text": [
      "2023\n",
      "2\n",
      "22\n",
      "2\n",
      "3\n"
     ]
    }
   ],
   "source": [
    "print(date1.year)\n",
    "print(date1.month)\n",
    "print(date1.day)\n",
    "print(date1.weekday())\n",
    "print(date1.isoweekday())"
   ]
  },
  {
   "cell_type": "code",
   "execution_count": 17,
   "id": "c806b5c0-1d87-4643-be3e-c9700b7ffb74",
   "metadata": {},
   "outputs": [
    {
     "name": "stdout",
     "output_type": "stream",
     "text": [
      "2024-07-21\n"
     ]
    }
   ],
   "source": [
    "currentdate = datetime.date.today()\n",
    "print(currentdate)"
   ]
  },
  {
   "cell_type": "code",
   "execution_count": 5,
   "id": "c79b41ae-a929-4567-9051-b4920327fd16",
   "metadata": {},
   "outputs": [
    {
     "name": "stdout",
     "output_type": "stream",
     "text": [
      "Saturday\n",
      "Sat\n",
      "July\n",
      "Jul\n",
      "2024\n",
      "24\n",
      "07\n",
      "20\n",
      "20th of July,2024\n"
     ]
    }
   ],
   "source": [
    "# strftime: string format time\n",
    "print(currentdate.strftime('%A'))\n",
    "print(currentdate.strftime('%a'))\n",
    "print(currentdate.strftime('%B'))\n",
    "print(currentdate.strftime('%b'))\n",
    "print(currentdate.strftime('%Y'))\n",
    "print(currentdate.strftime('%y'))\n",
    "print(currentdate.strftime('%m'))\n",
    "print(currentdate.strftime('%d'))\n",
    "print(currentdate.strftime('%dth of %B,%Y'))"
   ]
  },
  {
   "cell_type": "code",
   "execution_count": 6,
   "id": "2a87f443-5fb4-4007-a948-accc1127d5f4",
   "metadata": {},
   "outputs": [
    {
     "name": "stdout",
     "output_type": "stream",
     "text": [
      "10:45:54.023456\n"
     ]
    }
   ],
   "source": [
    "time1 = datetime.time(10,45,54,23456)\n",
    "print(time1)"
   ]
  },
  {
   "cell_type": "code",
   "execution_count": 18,
   "id": "d8f5bed5-25f4-4dc8-aff6-e8bef07cd6db",
   "metadata": {},
   "outputs": [
    {
     "name": "stdout",
     "output_type": "stream",
     "text": [
      "20:15:12.384125\n"
     ]
    }
   ],
   "source": [
    "current_time = datetime.datetime.now().time()\n",
    "print(current_time)"
   ]
  },
  {
   "cell_type": "code",
   "execution_count": 19,
   "id": "e33b646b-8bb2-4a96-9808-73eb1477d241",
   "metadata": {},
   "outputs": [
    {
     "name": "stdout",
     "output_type": "stream",
     "text": [
      "20\n",
      "08\n",
      "15\n",
      "12\n",
      "384125\n",
      "PM\n",
      "08::15::12::PM\n"
     ]
    }
   ],
   "source": [
    "print(current_time.strftime('%H'))\n",
    "print(current_time.strftime('%I'))\n",
    "print(current_time.strftime('%M'))\n",
    "print(current_time.strftime('%S'))\n",
    "print(current_time.strftime('%f'))\n",
    "print(current_time.strftime('%p'))\n",
    "print(current_time.strftime('%I::%M::%S::%p'))\n"
   ]
  },
  {
   "cell_type": "code",
   "execution_count": 9,
   "id": "288989c8-7c27-437f-9d60-b01a356f87fa",
   "metadata": {},
   "outputs": [
    {
     "name": "stdout",
     "output_type": "stream",
     "text": [
      "2024-07-20 17:43:48.404203\n"
     ]
    }
   ],
   "source": [
    "current_date_time = datetime.datetime.now()\n",
    "print(current_date_time)"
   ]
  },
  {
   "cell_type": "code",
   "execution_count": 10,
   "id": "ef038172-06dc-4230-8f7b-383db2fca2e9",
   "metadata": {},
   "outputs": [
    {
     "name": "stdout",
     "output_type": "stream",
     "text": [
      "HEY James, THIS IS A KIND REMINDER OF OUR MEETING ON THE 12th of November, 2024 BY 05 PM PROMPT\n",
      "HEY Faith, THIS IS A KIND REMINDER OF OUR MEETING ON THE 12th of November, 2024 BY 05 PM PROMPT\n",
      "HEY Job, THIS IS A KIND REMINDER OF OUR MEETING ON THE 12th of November, 2024 BY 05 PM PROMPT\n",
      "HEY Samuel, THIS IS A KIND REMINDER OF OUR MEETING ON THE 12th of November, 2024 BY 05 PM PROMPT\n",
      "HEY Lawal, THIS IS A KIND REMINDER OF OUR MEETING ON THE 12th of November, 2024 BY 05 PM PROMPT\n"
     ]
    }
   ],
   "source": [
    "date_time = datetime.datetime(2024,11,12, 17,0,0)\n",
    "friends_list = ['James','Faith','Job','Samuel','Lawal']\n",
    "for name in friends_list:\n",
    "    print(f'HEY {name}, THIS IS A KIND REMINDER OF OUR MEETING ON THE {date_time.strftime(\"%dth of %B, %Y BY %I %p PROMPT\")}')"
   ]
  },
  {
   "cell_type": "code",
   "execution_count": 12,
   "id": "dba36a28-12bc-4de7-bd21-7522eebde69d",
   "metadata": {},
   "outputs": [
    {
     "name": "stdin",
     "output_type": "stream",
     "text": [
      "Enter your appointment date [m/d/y] 9/29/2025\n"
     ]
    },
    {
     "name": "stdout",
     "output_type": "stream",
     "text": [
      "2025-09-29\n"
     ]
    }
   ],
   "source": [
    "appdate = input('Enter your appointment date [m/d/y]')\n",
    "condate = datetime.datetime.strptime(appdate,'%m/%d/%Y').date()\n",
    "print(condate)\n",
    "                                     \n",
    "                                     \n"
   ]
  },
  {
   "cell_type": "code",
   "execution_count": 13,
   "id": "d435aeaa-f0c8-402b-bb6a-eb53d3dc8fc0",
   "metadata": {},
   "outputs": [
    {
     "data": {
      "text/plain": [
       "datetime.timedelta(days=514)"
      ]
     },
     "execution_count": 13,
     "metadata": {},
     "output_type": "execute_result"
    }
   ],
   "source": [
    "currentdate - date1"
   ]
  },
  {
   "cell_type": "code",
   "execution_count": 14,
   "id": "659ceb30-c366-43e1-9ca6-fa6b36d8840f",
   "metadata": {},
   "outputs": [
    {
     "data": {
      "text/plain": [
       "datetime.date(2025, 2, 5)"
      ]
     },
     "execution_count": 14,
     "metadata": {},
     "output_type": "execute_result"
    }
   ],
   "source": [
    "currentdate + datetime.timedelta(days = 200)"
   ]
  },
  {
   "cell_type": "code",
   "execution_count": 16,
   "id": "59a46a7d-498b-4394-87e7-f46844af8d46",
   "metadata": {},
   "outputs": [
    {
     "data": {
      "text/plain": [
       "datetime.date(2028, 5, 20)"
      ]
     },
     "execution_count": 16,
     "metadata": {},
     "output_type": "execute_result"
    }
   ],
   "source": [
    "currentdate + datetime.timedelta(weeks = 200)"
   ]
  },
  {
   "cell_type": "markdown",
   "id": "03625f63-fdb1-418c-a1f7-76755e25da65",
   "metadata": {},
   "source": [
    "## ASSIGNMENT\n",
    "## WRITE A PROGRAM TO CALCULATE HOW MANY WEEKS AND DAYS A USER HAS UNTIL HIS OR HER APPOINTMENT FROM THE CURRENT DATE \n",
    "## ASK THE USER FOR THE APPOINTMENT DATE"
   ]
  },
  {
   "cell_type": "code",
   "execution_count": 53,
   "id": "92cde8a5-9852-41c7-b7fc-12f48a9a61bb",
   "metadata": {},
   "outputs": [
    {
     "name": "stdin",
     "output_type": "stream",
     "text": [
      "Enter your appointment date [d/m/y] 12/9/2025\n"
     ]
    },
    {
     "name": "stdout",
     "output_type": "stream",
     "text": [
      "We have 59 weeks and 3 days to the appointed time\n"
     ]
    }
   ],
   "source": [
    "import datetime\n",
    "appdate1 = input('Enter your appointment date [d/m/y]')\n",
    "condate1 = datetime.datetime.strptime(appdate1,'%d/%m/%Y').date()\n",
    "current1 = datetime.date.today()\n",
    "calculated_days = (condate1 - current1)\n",
    "weeks = calculated_days.days //7\n",
    "days = calculated_days.days%7\n",
    "print(f'We have {weeks} weeks and {days} days to the appointed time')"
   ]
  },
  {
   "cell_type": "code",
   "execution_count": null,
   "id": "f38896fb-ec91-48db-91d9-a8eaad37d9e1",
   "metadata": {},
   "outputs": [],
   "source": []
  }
 ],
 "metadata": {
  "kernelspec": {
   "display_name": "Python 3 (ipykernel)",
   "language": "python",
   "name": "python3"
  },
  "language_info": {
   "codemirror_mode": {
    "name": "ipython",
    "version": 3
   },
   "file_extension": ".py",
   "mimetype": "text/x-python",
   "name": "python",
   "nbconvert_exporter": "python",
   "pygments_lexer": "ipython3",
   "version": "3.11.7"
  }
 },
 "nbformat": 4,
 "nbformat_minor": 5
}
