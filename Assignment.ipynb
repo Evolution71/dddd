{
 "cells": [
  {
   "cell_type": "markdown",
   "id": "ba5f490a-1181-45ab-8141-56b7d91d4c97",
   "metadata": {},
   "source": [
    "### A rectangle cake is cut into 12 squares slices with equal size. If the short side of the cake is 3cm,what is the lenght of the long side?"
   ]
  },
  {
   "cell_type": "code",
   "execution_count": 21,
   "id": "cd1bc2fb-7940-4557-be27-db5e8679be25",
   "metadata": {},
   "outputs": [
    {
     "name": "stdin",
     "output_type": "stream",
     "text": [
      "Enter the number of slices: 12\n",
      "Enter the lenght of the short side: 3\n"
     ]
    },
    {
     "name": "stdout",
     "output_type": "stream",
     "text": [
      "The lenght of the long side is  36\n"
     ]
    }
   ],
   "source": [
    "num1 = int(input('Enter the number of slices:'))\n",
    "num2 = int(input('Enter the lenght of the short side:'))\n",
    "print(f'The lenght of the long side is ',num1 * num2)"
   ]
  },
  {
   "cell_type": "markdown",
   "id": "a80455c5-8ee7-4751-955f-99f345cfe86c",
   "metadata": {},
   "source": [
    "### A train leaves station A at 9:00am and arrives at station B 180km away at 13:00pm.How many hours did the train travel?"
   ]
  },
  {
   "cell_type": "code",
   "execution_count": 18,
   "id": "3fb7caf6-733c-4811-ad32-57fa66e6548e",
   "metadata": {},
   "outputs": [
    {
     "name": "stdin",
     "output_type": "stream",
     "text": [
      "Enter the hour of departure: 9\n",
      "Enter the arrival hour: 13\n"
     ]
    },
    {
     "name": "stdout",
     "output_type": "stream",
     "text": [
      "The total hours covered by the train is  4\n"
     ]
    }
   ],
   "source": [
    "num1 = int(input('Enter the hour of departure:'))\n",
    "num2 = int(input('Enter the arrival hour:'))\n",
    "print(f'The total hours covered by the train is ',num2 - num1)"
   ]
  },
  {
   "cell_type": "markdown",
   "id": "bfe7c03e-1d2f-43c8-bd0a-e2f8b59b1f6e",
   "metadata": {},
   "source": [
    "## A bag contains 3 red marbles,5 blue marbles and 2 green marbles.What is the total number of marbles in the bag?"
   ]
  },
  {
   "cell_type": "code",
   "execution_count": 19,
   "id": "1392e309-ce97-402d-ae4f-8809560ad9f7",
   "metadata": {},
   "outputs": [
    {
     "name": "stdin",
     "output_type": "stream",
     "text": [
      "Enter the number of red marbles: 3\n",
      "Enter the number of blue marbles: 5\n",
      "Enter the number of green marbles: 2\n"
     ]
    },
    {
     "name": "stdout",
     "output_type": "stream",
     "text": [
      "The total number of marbles in the bag is  10\n"
     ]
    }
   ],
   "source": [
    "red_marbles = int(input('Enter the number of red marbles:'))\n",
    "blue_marbles = int(input('Enter the number of blue marbles:'))\n",
    "green_marbles = int(input('Enter the number of green marbles:'))\n",
    "print(f'The total number of marbles in the bag is ',red_marbles + blue_marbles + green_marbles)"
   ]
  },
  {
   "cell_type": "markdown",
   "id": "308a8797-ba7e-40e8-8898-96c33cfdc374",
   "metadata": {},
   "source": [
    "### Michael has saved $15,he wants to buy a video game that costs $42,.How much more money does he need to save?"
   ]
  },
  {
   "cell_type": "code",
   "execution_count": 20,
   "id": "308f4231-dd20-4a3c-bef1-6a1f0a694b73",
   "metadata": {},
   "outputs": [
    {
     "name": "stdin",
     "output_type": "stream",
     "text": [
      "Enter the amount michael saved: 15\n",
      "Enter the total cost of the video game to be purchased: 42\n"
     ]
    },
    {
     "name": "stdout",
     "output_type": "stream",
     "text": [
      "Michael need to save up to $  27.0\n"
     ]
    }
   ],
   "source": [
    "num1 = float(input('Enter the amount michael saved:'))\n",
    "num2 = float(input('Enter the total cost of the video game to be purchased:'))\n",
    "print(f'Michael need to save up to $ ',num2 - num1)"
   ]
  },
  {
   "cell_type": "code",
   "execution_count": null,
   "id": "e4c9868f-8ba7-4e1c-b804-50c20fee4e8f",
   "metadata": {},
   "outputs": [],
   "source": []
  }
 ],
 "metadata": {
  "kernelspec": {
   "display_name": "Python 3 (ipykernel)",
   "language": "python",
   "name": "python3"
  },
  "language_info": {
   "codemirror_mode": {
    "name": "ipython",
    "version": 3
   },
   "file_extension": ".py",
   "mimetype": "text/x-python",
   "name": "python",
   "nbconvert_exporter": "python",
   "pygments_lexer": "ipython3",
   "version": "3.11.7"
  }
 },
 "nbformat": 4,
 "nbformat_minor": 5
}
