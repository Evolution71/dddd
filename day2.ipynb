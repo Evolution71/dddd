{
 "cells": [
  {
   "cell_type": "markdown",
   "id": "646b58e1-0ba3-41a4-ba93-68a3bbdab367",
   "metadata": {},
   "source": [
    "# STRING FORMATTING"
   ]
  },
  {
   "cell_type": "code",
   "execution_count": 3,
   "id": "e169af32-f310-4163-8cc6-bf7f96711b85",
   "metadata": {},
   "outputs": [
    {
     "name": "stdout",
     "output_type": "stream",
     "text": [
      "I sold 10 litres of disel for 85000.69 and got 15000 as profit\n"
     ]
    }
   ],
   "source": [
    "price1 = 15000\n",
    "price2 = 85000.69\n",
    "litres ='10 litres'\n",
    "report = 'I sold {} of disel for {} and got {} as profit'\n",
    "print(report.format(litres,price2,price1))"
   ]
  },
  {
   "cell_type": "code",
   "execution_count": 4,
   "id": "87b49c04-48c1-434f-a053-551a13b47eec",
   "metadata": {},
   "outputs": [
    {
     "name": "stdout",
     "output_type": "stream",
     "text": [
      "I sold 10 litres of disel for 85000.69 and got 15000 as profit\n"
     ]
    }
   ],
   "source": [
    "print(f'I sold {litres} of disel for {price2} and got {price1} as profit')"
   ]
  },
  {
   "cell_type": "markdown",
   "id": "2cc745cb-ed28-4b96-a11b-89cdd12947f3",
   "metadata": {},
   "source": [
    " STRING METHOD"
   ]
  },
  {
   "cell_type": "code",
   "execution_count": 5,
   "id": "57de42fe-27f3-453e-a006-951e9177e699",
   "metadata": {},
   "outputs": [
    {
     "name": "stdout",
     "output_type": "stream",
     "text": [
      "10 LITRES\n",
      "10 litres\n",
      "I sold {} of disel for {} and got {} as profit\n",
      "I Sold {} Of Disel For {} And Got {} As Profit\n",
      "['I', 'sold', '{}', 'of', 'disel', 'for', '{}', 'and', 'got', '{}', 'as', 'profit']\n"
     ]
    }
   ],
   "source": [
    "print(litres.upper())\n",
    "print(litres.lower())\n",
    "print(report.capitalize())\n",
    "print(report.title())\n",
    "print(report.split())"
   ]
  },
  {
   "cell_type": "markdown",
   "id": "3474c9ba-7c83-481e-95da-d65ad8a2d9be",
   "metadata": {},
   "source": [
    "# INPUT FUNCTION"
   ]
  },
  {
   "cell_type": "code",
   "execution_count": 8,
   "id": "d9a6de74-580f-4a07-af77-49bb7323f821",
   "metadata": {},
   "outputs": [
    {
     "name": "stdin",
     "output_type": "stream",
     "text": [
      "Enter your name: EZUMA FESTUS\n"
     ]
    }
   ],
   "source": [
    "name = input('Enter your name:')\n"
   ]
  },
  {
   "cell_type": "code",
   "execution_count": 9,
   "id": "ddc45d98-c9d9-4932-83b9-90495ab1d59f",
   "metadata": {},
   "outputs": [
    {
     "name": "stdin",
     "output_type": "stream",
     "text": [
      "Enter your age: 27\n"
     ]
    }
   ],
   "source": [
    "age = float(input('Enter your age:'))"
   ]
  },
  {
   "cell_type": "code",
   "execution_count": 10,
   "id": "86b5f04e-799a-439f-9ea5-1d242f8aa9b0",
   "metadata": {},
   "outputs": [
    {
     "name": "stdout",
     "output_type": "stream",
     "text": [
      "EZUMA FESTUS\n"
     ]
    }
   ],
   "source": [
    "print(name)"
   ]
  },
  {
   "cell_type": "markdown",
   "id": "f59c2a95-5ec8-47d2-bd47-8df302ed4abe",
   "metadata": {},
   "source": [
    "# SPECIAL SYMBOLS USED FOR ARITHEMETIC AND LOGICAL OPERATORS"
   ]
  },
  {
   "cell_type": "markdown",
   "id": "f21f8f62-617f-4bdc-8b89-9b8e45d1e2f6",
   "metadata": {},
   "source": [
    "#### ARITHEMETIC OPERATORS\n",
    "#### ADDITION +\n",
    "#### SUBTRACTION -\n",
    "#### MULTIPLICATION *\n",
    "#### DIVITION /\n",
    "#### MODULUS (REMENDER)%\n",
    "#### INTEGER DIVISION //\n",
    "#### EXPONENTIAL **"
   ]
  },
  {
   "cell_type": "code",
   "execution_count": 14,
   "id": "bc9deb41-cc81-49f5-9723-e78756006da6",
   "metadata": {},
   "outputs": [
    {
     "name": "stdin",
     "output_type": "stream",
     "text": [
      "Enter first number: 30\n",
      "Enter second number: 7\n"
     ]
    },
    {
     "name": "stdout",
     "output_type": "stream",
     "text": [
      "30 + 7 = 37\n",
      "30 - 7 = 23\n",
      "30 * 7 = 210\n",
      "30 / 7 = 4.285714285714286\n",
      "30 % 7 = 2\n",
      "30 // 7 = 4\n",
      "30 ** 7 = 21870000000\n"
     ]
    }
   ],
   "source": [
    "num1 = int(input('Enter first number:'))\n",
    "num2 = int(input('Enter second number:'))\n",
    "print(f'{num1} + {num2} = {num1 + num2}')\n",
    "print(f'{num1} - {num2} = {num1 - num2}')\n",
    "print(f'{num1} * {num2} = {num1 * num2}')\n",
    "print(f'{num1} / {num2} = {num1 / num2}')\n",
    "print(f'{num1} % {num2} = {num1 % num2}')\n",
    "print(f'{num1} // {num2} = {num1 // num2}')\n",
    "print(f'{num1} ** {num2} = {num1 ** num2}')\n"
   ]
  },
  {
   "cell_type": "markdown",
   "id": "731554fa-685e-4996-b760-c95809eb4d19",
   "metadata": {},
   "source": [
    "### COMPARISON OPERATORS\n",
    "### GREATER THAN >\n",
    "### LESS THAN <\n",
    "### GREATER THAN OR EQUAL TO > =\n",
    "### LESS THAN OR EQUAL TO < =\n",
    "### EQUAL TO ==\n",
    "### NOT EQUAL TO !="
   ]
  },
  {
   "cell_type": "code",
   "execution_count": 15,
   "id": "35a9fafa-95e0-4298-a102-7d839ae2422b",
   "metadata": {},
   "outputs": [
    {
     "name": "stdin",
     "output_type": "stream",
     "text": [
      "Enter first number: 30\n",
      "Enter second number: 7\n"
     ]
    },
    {
     "name": "stdout",
     "output_type": "stream",
     "text": [
      "30 > 7 = True\n",
      "30 < 7 = False\n",
      "30 >= 7 = True\n",
      "30 <= 7 = False\n",
      "30 == 7 = False\n",
      "30 != 7 = True\n"
     ]
    }
   ],
   "source": [
    "num1 = int(input('Enter first number:'))\n",
    "num2 = int(input('Enter second number:'))\n",
    "print(f'{num1} > {num2} = {num1 > num2}')\n",
    "print(f'{num1} < {num2} = {num1 < num2}')\n",
    "print(f'{num1} >= {num2} = {num1 >= num2}')\n",
    "print(f'{num1} <= {num2} = {num1 <= num2}')\n",
    "print(f'{num1} == {num2} = {num1 == num2}')\n",
    "print(f'{num1} != {num2} = {num1 != num2}')"
   ]
  },
  {
   "cell_type": "markdown",
   "id": "eda2d23b-8c91-4180-b812-291990c7e468",
   "metadata": {},
   "source": [
    "### LOGICAL OPERATORS"
   ]
  },
  {
   "cell_type": "markdown",
   "id": "6f8b8733-0470-49a0-9c93-272aed38820c",
   "metadata": {},
   "source": [
    "## AND, OR NOT"
   ]
  },
  {
   "cell_type": "code",
   "execution_count": 17,
   "id": "1da67452-d372-42fb-a2d1-7a11b103d141",
   "metadata": {},
   "outputs": [
    {
     "name": "stdout",
     "output_type": "stream",
     "text": [
      "True\n",
      "True\n",
      "False\n"
     ]
    }
   ],
   "source": [
    "print(num1 > num2 and num1 != num2)\n",
    "print(num1 > num2 or num1 != num2)\n",
    "print(not num1)"
   ]
  },
  {
   "cell_type": "markdown",
   "id": "8ddee6f8-fa1e-4806-8c96-436448055849",
   "metadata": {},
   "source": [
    "### IDENTITY OPERTORS [IS,IS NOT]"
   ]
  },
  {
   "cell_type": "code",
   "execution_count": 18,
   "id": "2bd8be8c-4ddc-4288-b09a-fc10cafc19db",
   "metadata": {},
   "outputs": [
    {
     "name": "stdout",
     "output_type": "stream",
     "text": [
      "False\n",
      "True\n"
     ]
    }
   ],
   "source": [
    "print(num1 is num2)\n",
    "print(num1 is not num2)"
   ]
  },
  {
   "cell_type": "markdown",
   "id": "4e465e89-d70e-4f49-a1e6-e282f8b37959",
   "metadata": {},
   "source": [
    "### MEMBERSHIP OPERATORS[IN, NOT IN]"
   ]
  },
  {
   "cell_type": "code",
   "execution_count": 9,
   "id": "b57bb677-14c3-4464-993a-f96d548fa6fe",
   "metadata": {},
   "outputs": [
    {
     "name": "stdout",
     "output_type": "stream",
     "text": [
      "True\n",
      "True\n",
      "h\n"
     ]
    }
   ],
   "source": [
    "word = 'python'\n",
    "print('p' in word)\n",
    "print('P' not in word)\n",
    "print(word[3])"
   ]
  },
  {
   "cell_type": "code",
   "execution_count": 7,
   "id": "4f8287e2-3273-4bd9-8043-f4fb79ee5d90",
   "metadata": {},
   "outputs": [
    {
     "name": "stdin",
     "output_type": "stream",
     "text": [
      "Enter the numbers of balls bought: 50\n",
      "Enter the price for the total ball bought: 40000\n"
     ]
    },
    {
     "name": "stdout",
     "output_type": "stream",
     "text": [
      "The cost price for ball bought by John is 800.0\n"
     ]
    }
   ],
   "source": [
    "ball = int(input('Enter the numbers of balls bought:'))\n",
    "price = float(input('Enter the price for the total ball bought:'))\n",
    "costprice = price/ball\n",
    "print(f'The cost price for ball bought by John is {costprice}')"
   ]
  },
  {
   "cell_type": "code",
   "execution_count": null,
   "id": "76a9417e-600e-42a9-84ed-f7ee651a7807",
   "metadata": {},
   "outputs": [],
   "source": []
  }
 ],
 "metadata": {
  "kernelspec": {
   "display_name": "Python 3 (ipykernel)",
   "language": "python",
   "name": "python3"
  },
  "language_info": {
   "codemirror_mode": {
    "name": "ipython",
    "version": 3
   },
   "file_extension": ".py",
   "mimetype": "text/x-python",
   "name": "python",
   "nbconvert_exporter": "python",
   "pygments_lexer": "ipython3",
   "version": "3.11.7"
  }
 },
 "nbformat": 4,
 "nbformat_minor": 5
}
