{
 "cells": [
  {
   "cell_type": "code",
   "execution_count": 2,
   "metadata": {},
   "outputs": [],
   "source": [
    "import numpy as np"
   ]
  },
  {
   "cell_type": "code",
   "execution_count": 3,
   "metadata": {},
   "outputs": [
    {
     "data": {
      "text/plain": [
       "array([45, 52, 36, 30])"
      ]
     },
     "execution_count": 3,
     "metadata": {},
     "output_type": "execute_result"
    }
   ],
   "source": [
    "arr1 = np.array([45,52,36,30])\n",
    "arr1"
   ]
  },
  {
   "cell_type": "code",
   "execution_count": 3,
   "metadata": {},
   "outputs": [
    {
     "data": {
      "text/plain": [
       "(4,)"
      ]
     },
     "execution_count": 3,
     "metadata": {},
     "output_type": "execute_result"
    }
   ],
   "source": [
    "arr1.shape"
   ]
  },
  {
   "cell_type": "code",
   "execution_count": 4,
   "metadata": {},
   "outputs": [
    {
     "data": {
      "text/plain": [
       "1"
      ]
     },
     "execution_count": 4,
     "metadata": {},
     "output_type": "execute_result"
    }
   ],
   "source": [
    "arr1.ndim"
   ]
  },
  {
   "cell_type": "code",
   "execution_count": 5,
   "metadata": {},
   "outputs": [
    {
     "data": {
      "text/plain": [
       "dtype('int32')"
      ]
     },
     "execution_count": 5,
     "metadata": {},
     "output_type": "execute_result"
    }
   ],
   "source": [
    "arr1.dtype"
   ]
  },
  {
   "cell_type": "code",
   "execution_count": 5,
   "metadata": {},
   "outputs": [
    {
     "data": {
      "text/plain": [
       "array([[2025,  529, 4761, 1296],\n",
       "       [ 196,  400,  900, 3600],\n",
       "       [7921, 3136, 3600, 4356]])"
      ]
     },
     "execution_count": 5,
     "metadata": {},
     "output_type": "execute_result"
    }
   ],
   "source": [
    "arr2 = np.array([[45,23,69,36],[14,20,30,60],[89,56,60,66]])\n",
    "arr12 = np.array([[45,23,69,36],[14,20,30,60],[89,56,60,66]])\n",
    "arr123 = arr2 * arr12 \n",
    "arr123"
   ]
  },
  {
   "cell_type": "code",
   "execution_count": 6,
   "metadata": {},
   "outputs": [
    {
     "data": {
      "text/plain": [
       "(3, 4)"
      ]
     },
     "execution_count": 6,
     "metadata": {},
     "output_type": "execute_result"
    }
   ],
   "source": [
    "arr2.shape"
   ]
  },
  {
   "cell_type": "code",
   "execution_count": 7,
   "metadata": {},
   "outputs": [
    {
     "data": {
      "text/plain": [
       "2"
      ]
     },
     "execution_count": 7,
     "metadata": {},
     "output_type": "execute_result"
    }
   ],
   "source": [
    "arr2.ndim"
   ]
  },
  {
   "cell_type": "code",
   "execution_count": 10,
   "metadata": {},
   "outputs": [
    {
     "data": {
      "text/plain": [
       "array([0., 0., 0., 0., 0., 0., 0., 0., 0., 0., 0., 0., 0., 0., 0.])"
      ]
     },
     "execution_count": 10,
     "metadata": {},
     "output_type": "execute_result"
    }
   ],
   "source": [
    "np.zeros(15)"
   ]
  },
  {
   "cell_type": "code",
   "execution_count": 11,
   "metadata": {},
   "outputs": [
    {
     "data": {
      "text/plain": [
       "array([[0., 0., 0., 0., 0.],\n",
       "       [0., 0., 0., 0., 0.],\n",
       "       [0., 0., 0., 0., 0.],\n",
       "       [0., 0., 0., 0., 0.],\n",
       "       [0., 0., 0., 0., 0.]])"
      ]
     },
     "execution_count": 11,
     "metadata": {},
     "output_type": "execute_result"
    }
   ],
   "source": [
    "np.zeros((5,5))"
   ]
  },
  {
   "cell_type": "code",
   "execution_count": 12,
   "metadata": {},
   "outputs": [
    {
     "data": {
      "text/plain": [
       "array([1., 1., 1., 1., 1., 1., 1., 1., 1., 1.])"
      ]
     },
     "execution_count": 12,
     "metadata": {},
     "output_type": "execute_result"
    }
   ],
   "source": [
    "np.ones(10)"
   ]
  },
  {
   "cell_type": "code",
   "execution_count": 13,
   "metadata": {},
   "outputs": [
    {
     "data": {
      "text/plain": [
       "array([[1., 1., 1., 1.],\n",
       "       [1., 1., 1., 1.]])"
      ]
     },
     "execution_count": 13,
     "metadata": {},
     "output_type": "execute_result"
    }
   ],
   "source": [
    "np.ones((2,4))"
   ]
  },
  {
   "cell_type": "code",
   "execution_count": 68,
   "metadata": {},
   "outputs": [
    {
     "data": {
      "text/plain": [
       "array([[5., 5., 5.],\n",
       "       [5., 5., 5.],\n",
       "       [5., 5., 5.]])"
      ]
     },
     "execution_count": 68,
     "metadata": {},
     "output_type": "execute_result"
    }
   ],
   "source": [
    "np.ones((3,3)) * 5"
   ]
  },
  {
   "cell_type": "code",
   "execution_count": 15,
   "metadata": {},
   "outputs": [
    {
     "data": {
      "text/plain": [
       "array([1.        , 1.02040816, 1.04081633, 1.06122449, 1.08163265,\n",
       "       1.10204082, 1.12244898, 1.14285714, 1.16326531, 1.18367347,\n",
       "       1.20408163, 1.2244898 , 1.24489796, 1.26530612, 1.28571429,\n",
       "       1.30612245, 1.32653061, 1.34693878, 1.36734694, 1.3877551 ,\n",
       "       1.40816327, 1.42857143, 1.44897959, 1.46938776, 1.48979592,\n",
       "       1.51020408, 1.53061224, 1.55102041, 1.57142857, 1.59183673,\n",
       "       1.6122449 , 1.63265306, 1.65306122, 1.67346939, 1.69387755,\n",
       "       1.71428571, 1.73469388, 1.75510204, 1.7755102 , 1.79591837,\n",
       "       1.81632653, 1.83673469, 1.85714286, 1.87755102, 1.89795918,\n",
       "       1.91836735, 1.93877551, 1.95918367, 1.97959184, 2.        ])"
      ]
     },
     "execution_count": 15,
     "metadata": {},
     "output_type": "execute_result"
    }
   ],
   "source": [
    "np.linspace(1,2)"
   ]
  },
  {
   "cell_type": "code",
   "execution_count": 11,
   "metadata": {},
   "outputs": [
    {
     "data": {
      "text/plain": [
       "array([1.        , 1.11111111, 1.22222222, 1.33333333, 1.44444444,\n",
       "       1.55555556, 1.66666667, 1.77777778, 1.88888889, 2.        ])"
      ]
     },
     "execution_count": 11,
     "metadata": {},
     "output_type": "execute_result"
    }
   ],
   "source": [
    "np.linspace(1,2,10)"
   ]
  },
  {
   "cell_type": "code",
   "execution_count": 17,
   "metadata": {},
   "outputs": [
    {
     "data": {
      "text/plain": [
       "array([[1., 0., 0., 0., 0., 0.],\n",
       "       [0., 1., 0., 0., 0., 0.],\n",
       "       [0., 0., 1., 0., 0., 0.],\n",
       "       [0., 0., 0., 1., 0., 0.],\n",
       "       [0., 0., 0., 0., 1., 0.],\n",
       "       [0., 0., 0., 0., 0., 1.]])"
      ]
     },
     "execution_count": 17,
     "metadata": {},
     "output_type": "execute_result"
    }
   ],
   "source": [
    "np.eye(6)"
   ]
  },
  {
   "cell_type": "code",
   "execution_count": 18,
   "metadata": {},
   "outputs": [
    {
     "data": {
      "text/plain": [
       "array([[1., 0., 0.],\n",
       "       [0., 1., 0.],\n",
       "       [0., 0., 1.],\n",
       "       [0., 0., 0.]])"
      ]
     },
     "execution_count": 18,
     "metadata": {},
     "output_type": "execute_result"
    }
   ],
   "source": [
    "np.eye(4,3)"
   ]
  },
  {
   "cell_type": "code",
   "execution_count": 20,
   "metadata": {},
   "outputs": [
    {
     "data": {
      "text/plain": [
       "array([  1,   2,   3,   4,   5,   6,   7,   8,   9,  10,  11,  12,  13,\n",
       "        14,  15,  16,  17,  18,  19,  20,  21,  22,  23,  24,  25,  26,\n",
       "        27,  28,  29,  30,  31,  32,  33,  34,  35,  36,  37,  38,  39,\n",
       "        40,  41,  42,  43,  44,  45,  46,  47,  48,  49,  50,  51,  52,\n",
       "        53,  54,  55,  56,  57,  58,  59,  60,  61,  62,  63,  64,  65,\n",
       "        66,  67,  68,  69,  70,  71,  72,  73,  74,  75,  76,  77,  78,\n",
       "        79,  80,  81,  82,  83,  84,  85,  86,  87,  88,  89,  90,  91,\n",
       "        92,  93,  94,  95,  96,  97,  98,  99, 100])"
      ]
     },
     "execution_count": 20,
     "metadata": {},
     "output_type": "execute_result"
    }
   ],
   "source": [
    "arr3 = np.arange(1,101)\n",
    "arr3"
   ]
  },
  {
   "cell_type": "code",
   "execution_count": 13,
   "metadata": {},
   "outputs": [
    {
     "data": {
      "text/plain": [
       "array([ 1,  3,  5,  7,  9, 11, 13, 15, 17, 19, 21, 23, 25, 27, 29, 31, 33,\n",
       "       35, 37, 39, 41, 43, 45, 47, 49, 51, 53, 55, 57, 59, 61, 63, 65, 67,\n",
       "       69, 71, 73, 75, 77, 79, 81, 83, 85, 87, 89, 91, 93, 95, 97, 99])"
      ]
     },
     "execution_count": 13,
     "metadata": {},
     "output_type": "execute_result"
    }
   ],
   "source": [
    "arr3 = np.arange(1,101,2)\n",
    "arr3"
   ]
  },
  {
   "cell_type": "code",
   "execution_count": 22,
   "metadata": {},
   "outputs": [
    {
     "data": {
      "text/plain": [
       "array([24, 34, 36, 58, 36, 43, 50, 47, 57, 57, 33, 39, 53, 20, 50, 23, 31,\n",
       "       48, 72, 65, 51, 48, 68, 61, 19, 20, 49, 20, 88, 59, 57, 30, 73, 29,\n",
       "       32, 88, 84, 48, 64, 54, 35, 39, 34, 56, 58, 78, 67, 69, 65, 86, 39,\n",
       "       44, 77, 78, 87, 62, 32, 40, 61, 22, 52, 28, 67, 65, 47, 51, 31, 89,\n",
       "       81, 18, 77, 61, 88, 16, 74, 61, 43, 87, 84, 88, 49, 51, 17, 60, 80,\n",
       "       14, 47, 57, 38, 52, 18, 69, 55, 47, 47, 19, 70, 46, 32, 70, 17, 66,\n",
       "       22, 34, 45, 55, 80, 38, 76, 89, 50, 39, 22, 49, 37, 81, 47, 53, 19,\n",
       "       76])"
      ]
     },
     "execution_count": 22,
     "metadata": {},
     "output_type": "execute_result"
    }
   ],
   "source": [
    "\n",
    "arr4 = np.random.randint(14,90,120)\n",
    "arr4"
   ]
  },
  {
   "cell_type": "code",
   "execution_count": 18,
   "metadata": {},
   "outputs": [
    {
     "data": {
      "text/plain": [
       "array([75, 30, 87, 22, 76, 41, 44, 21, 29, 67, 41, 58, 89, 79, 61, 44, 32,\n",
       "       23, 55, 76, 15, 30, 19, 72, 14, 18, 50, 65, 41, 45, 16, 82, 52, 33,\n",
       "       32, 21, 44, 76, 25, 81, 79, 69, 17, 41, 43, 47, 21, 30, 28, 45, 23,\n",
       "       52, 61, 30, 19, 48, 59, 73, 38, 27, 45, 46, 58, 19, 28, 61, 14, 21,\n",
       "       30, 78, 22, 58, 51, 89, 19, 36, 66, 83, 74, 43, 84, 49, 34, 63, 86,\n",
       "       46, 27, 32, 66, 36, 72, 63, 18, 50, 55, 34, 46, 24, 45, 29, 36, 84,\n",
       "       23, 77, 28, 80, 71, 33, 78, 22, 22, 85, 26, 34, 73, 86, 88, 86, 46,\n",
       "       29])"
      ]
     },
     "execution_count": 18,
     "metadata": {},
     "output_type": "execute_result"
    }
   ],
   "source": [
    "np.random.seed(5)\n",
    "arr4 = np.random.randint(14,90,120)\n",
    "arr4"
   ]
  },
  {
   "cell_type": "code",
   "execution_count": 33,
   "metadata": {},
   "outputs": [
    {
     "data": {
      "text/plain": [
       "array([[75, 30, 87, 22, 76, 41, 44, 21, 29, 67, 41, 58],\n",
       "       [89, 79, 61, 44, 32, 23, 55, 76, 15, 30, 19, 72],\n",
       "       [14, 18, 50, 65, 41, 45, 16, 82, 52, 33, 32, 21],\n",
       "       [44, 76, 25, 81, 79, 69, 17, 41, 43, 47, 21, 30],\n",
       "       [28, 45, 23, 52, 61, 30, 19, 48, 59, 73, 38, 27],\n",
       "       [45, 46, 58, 19, 28, 61, 14, 21, 30, 78, 22, 58],\n",
       "       [51, 89, 19, 36, 66, 83, 74, 43, 84, 49, 34, 63],\n",
       "       [86, 46, 27, 32, 66, 36, 72, 63, 18, 50, 55, 34],\n",
       "       [46, 24, 45, 29, 36, 84, 23, 77, 28, 80, 71, 33],\n",
       "       [78, 22, 22, 85, 26, 34, 73, 86, 88, 86, 46, 29]])"
      ]
     },
     "execution_count": 33,
     "metadata": {},
     "output_type": "execute_result"
    }
   ],
   "source": [
    "arr5 = arr4.reshape(10,12)\n",
    "arr5"
   ]
  },
  {
   "cell_type": "code",
   "execution_count": 34,
   "metadata": {},
   "outputs": [
    {
     "data": {
      "text/plain": [
       "array([[75, 30, 87, 22, 76, 41, 44, 21, 29, 67, 41, 58],\n",
       "       [89, 79, 61, 44, 32, 23, 55, 76, 15, 30, 19, 72],\n",
       "       [14, 18, 50, 65, 41, 45, 16, 82, 52, 33, 32, 21],\n",
       "       [44, 76, 25, 81, 79, 69, 17, 41, 43, 47, 21, 30],\n",
       "       [28, 45, 23, 52, 61, 30, 19, 48, 59, 73, 38, 27],\n",
       "       [45, 46, 58, 19, 28, 61, 14, 21, 30, 78, 22, 58],\n",
       "       [51, 89, 19, 36, 66, 83, 74, 43, 84, 49, 34, 63],\n",
       "       [86, 46, 27, 32, 66, 36, 72, 63, 18, 50, 55, 34],\n",
       "       [46, 24, 45, 29, 36, 84, 23, 77, 28, 80, 71, 33],\n",
       "       [78, 22, 22, 85, 26, 34, 73, 86, 88, 86, 46, 29]])"
      ]
     },
     "execution_count": 34,
     "metadata": {},
     "output_type": "execute_result"
    }
   ],
   "source": [
    "arr5 = arr4.reshape(10,12)\n",
    "arr5"
   ]
  },
  {
   "cell_type": "code",
   "execution_count": 35,
   "metadata": {},
   "outputs": [
    {
     "data": {
      "text/plain": [
       "19"
      ]
     },
     "execution_count": 35,
     "metadata": {},
     "output_type": "execute_result"
    }
   ],
   "source": [
    "arr5[4,6]"
   ]
  },
  {
   "cell_type": "code",
   "execution_count": 37,
   "metadata": {},
   "outputs": [
    {
     "data": {
      "text/plain": [
       "array([[69, 17, 41],\n",
       "       [30, 19, 48],\n",
       "       [61, 14, 21],\n",
       "       [83, 74, 43]])"
      ]
     },
     "execution_count": 37,
     "metadata": {},
     "output_type": "execute_result"
    }
   ],
   "source": [
    "arr5[3:7,5:8]\n"
   ]
  },
  {
   "cell_type": "code",
   "execution_count": 62,
   "metadata": {},
   "outputs": [
    {
     "data": {
      "text/plain": [
       "array([[75, 30, 87, 22, 76, 41, 44, 21, 29, 67, 41, 58],\n",
       "       [89, 79, 61, 44, 32, 23, 55, 76, 15, 30, 19, 72],\n",
       "       [14, 18, 50, 65, 41, 45, 16, 82, 52, 33, 32, 21],\n",
       "       [44, 76, 25, 81, 79, 85, 85, 85, 43, 47, 21, 30],\n",
       "       [28, 45, 23, 52, 61, 85, 85, 85, 59, 73, 38, 27],\n",
       "       [45, 46, 58, 19, 28, 85, 85, 85, 30, 78, 22, 58],\n",
       "       [51, 89, 19, 36, 66, 85, 85, 85, 84, 49, 34, 63],\n",
       "       [86, 46, 27, 32, 66, 36, 72, 63, 18, 50, 55, 34],\n",
       "       [46, 24, 45, 29, 36, 84, 23, 77, 28, 80, 71, 33],\n",
       "       [78, 22, 22, 85, 26, 34, 73, 86, 88, 86, 46, 29]])"
      ]
     },
     "execution_count": 62,
     "metadata": {},
     "output_type": "execute_result"
    }
   ],
   "source": [
    "arr5[3:7,5:8] = 85\n",
    "arr5"
   ]
  },
  {
   "cell_type": "code",
   "execution_count": 41,
   "metadata": {},
   "outputs": [
    {
     "data": {
      "text/plain": [
       "array([75, 30, 87, 22, 76, 41, 44, 21, 29, 67, 41, 58, 89, 79, 61, 44, 32,\n",
       "       23, 55, 76, 15, 30, 19, 72, 14, 18, 50, 65, 41, 45, 16, 82, 52, 33,\n",
       "       32, 21, 44, 76, 25, 81, 79, 85, 85, 85, 43, 47, 21, 30, 28, 45, 23,\n",
       "       52, 61, 85, 85, 85, 59, 73, 38, 27, 45, 46, 58, 19, 28, 85, 85, 85,\n",
       "       30, 78, 22, 58, 51, 89, 19, 36, 66, 85, 85, 85, 84, 49, 34, 63, 86,\n",
       "       46, 27, 32, 66, 36, 72, 63, 18, 50, 55, 34, 46, 24, 45, 29, 36, 84,\n",
       "       23, 77, 28, 80, 71, 33, 78, 22, 22, 85, 26, 34, 73, 86, 88, 86, 46,\n",
       "       29])"
      ]
     },
     "execution_count": 41,
     "metadata": {},
     "output_type": "execute_result"
    }
   ],
   "source": [
    "arr6 = arr5.flatten()\n",
    "arr6"
   ]
  },
  {
   "cell_type": "code",
   "execution_count": 42,
   "metadata": {},
   "outputs": [
    {
     "data": {
      "text/plain": [
       "6238"
      ]
     },
     "execution_count": 42,
     "metadata": {},
     "output_type": "execute_result"
    }
   ],
   "source": [
    "np.sum(arr6)"
   ]
  },
  {
   "cell_type": "code",
   "execution_count": 43,
   "metadata": {},
   "outputs": [
    {
     "data": {
      "text/plain": [
       "51.983333333333334"
      ]
     },
     "execution_count": 43,
     "metadata": {},
     "output_type": "execute_result"
    }
   ],
   "source": [
    "np.mean(arr6)"
   ]
  },
  {
   "cell_type": "code",
   "execution_count": 44,
   "metadata": {},
   "outputs": [
    {
     "data": {
      "text/plain": [
       "46.5"
      ]
     },
     "execution_count": 44,
     "metadata": {},
     "output_type": "execute_result"
    }
   ],
   "source": [
    "np.median(arr6)"
   ]
  },
  {
   "cell_type": "code",
   "execution_count": 45,
   "metadata": {},
   "outputs": [
    {
     "data": {
      "text/plain": [
       "89"
      ]
     },
     "execution_count": 45,
     "metadata": {},
     "output_type": "execute_result"
    }
   ],
   "source": [
    "np.max(arr6)"
   ]
  },
  {
   "cell_type": "code",
   "execution_count": 46,
   "metadata": {},
   "outputs": [
    {
     "data": {
      "text/plain": [
       "14"
      ]
     },
     "execution_count": 46,
     "metadata": {},
     "output_type": "execute_result"
    }
   ],
   "source": [
    "np.min(arr6)"
   ]
  },
  {
   "cell_type": "code",
   "execution_count": 47,
   "metadata": {},
   "outputs": [
    {
     "data": {
      "text/plain": [
       "array([8.66025404, 5.47722558, 9.32737905, 4.69041576, 8.71779789,\n",
       "       6.40312424, 6.63324958, 4.58257569, 5.38516481, 8.18535277,\n",
       "       6.40312424, 7.61577311, 9.43398113, 8.88819442, 7.81024968,\n",
       "       6.63324958, 5.65685425, 4.79583152, 7.41619849, 8.71779789,\n",
       "       3.87298335, 5.47722558, 4.35889894, 8.48528137, 3.74165739,\n",
       "       4.24264069, 7.07106781, 8.06225775, 6.40312424, 6.70820393,\n",
       "       4.        , 9.05538514, 7.21110255, 5.74456265, 5.65685425,\n",
       "       4.58257569, 6.63324958, 8.71779789, 5.        , 9.        ,\n",
       "       8.88819442, 9.21954446, 9.21954446, 9.21954446, 6.55743852,\n",
       "       6.8556546 , 4.58257569, 5.47722558, 5.29150262, 6.70820393,\n",
       "       4.79583152, 7.21110255, 7.81024968, 9.21954446, 9.21954446,\n",
       "       9.21954446, 7.68114575, 8.54400375, 6.164414  , 5.19615242,\n",
       "       6.70820393, 6.78232998, 7.61577311, 4.35889894, 5.29150262,\n",
       "       9.21954446, 9.21954446, 9.21954446, 5.47722558, 8.83176087,\n",
       "       4.69041576, 7.61577311, 7.14142843, 9.43398113, 4.35889894,\n",
       "       6.        , 8.1240384 , 9.21954446, 9.21954446, 9.21954446,\n",
       "       9.16515139, 7.        , 5.83095189, 7.93725393, 9.2736185 ,\n",
       "       6.78232998, 5.19615242, 5.65685425, 8.1240384 , 6.        ,\n",
       "       8.48528137, 7.93725393, 4.24264069, 7.07106781, 7.41619849,\n",
       "       5.83095189, 6.78232998, 4.89897949, 6.70820393, 5.38516481,\n",
       "       6.        , 9.16515139, 4.79583152, 8.77496439, 5.29150262,\n",
       "       8.94427191, 8.42614977, 5.74456265, 8.83176087, 4.69041576,\n",
       "       4.69041576, 9.21954446, 5.09901951, 5.83095189, 8.54400375,\n",
       "       9.2736185 , 9.38083152, 9.2736185 , 6.78232998, 5.38516481])"
      ]
     },
     "execution_count": 47,
     "metadata": {},
     "output_type": "execute_result"
    }
   ],
   "source": [
    "np.sqrt(arr6)"
   ]
  },
  {
   "cell_type": "code",
   "execution_count": 48,
   "metadata": {},
   "outputs": [
    {
     "data": {
      "text/plain": [
       "573.4830555555556"
      ]
     },
     "execution_count": 48,
     "metadata": {},
     "output_type": "execute_result"
    }
   ],
   "source": [
    "np.var(arr6)"
   ]
  },
  {
   "cell_type": "code",
   "execution_count": 49,
   "metadata": {},
   "outputs": [
    {
     "data": {
      "text/plain": [
       "23.947506249201723"
      ]
     },
     "execution_count": 49,
     "metadata": {},
     "output_type": "execute_result"
    }
   ],
   "source": [
    "np.std(arr6)"
   ]
  },
  {
   "cell_type": "code",
   "execution_count": 50,
   "metadata": {},
   "outputs": [
    {
     "data": {
      "text/plain": [
       "45.0"
      ]
     },
     "execution_count": 50,
     "metadata": {},
     "output_type": "execute_result"
    }
   ],
   "source": [
    "np.percentile(arr6,45)"
   ]
  },
  {
   "cell_type": "code",
   "execution_count": 54,
   "metadata": {},
   "outputs": [
    {
     "data": {
      "text/plain": [
       "array([ 95,  70, 164, 127,  77,  98, 137, 130, 159,  62,  89, 104, 150,\n",
       "       130, 140, 102, 118,  86, 145,  75,  92,  94, 122, 157,  59,  97,\n",
       "       162, 106, 158,  93, 161,  88, 113, 122, 124, 143, 123, 101, 125,\n",
       "       150, 138,  86, 121, 135, 107, 165, 131, 105,  59, 145, 118, 134,\n",
       "       104,  94, 101,  63, 105, 164,  70, 160, 164,  63,  72,  77, 128,\n",
       "       112, 160, 165, 145, 117, 138, 151,  98,  87,  81,  63, 131,  65,\n",
       "        95,  89, 115,  64, 156, 125, 141, 125,  74, 111, 137,  56, 123,\n",
       "        95, 136, 116, 125, 156, 152,  73, 139, 145, 142,  77,  98, 107,\n",
       "       156, 129, 127, 145, 154, 146, 151,  71, 110,  76,  98, 148, 135,\n",
       "        95, 125, 129,  92, 114,  72,  70,  85, 132,  81,  94, 162, 118,\n",
       "       166,  75,  77, 114, 104, 155,  82,  55, 117,  95, 113, 147,  91,\n",
       "       118, 130, 165, 105, 128,  62, 104])"
      ]
     },
     "execution_count": 54,
     "metadata": {},
     "output_type": "execute_result"
    }
   ],
   "source": [
    "##Excercise\n",
    "## generate a random number btw 55 and 166 total of 150 using 2 as the seed number \n",
    "## reshape to 2d to the nearest rows and columns\n",
    "## find the mean,sum,median,25th percentile,65 percentile\n",
    "\n",
    "np.random.seed(2)\n",
    "arr7 = np.random.randint(55,167,150)\n",
    "arr7"
   ]
  },
  {
   "cell_type": "code",
   "execution_count": 55,
   "metadata": {},
   "outputs": [
    {
     "data": {
      "text/plain": [
       "array([[ 95,  70, 164, 127,  77,  98, 137, 130, 159,  62,  89, 104, 150,\n",
       "        130, 140],\n",
       "       [102, 118,  86, 145,  75,  92,  94, 122, 157,  59,  97, 162, 106,\n",
       "        158,  93],\n",
       "       [161,  88, 113, 122, 124, 143, 123, 101, 125, 150, 138,  86, 121,\n",
       "        135, 107],\n",
       "       [165, 131, 105,  59, 145, 118, 134, 104,  94, 101,  63, 105, 164,\n",
       "         70, 160],\n",
       "       [164,  63,  72,  77, 128, 112, 160, 165, 145, 117, 138, 151,  98,\n",
       "         87,  81],\n",
       "       [ 63, 131,  65,  95,  89, 115,  64, 156, 125, 141, 125,  74, 111,\n",
       "        137,  56],\n",
       "       [123,  95, 136, 116, 125, 156, 152,  73, 139, 145, 142,  77,  98,\n",
       "        107, 156],\n",
       "       [129, 127, 145, 154, 146, 151,  71, 110,  76,  98, 148, 135,  95,\n",
       "        125, 129],\n",
       "       [ 92, 114,  72,  70,  85, 132,  81,  94, 162, 118, 166,  75,  77,\n",
       "        114, 104],\n",
       "       [155,  82,  55, 117,  95, 113, 147,  91, 118, 130, 165, 105, 128,\n",
       "         62, 104]])"
      ]
     },
     "execution_count": 55,
     "metadata": {},
     "output_type": "execute_result"
    }
   ],
   "source": [
    "arr8 = arr7.reshape(10,15)\n",
    "arr8\n"
   ]
  },
  {
   "cell_type": "code",
   "execution_count": 56,
   "metadata": {},
   "outputs": [
    {
     "data": {
      "text/plain": [
       "114.4"
      ]
     },
     "execution_count": 56,
     "metadata": {},
     "output_type": "execute_result"
    }
   ],
   "source": [
    "np.mean(arr8)"
   ]
  },
  {
   "cell_type": "code",
   "execution_count": 57,
   "metadata": {},
   "outputs": [
    {
     "data": {
      "text/plain": [
       "17160"
      ]
     },
     "execution_count": 57,
     "metadata": {},
     "output_type": "execute_result"
    }
   ],
   "source": [
    "np.sum(arr8)"
   ]
  },
  {
   "cell_type": "code",
   "execution_count": 58,
   "metadata": {},
   "outputs": [
    {
     "data": {
      "text/plain": [
       "116.5"
      ]
     },
     "execution_count": 58,
     "metadata": {},
     "output_type": "execute_result"
    }
   ],
   "source": [
    "np.median(arr8)"
   ]
  },
  {
   "cell_type": "code",
   "execution_count": 59,
   "metadata": {},
   "outputs": [
    {
     "data": {
      "text/plain": [
       "92.0"
      ]
     },
     "execution_count": 59,
     "metadata": {},
     "output_type": "execute_result"
    }
   ],
   "source": [
    "np.percentile(arr8,25)"
   ]
  },
  {
   "cell_type": "code",
   "execution_count": 60,
   "metadata": {},
   "outputs": [
    {
     "data": {
      "text/plain": [
       "129.0"
      ]
     },
     "execution_count": 60,
     "metadata": {},
     "output_type": "execute_result"
    }
   ],
   "source": [
    "np.percentile(arr8,65)"
   ]
  },
  {
   "cell_type": "code",
   "execution_count": null,
   "metadata": {},
   "outputs": [],
   "source": []
  }
 ],
 "metadata": {
  "kernelspec": {
   "display_name": "Python 3",
   "language": "python",
   "name": "python3"
  },
  "language_info": {
   "codemirror_mode": {
    "name": "ipython",
    "version": 3
   },
   "file_extension": ".py",
   "mimetype": "text/x-python",
   "name": "python",
   "nbconvert_exporter": "python",
   "pygments_lexer": "ipython3",
   "version": "3.11.7"
  }
 },
 "nbformat": 4,
 "nbformat_minor": 2
}
