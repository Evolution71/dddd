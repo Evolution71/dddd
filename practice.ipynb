{
 "cells": [
  {
   "cell_type": "markdown",
   "id": "9cef93d8-5fef-45f9-8ea2-f16d2e7cc9fc",
   "metadata": {},
   "source": [
    "### calculation involving the sum of all the 10 marks of 50 students"
   ]
  },
  {
   "cell_type": "code",
   "execution_count": 4,
   "id": "5969edbe-c426-4d9c-8e53-23a078bd40e0",
   "metadata": {},
   "outputs": [
    {
     "name": "stdout",
     "output_type": "stream",
     "text": [
      "500\n"
     ]
    }
   ],
   "source": [
    "number_of_students = 50\n",
    "marks = 10\n",
    "print(number_of_students * marks)"
   ]
  },
  {
   "cell_type": "code",
   "execution_count": 31,
   "id": "9235a2a9-e2cc-4a08-8607-54dbb56318e1",
   "metadata": {},
   "outputs": [
    {
     "name": "stdin",
     "output_type": "stream",
     "text": [
      "Enter first number: 30\n",
      "Enter second number: 3\n"
     ]
    },
    {
     "name": "stdout",
     "output_type": "stream",
     "text": [
      "30 / 10 = 10.0\n"
     ]
    }
   ],
   "source": [
    "name1 = int(input('Enter first number:'))\n",
    "mark2 = int(input('Enter second number:'))\n",
    "print(f'{name} / {mark} = {name1 / mark2}')"
   ]
  },
  {
   "cell_type": "markdown",
   "id": "5b9a843e-39e9-4db2-b6ae-6f34442cd385",
   "metadata": {},
   "source": [
    "### John bought n balls at the rate of p price. Write a program to find the cost for all ball"
   ]
  },
  {
   "cell_type": "code",
   "execution_count": 34,
   "id": "4769c06a-9902-4b9f-8b2b-54b56effeee6",
   "metadata": {},
   "outputs": [
    {
     "name": "stdin",
     "output_type": "stream",
     "text": [
      "Enter the number of balls bought by John: 7\n",
      "Enter the cost price of balls bought by john: 27000\n"
     ]
    },
    {
     "name": "stdout",
     "output_type": "stream",
     "text": [
      "3857.1428571428573\n"
     ]
    }
   ],
   "source": [
    "num1 = int(input('Enter the number of balls bought by John:'))\n",
    "num2 = float(input('Enter the cost price of balls bought by john:'))\n",
    "cost_of_each_balls = (num2/num1)\n",
    "print(cost_of_each_balls)"
   ]
  },
  {
   "cell_type": "markdown",
   "id": "99ffc0aa-13f9-478b-8a59-9cdb7e429a5c",
   "metadata": {},
   "source": [
    "#### booleans"
   ]
  },
  {
   "cell_type": "markdown",
   "id": "1bee33d5-8d9d-4e27-b8b5-701852d9530a",
   "metadata": {},
   "source": [
    "### Write a program to restrict the flow of fluid above 30nm viscosity and dynamic viscosity above 25."
   ]
  },
  {
   "cell_type": "code",
   "execution_count": 50,
   "id": "1ba37415-e170-4c87-86ad-de5c86f7552c",
   "metadata": {},
   "outputs": [
    {
     "name": "stdin",
     "output_type": "stream",
     "text": [
      "Enter the measure of viscosity of fluid: 30\n",
      "Enter the measure of viscosity: 30\n"
     ]
    }
   ],
   "source": [
    "problem1 = int(input('Enter the measure of viscosity of fluid:'))\n",
    "problem2 = int(input('Enter the measure of viscosity:'))"
   ]
  },
  {
   "cell_type": "code",
   "execution_count": 68,
   "id": "0d22f014-f4b7-4b02-a6ad-0d6571260b4d",
   "metadata": {},
   "outputs": [
    {
     "name": "stdout",
     "output_type": "stream",
     "text": [
      "Data Scientist\n",
      "We're brother from other side of the town\n",
      "python is fun\n",
      "python is easy\n",
      "python is great\n",
      "\n",
      "python is fun\n",
      "python is easy\n",
      "python is great\n",
      "\n",
      "hello world Welcome to python class\n",
      "Ade is  12 years old\n"
     ]
    }
   ],
   "source": [
    "age = 50\n",
    "#input element\n",
    "#variables\n",
    "number1=45\n",
    "#variable naming convention\n",
    "#you cannot start with a digit\n",
    "#you cannot have a space when declaring a variable \n",
    "#yiou cannot include any special character except the underscore(_)\n",
    "#variable naming in python is case sensitive [age,Age,AGe,AGE]\n",
    "#python prefer uppercase naming style\n",
    "#DATA TYPES\n",
    "#int or integer[1,100,102,136]\n",
    "#float[12.5,1.0,2.0]\n",
    "#string '' or \"\"['james','Ade is a boy','54']\n",
    "#bulean [True or False]\n",
    "# Excercise\n",
    "#you declare four variables and assign to each variable any of the four basic data types\n",
    "age=12\n",
    "currency=3.4\n",
    "work='Data Scientist'\n",
    "proficient=True\n",
    "print(work)\n",
    "#STRING ESCAPE CHARACTER(/)\n",
    "word = 'We\\'re brother from other side of the town'\n",
    "print(word)\n",
    "#STRING NEWLINE(\\n)\n",
    "word2 = 'python is fun\\npython is easy\\npython is great'\n",
    "print(word2)\n",
    "#MULTILINE STRING\n",
    "word3 = '''\n",
    "python is fun\n",
    "python is easy\n",
    "python is great\n",
    "'''\n",
    "print(word3)\n",
    "#STRING CONCATENATION\n",
    "print('hello' + ' world' + ' Welcome to python class')\n",
    "print('Ade is ',age, 'years old')\n"
   ]
  },
  {
   "cell_type": "code",
   "execution_count": 72,
   "id": "a133297e-ed05-4f56-9b6b-fa57b700569c",
   "metadata": {},
   "outputs": [
    {
     "name": "stdout",
     "output_type": "stream",
     "text": [
      "Ade is exactly  90 years old\n"
     ]
    }
   ],
   "source": [
    "number1 = 90\n",
    "print('Ade is exactly ',number1,'years old')"
   ]
  },
  {
   "cell_type": "code",
   "execution_count": 73,
   "id": "47a4a757-17a6-4758-8e85-2201c88e483f",
   "metadata": {},
   "outputs": [
    {
     "name": "stdin",
     "output_type": "stream",
     "text": [
      "Enter the first number: 30\n",
      "Enter the sec ond number: 20\n"
     ]
    },
    {
     "name": "stdout",
     "output_type": "stream",
     "text": [
      "True\n"
     ]
    }
   ],
   "source": [
    "num1 = int(input('Enter the first number:'))\n",
    "num2 = int(input('Enter the sec ond number:'))\n",
    "print(num1 > num2)"
   ]
  },
  {
   "cell_type": "code",
   "execution_count": 75,
   "id": "a15bbfc7-2210-4aac-be3e-3f25fffd7451",
   "metadata": {},
   "outputs": [
    {
     "name": "stdout",
     "output_type": "stream",
     "text": [
      "False\n"
     ]
    }
   ],
   "source": [
    "print(num1 == num2)"
   ]
  },
  {
   "cell_type": "code",
   "execution_count": 76,
   "id": "b6d36224-eb7f-448d-bf54-44b6d35f03d6",
   "metadata": {},
   "outputs": [
    {
     "name": "stdout",
     "output_type": "stream",
     "text": [
      "False\n"
     ]
    }
   ],
   "source": [
    "print(num1 is num2)"
   ]
  },
  {
   "cell_type": "code",
   "execution_count": 79,
   "id": "d242744c-12f2-4b63-af25-4afcc6188f11",
   "metadata": {},
   "outputs": [
    {
     "name": "stdout",
     "output_type": "stream",
     "text": [
      "True\n"
     ]
    }
   ],
   "source": [
    "print(num1 is not num2)"
   ]
  },
  {
   "cell_type": "code",
   "execution_count": null,
   "id": "0be98d44-1945-4b96-91f5-d41d70277634",
   "metadata": {},
   "outputs": [],
   "source": []
  }
 ],
 "metadata": {
  "kernelspec": {
   "display_name": "Python 3 (ipykernel)",
   "language": "python",
   "name": "python3"
  },
  "language_info": {
   "codemirror_mode": {
    "name": "ipython",
    "version": 3
   },
   "file_extension": ".py",
   "mimetype": "text/x-python",
   "name": "python",
   "nbconvert_exporter": "python",
   "pygments_lexer": "ipython3",
   "version": "3.11.7"
  }
 },
 "nbformat": 4,
 "nbformat_minor": 5
}
