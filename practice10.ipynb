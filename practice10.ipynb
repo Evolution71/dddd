{
 "cells": [
  {
   "cell_type": "code",
   "execution_count": 7,
   "id": "e1d954d0-7f2a-4344-9a6b-8c6cd865e9c9",
   "metadata": {},
   "outputs": [
    {
     "name": "stdout",
     "output_type": "stream",
     "text": [
      "Please reduce the speed\n",
      "Select the desired gear\n"
     ]
    }
   ],
   "source": [
    "class carsimulation:\n",
    "           def start(self):\n",
    "               ignition = input('Enter the ignition button: ')\n",
    "           def select_gear(self):\n",
    "               print('gear choice:')\n",
    "               print('1.gear1')\n",
    "               print('2.gear2')\n",
    "               print('3.gear3')\n",
    "               print('4.gear4')\n",
    "               gear_choice = int(input('Enter the gear number(1-4):'))\n",
    "           def acceleration(self):\n",
    "               acceleration = input('Gradually step on accelaration button(up or down):')\n",
    "           if acceleration == 'up':\n",
    "               print('Increase the engine speed')\n",
    "           else:\n",
    "               print('Please reduce the speed')\n",
    "           def stop(self):\n",
    "               stop = input('Please do you wish to stop BMW 2025?(yes/no):')\n",
    "           if stop=='yes':\n",
    "               print('put the gear selection in park mood and off the ignition')\n",
    "           else:\n",
    "               print('Select the desired gear')\n",
    "           def check_ignition_status():\n",
    "               print(f'The ignition is {self.carstatus}')\n",
    "program = carsimulation()\n",
    "\n",
    "        \n",
    "    "
   ]
  },
  {
   "cell_type": "code",
   "execution_count": 8,
   "id": "f8da16ee-2e3e-4d4e-8b55-574776d97513",
   "metadata": {},
   "outputs": [
    {
     "name": "stdout",
     "output_type": "stream",
     "text": [
      "gear choice:\n",
      "1.gear1\n",
      "2.gear2\n",
      "3.gear3\n",
      "4.gear4\n"
     ]
    },
    {
     "name": "stdin",
     "output_type": "stream",
     "text": [
      "Enter the gear number(1-4): 2\n"
     ]
    }
   ],
   "source": [
    "app.select_gear()"
   ]
  },
  {
   "cell_type": "code",
   "execution_count": 9,
   "id": "2b1ede4d-2ad3-43d0-8ee0-123a09a545d7",
   "metadata": {},
   "outputs": [
    {
     "name": "stdin",
     "output_type": "stream",
     "text": [
      "Please do you wish to stop BMW 2025?(yes/no): yes\n"
     ]
    }
   ],
   "source": [
    "app.stop()"
   ]
  },
  {
   "cell_type": "code",
   "execution_count": null,
   "id": "1978cb8e-84e7-4105-81cc-3936a7cd933f",
   "metadata": {},
   "outputs": [],
   "source": []
  }
 ],
 "metadata": {
  "kernelspec": {
   "display_name": "Python 3 (ipykernel)",
   "language": "python",
   "name": "python3"
  },
  "language_info": {
   "codemirror_mode": {
    "name": "ipython",
    "version": 3
   },
   "file_extension": ".py",
   "mimetype": "text/x-python",
   "name": "python",
   "nbconvert_exporter": "python",
   "pygments_lexer": "ipython3",
   "version": "3.11.7"
  }
 },
 "nbformat": 4,
 "nbformat_minor": 5
}
