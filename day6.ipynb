{
 "cells": [
  {
   "cell_type": "code",
   "execution_count": 14,
   "id": "14cc42e5-a885-4379-8cfa-5798cfebe148",
   "metadata": {},
   "outputs": [
    {
     "name": "stdout",
     "output_type": "stream",
     "text": [
      "s\n",
      "c\n",
      "h\n",
      "o\n",
      "o\n",
      "l\n",
      "NO\n"
     ]
    }
   ],
   "source": [
    "## LOOPS\n",
    "## FOR LOOP\n",
    "## WHILLE LOOP\n",
    "word = 'school'\n",
    "for char in word:\n",
    "    print(char *1)\n",
    "    if len(word)<=4:\n",
    "        print('YES')\n",
    "else:\n",
    "    print('NO')"
   ]
  },
  {
   "cell_type": "code",
   "execution_count": 2,
   "id": "52ef39c7-375b-4775-a882-04cebcda532a",
   "metadata": {},
   "outputs": [
    {
     "name": "stdout",
     "output_type": "stream",
     "text": [
      "ssss::cccc::hhhh::oooo::oooo::llll::"
     ]
    }
   ],
   "source": [
    "word = 'school'\n",
    "for char in word:\n",
    "    print(char *4,end='::')"
   ]
  },
  {
   "cell_type": "code",
   "execution_count": 5,
   "id": "36140baa-e563-476f-aa3f-7ec4e0c16cdd",
   "metadata": {},
   "outputs": [
    {
     "name": "stdout",
     "output_type": "stream",
     "text": [
      "print\"Time to deposit money at the bank!\n",
      "print\"Time to Teach at the school!\n",
      "Withdraw at the Bank\n",
      "Study at the School\n",
      "Play Sport at the School\n",
      "Consult at the Bank\n"
     ]
    }
   ],
   "source": [
    "tasks_and_location = {\n",
    "  'Deposit':'Bank',\n",
    "    'Teach':'School',\n",
    "    'Withdraw':'Bank',\n",
    "    'Study':'School',\n",
    "    'Play Sport':'School',\n",
    "    'Consult':'Bank'\n",
    "}\n",
    "for task,location in tasks_and_location.items():\n",
    "    if location == 'Bank' and task == 'Deposit':\n",
    "        print('print\"Time to deposit money at the bank!')\n",
    "    elif location == 'School' and task == 'Teach':\n",
    "        print('print\"Time to Teach at the school!')\n",
    "    elif location == 'Bank' and task =='withdraw':\n",
    "        ptint('print\"Time to withdraw money at the bank!')\n",
    "    else:\n",
    "        print(f'{task} at the {location}')"
   ]
  },
  {
   "cell_type": "code",
   "execution_count": 1,
   "id": "71ba6175-b5df-46bd-8511-6fba0243132d",
   "metadata": {},
   "outputs": [
    {
     "name": "stdin",
     "output_type": "stream",
     "text": [
      "Enter 5 numbers separated by spaces:  45 34 22 67\n"
     ]
    },
    {
     "name": "stdout",
     "output_type": "stream",
     "text": [
      "You qualified for round two schorlarship program with point of 168\n"
     ]
    }
   ],
   "source": [
    "numbers = list(map(int,input('Enter 5 numbers separated by spaces: ').split()))\n",
    "total_sum = 0\n",
    "for i in numbers:\n",
    "    total_sum = sum(numbers)\n",
    "    if total_sum >= 50 and total_sum <= 100:\n",
    "        print(f'You qualified for round one schorlarship program with point of {total_sum}')\n",
    "        break\n",
    "    elif total_sum >= 101 and total_sum <= 200:\n",
    "        print(f'You qualified for round two schorlarship program with point of {total_sum}')\n",
    "        break\n",
    "    elif total_sum >= 201 and total_sum <= 300:\n",
    "        print(f'You qualified for round three schorlarship program with point of {total_sum}')\n",
    "        break\n",
    "    elif total_sum >= 301 and total_sum <= 400:\n",
    "        print(f'You qualified for round four schorlarship program with point of {total_sum}')\n",
    "        break\n",
    "    elif total_sum > 400:\n",
    "        print(f'You authomatically qualified for the schorlarship program with point of {total_sum}')\n",
    "        break\n",
    "    else:\n",
    "        print(f'You did not qualify for the schorlarship program with point of {total_sum}')\n",
    "        break"
   ]
  },
  {
   "cell_type": "markdown",
   "id": "e8cbcd94-7fc1-4b21-8139-1033a69c4d49",
   "metadata": {},
   "source": [
    "## YOUR ASKED TO DEVELOP A MINI PROGRAM FOR KIDS TO GUESS ANY RANDOM NUMBER GENERATED BTW 1 TO 20\n",
    "## WRITE A CONDITION TO THE USER WHEN THEIR GUESS IS HIGHER LOWER OR EQUAL TO THE RANDOM NUMBER\n",
    "## FINALLY IF THE USER FAILS TO GUESS THE CORRECT NUMBER AFYER FIVE ATTEMPT TELL THEM THEY FAILED BUT IF RIGHT THEY ARE CORRECT\n"
   ]
  },
  {
   "cell_type": "code",
   "execution_count": 3,
   "id": "9dbffd2c-7612-41d2-ae26-5fc6236cecec",
   "metadata": {},
   "outputs": [
    {
     "name": "stdin",
     "output_type": "stream",
     "text": [
      "Guess a number between 1 and 20:  8\n"
     ]
    },
    {
     "name": "stdout",
     "output_type": "stream",
     "text": [
      "Your guess is High\n"
     ]
    },
    {
     "name": "stdin",
     "output_type": "stream",
     "text": [
      "Guess a number between 1 and 20:  14\n"
     ]
    },
    {
     "name": "stdout",
     "output_type": "stream",
     "text": [
      "Your guess is High\n"
     ]
    },
    {
     "name": "stdin",
     "output_type": "stream",
     "text": [
      "Guess a number between 1 and 20:  13\n"
     ]
    },
    {
     "name": "stdout",
     "output_type": "stream",
     "text": [
      "Your guess is High\n"
     ]
    },
    {
     "name": "stdin",
     "output_type": "stream",
     "text": [
      "Guess a number between 1 and 20:  7\n"
     ]
    },
    {
     "name": "stdout",
     "output_type": "stream",
     "text": [
      "Your guess is High\n"
     ]
    },
    {
     "name": "stdin",
     "output_type": "stream",
     "text": [
      "Guess a number between 1 and 20:  9\n"
     ]
    },
    {
     "name": "stdout",
     "output_type": "stream",
     "text": [
      "Your guess is High\n",
      "Sorry Maximum attempt reached you failed....\n"
     ]
    }
   ],
   "source": [
    "import random\n",
    "number = random.randint(1,20)\n",
    "counter = 1\n",
    "while counter <= 5:\n",
    "    guess = int(input('Guess a number between 1 and 20: '))\n",
    "    counter = counter + 1\n",
    "    if guess > number:\n",
    "        print('Your guess is High')\n",
    "    elif guess < number:\n",
    "        print('Your guess is Low')\n",
    "    elif guess == number:\n",
    "        print('Congratulations your guess is Right')\n",
    "        break\n",
    "else:\n",
    "    print('Sorry Maximum attempt reached you failed....')"
   ]
  },
  {
   "cell_type": "code",
   "execution_count": null,
   "id": "4afdf7c4-7aec-4fc9-9ef8-dd5d395d8542",
   "metadata": {},
   "outputs": [],
   "source": []
  }
 ],
 "metadata": {
  "kernelspec": {
   "display_name": "Python 3 (ipykernel)",
   "language": "python",
   "name": "python3"
  },
  "language_info": {
   "codemirror_mode": {
    "name": "ipython",
    "version": 3
   },
   "file_extension": ".py",
   "mimetype": "text/x-python",
   "name": "python",
   "nbconvert_exporter": "python",
   "pygments_lexer": "ipython3",
   "version": "3.11.7"
  }
 },
 "nbformat": 4,
 "nbformat_minor": 5
}
